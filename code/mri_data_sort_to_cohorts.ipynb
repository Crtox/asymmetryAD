{
 "cells": [
  {
   "cell_type": "markdown",
   "metadata": {},
   "source": [
    "## Sorting data to cohorts\n",
    "In this file I sort the data based on the MRIT1_elim.csv. I will create 4 cohorts:  <br>\n",
    "cohort name:         (UDSD, ALZD)<br>\n",
    "normal cognition:    (1, 0)<br>\n",
    "alzheimer's disease: (4, 1)<br>\n",
    "mci on way to alzd:  (3, 1)<br>\n",
    "transition cohort:   every transitions, for exaple (3, 1) ---> (4, 1)<br>"
   ]
  },
  {
   "cell_type": "code",
   "execution_count": 18,
   "metadata": {},
   "outputs": [],
   "source": [
    "import pandas as pd\n",
    "import matplotlib.pyplot as plt\n",
    "import numpy as np"
   ]
  },
  {
   "cell_type": "code",
   "execution_count": 19,
   "metadata": {},
   "outputs": [],
   "source": [
    "loadPath = \"../data/\"\n",
    "writePath = \"../../NACC_data/sorted_cohorts/\"\n",
    "savePath = \"../results/\""
   ]
  },
  {
   "cell_type": "markdown",
   "metadata": {},
   "source": [
    "Reading the .csv file."
   ]
  },
  {
   "cell_type": "code",
   "execution_count": 20,
   "metadata": {},
   "outputs": [],
   "source": [
    "df = pd.read_csv(loadPath + 'MRIT1_elim.csv')"
   ]
  },
  {
   "cell_type": "code",
   "execution_count": 21,
   "metadata": {},
   "outputs": [
    {
     "name": "stdout",
     "output_type": "stream",
     "text": [
      "898\n"
     ]
    }
   ],
   "source": [
    "print(df['NACCID'].nunique())"
   ]
  },
  {
   "cell_type": "markdown",
   "metadata": {},
   "source": [
    "Creating 4 empty arrays (4 groups), that will store NACCIDS based on given criteria."
   ]
  },
  {
   "cell_type": "code",
   "execution_count": 38,
   "metadata": {},
   "outputs": [],
   "source": [
    "nc = []                 # normal cognition\n",
    "mci = []                # mci\n",
    "alz = []               # alzheimer's disease\n",
    "trans = []              # transitional array"
   ]
  },
  {
   "cell_type": "code",
   "execution_count": 39,
   "metadata": {},
   "outputs": [],
   "source": [
    "for naccid in df['NACCID'].unique():\n",
    "\n",
    "    patient = df[df['NACCID'] == naccid]\n",
    "\n",
    "    a = len(patient)\n",
    "\n",
    "    udsd = [row['NACCUDSD'] for idx, row in patient.iterrows()]\n",
    "    alzd = [row['NACCALZD'] for idx, row in patient.iterrows()]\n",
    "\n",
    "    if (udsd.count(1), alzd.count(8)) == (a, a):\n",
    "        nc.append(naccid)\n",
    "\n",
    "    elif (udsd.count(4), alzd.count(1)) == (a, a):\n",
    "        alz.append(naccid)\n",
    "\n",
    "    elif (udsd.count(3), alzd.count(1)) == (a, a):\n",
    "        mci.append(naccid)\n",
    "\n",
    "    else:\n",
    "        trans.append(naccid)\n"
   ]
  },
  {
   "cell_type": "markdown",
   "metadata": {},
   "source": [
    "IMPORTANT: I deleted 3 patients by hand in trans, since they were extreme cases WLOG."
   ]
  },
  {
   "cell_type": "code",
   "execution_count": 42,
   "metadata": {},
   "outputs": [
    {
     "name": "stdout",
     "output_type": "stream",
     "text": [
      "898\n",
      "64\n"
     ]
    }
   ],
   "source": [
    "print(len(nc) + len(mci) + len(alz) + len(trans))\n",
    "print(len(alz))"
   ]
  },
  {
   "cell_type": "markdown",
   "metadata": {},
   "source": [
    "Filtering the data."
   ]
  },
  {
   "cell_type": "code",
   "execution_count": 43,
   "metadata": {},
   "outputs": [],
   "source": [
    "df_nc = df[df['NACCID'].isin(nc)]\n",
    "df_mci = df[df['NACCID'].isin(mci)]\n",
    "df_alz = df[df['NACCID'].isin(alz)]\n",
    "df_trans = df[df['NACCID'].isin(trans)]"
   ]
  },
  {
   "cell_type": "markdown",
   "metadata": {},
   "source": [
    "Sanity check."
   ]
  },
  {
   "cell_type": "code",
   "execution_count": 45,
   "metadata": {},
   "outputs": [
    {
     "name": "stdout",
     "output_type": "stream",
     "text": [
      "898\n"
     ]
    }
   ],
   "source": [
    "print(df_nc['NACCID'].nunique() + df_mci['NACCID'].nunique() +\n",
    "      df_alz['NACCID'].nunique() + df_trans['NACCID'].nunique())"
   ]
  },
  {
   "cell_type": "code",
   "execution_count": 47,
   "metadata": {},
   "outputs": [
    {
     "name": "stdout",
     "output_type": "stream",
     "text": [
      "Data writing to CSV complete!\n"
     ]
    }
   ],
   "source": [
    "df_nc.to_csv(writePath + 'NC/nc.csv', index=False)\n",
    "df_mci.to_csv(writePath + 'MCI/mci.csv', index=False)\n",
    "df_alz.to_csv(writePath + 'ALZD/alzd.csv', index=False)\n",
    "df_trans.to_csv(writePath + 'TRANS/trans.csv', index=False)\n",
    "\n",
    "\n",
    "print(\"Data writing to CSV complete!\")"
   ]
  }
 ],
 "metadata": {
  "kernelspec": {
   "display_name": "Python 3",
   "language": "python",
   "name": "python3"
  },
  "language_info": {
   "codemirror_mode": {
    "name": "ipython",
    "version": 3
   },
   "file_extension": ".py",
   "mimetype": "text/x-python",
   "name": "python",
   "nbconvert_exporter": "python",
   "pygments_lexer": "ipython3",
   "version": "3.12.6"
  }
 },
 "nbformat": 4,
 "nbformat_minor": 2
}
