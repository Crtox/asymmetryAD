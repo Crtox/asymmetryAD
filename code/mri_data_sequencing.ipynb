{
 "cells": [
  {
   "cell_type": "markdown",
   "metadata": {},
   "source": [
    "## Narrowing the data based on sequencing type\n",
    "Previously I sorted data to 4 cohort (check \"mri_data_sort_to_cohorts.ipynb\"). <br>\n",
    "Now I want to keep only relevant sequencing types: MPRAGE and FSPGR. <br> \n",
    "<br>\n",
    "In my 4 cohorts you can find 3 different naming conventions. I will provide 3 examples, one from each type: <br>\n",
    "1) 1018_NACC282203_20170908ni <br>\n",
    "2) mri129ni<br>\n",
    "3) NACC497363_128401136192134176253428319601354034337135ni<br> \n",
    "\n",
    "The 1) all have MPRAGE sequencing, the 2) all have FSPGR sequencing and some of 3) have FSPGR, some MPRAGE."
   ]
  },
  {
   "cell_type": "markdown",
   "metadata": {},
   "source": [
    "### 1) 1018_NACC282203_20170908ni\n",
    "Directory structure: <br>\n",
    "<br>\n",
    "1018_NACC282203_20170908ni \n",
    "- 1018_NACC282203_20170908 \n",
    "   - Mag_Images_17_1312211075219452552017090815014550782025439000\n",
    "   - mIP_ImagesSW_19_1312211075219452552017090815014550780625438000\n",
    "   - MPRAGE_GRAPPA2_6_1312211075219452552017090814552268696468275000\n",
    "   - Pha_Images_18_1312211075219452552017090815014550782825440000\n",
    "   - SWI_Images_20_1312211075219452552017090815014550784425442000\n",
    "   - T2FLAIRSPACENEW_7_1312211075219452552017090814555267209169171000"
   ]
  }
 ],
 "metadata": {
  "language_info": {
   "name": "python"
  }
 },
 "nbformat": 4,
 "nbformat_minor": 2
}
