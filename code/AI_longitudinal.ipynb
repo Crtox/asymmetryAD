{
 "cells": [
  {
   "cell_type": "markdown",
   "metadata": {},
   "source": [
    "# Longitudinal analysis of asymmetry index\n",
    "Črt Rozman <br>\n",
    "October 2024 <br>\n",
    "In this file I will do longitudinal analysis of asymmetry index (AI). I want to look at trajectories of AI during different timepoints, for NC, MCI, demented and transition patients(those whose cognition status declined over time). I want to look at AI for whole brain region and also individual regions, such as frontal lobe, temporal lobe and hippocampus. "
   ]
  },
  {
   "cell_type": "code",
   "execution_count": 2,
   "metadata": {},
   "outputs": [],
   "source": [
    "# Import necessary libraries\n",
    "import os\n",
    "import numpy as np\n",
    "import nibabel as nib\n",
    "import matplotlib.pyplot as plt"
   ]
  },
  {
   "cell_type": "code",
   "execution_count": 3,
   "metadata": {},
   "outputs": [],
   "source": [
    "# importing functions from \"AI_longitudinal_functions.py\"\n",
    "from AI_longitudinal_functions import *"
   ]
  },
  {
   "cell_type": "code",
   "execution_count": 4,
   "metadata": {},
   "outputs": [],
   "source": [
    "# paths to preprocessed and sorted cohorts \n",
    "ncPath = '../../NACC_data/sorted_preprocessed_cohorts/NC/'\n",
    "mciPath = '../../NACC_data/sorted_preprocessed_cohorts/MCI/'\n",
    "alzdPath = '../../NACC_data/sorted_preprocessed_cohorts/ALZD/'\n",
    "transPath = '../../NACC_data/sorted_preprocessed_cohorts/TRANS/'"
   ]
  },
  {
   "cell_type": "code",
   "execution_count": 5,
   "metadata": {},
   "outputs": [],
   "source": [
    "ncPath = os.path.abspath(ncPath)\n",
    "mciPath = os.path.abspath(mciPath)\n",
    "alzdPath = os.path.abspath(alzdPath)\n",
    "transPath = os.path.abspath(transPath)\n",
    "\n",
    "# Modify the absolute path for long path support on Windows\n",
    "if os.name == 'nt':                     # Check if the operating system is Windows\n",
    "    ncPath = '\\\\\\\\?\\\\' + ncPath\n",
    "    mciPath = '\\\\\\\\?\\\\' + mciPath\n",
    "    alzdPath = '\\\\\\\\?\\\\' + alzdPath\n",
    "    transPath = '\\\\\\\\?\\\\' + transPath"
   ]
  },
  {
   "cell_type": "code",
   "execution_count": 6,
   "metadata": {},
   "outputs": [],
   "source": [
    "# paths to .csv files that store information about patients' scans. \n",
    "csv_ncPath = \"../../NACC_data/sorted_preprocessed_cohorts/0csv/nc.csv\"\n",
    "csv_mciPath = \"../../NACC_data/sorted_preprocessed_cohorts/0csv/mci.csv\"\n",
    "csv_alzdPath = \"../../NACC_data/sorted_preprocessed_cohorts/0csv/alzd.csv\"\n",
    "csv_transPath = \"../../NACC_data/sorted_preprocessed_cohorts/0csv/trans.csv\""
   ]
  },
  {
   "cell_type": "code",
   "execution_count": 7,
   "metadata": {},
   "outputs": [],
   "source": [
    "# mask path\n",
    "maskPath = 'C:/Users/Crt/Documents/WIMR/asymmetryAD/UW_data/AAL3+pons/'"
   ]
  },
  {
   "cell_type": "markdown",
   "metadata": {},
   "source": [
    "Loading the dictionary that stored NACCID as keys and all the .nii files that correspond to that NACCID, separately for FSPGR and MPRAGE."
   ]
  },
  {
   "cell_type": "code",
   "execution_count": 8,
   "metadata": {},
   "outputs": [],
   "source": [
    "wbet_fspgr = filepaths_dictionary(alzdPath, csv_alzdPath)[0]\n",
    "wbet_mprage = filepaths_dictionary(alzdPath, csv_alzdPath)[1]"
   ]
  },
  {
   "cell_type": "code",
   "execution_count": 9,
   "metadata": {},
   "outputs": [
    {
     "name": "stdout",
     "output_type": "stream",
     "text": [
      "8\n"
     ]
    }
   ],
   "source": [
    "print(len(wbet_mprage))"
   ]
  },
  {
   "cell_type": "code",
   "execution_count": 10,
   "metadata": {},
   "outputs": [],
   "source": [
    "fspgr_data = flatten_and_normalize_across_all(wbet_fspgr)\n",
    "mprage_data = flatten_and_normalize_across_all(wbet_mprage)"
   ]
  },
  {
   "cell_type": "code",
   "execution_count": 11,
   "metadata": {},
   "outputs": [
    {
     "name": "stdout",
     "output_type": "stream",
     "text": [
      "8\n",
      "(902629, 2)\n",
      "(902629, 2)\n",
      "(902629, 2)\n",
      "(902629, 2)\n",
      "(902629, 4)\n",
      "(902629, 4)\n",
      "(902629, 3)\n",
      "(902629, 2)\n"
     ]
    }
   ],
   "source": [
    "print(len(mprage_data))\n",
    "for naccid, data in mprage_data.items():\n",
    "    print(data.shape)"
   ]
  },
  {
   "cell_type": "markdown",
   "metadata": {},
   "source": [
    "Getting mask by hemispheres."
   ]
  },
  {
   "cell_type": "code",
   "execution_count": 13,
   "metadata": {},
   "outputs": [],
   "source": [
    "left_hemisphere_mask = mask_hemispheres(maskPath + 'AAL3+pons.nii', maskPath + 'AAL3+pons.txt', flatten=True)[0]\n",
    "right_hemisphere_mask = mask_hemispheres(maskPath + 'AAL3+pons.nii', maskPath + 'AAL3+pons.txt', flatten=True)[1]"
   ]
  },
  {
   "cell_type": "markdown",
   "metadata": {},
   "source": [
    "Getting mask by regions."
   ]
  },
  {
   "cell_type": "code",
   "execution_count": 14,
   "metadata": {},
   "outputs": [],
   "source": [
    "mask_L_frontal_lobe = mask_regions(maskPath, flatten=True)[0]\n",
    "mask_R_frontal_lobe = mask_regions(maskPath, flatten=True)[1]\n",
    "mask_L_temporal_lobe = mask_regions(maskPath, flatten=True)[2]\n",
    "mask_R_temporal_lobe = mask_regions(maskPath, flatten=True)[3]\n",
    "mask_L_hippocampus = mask_regions(maskPath, flatten=True)[4]\n",
    "mask_R_hippocampus = mask_regions(maskPath, flatten=True)[5]"
   ]
  }
 ],
 "metadata": {
  "kernelspec": {
   "display_name": "Python 3",
   "language": "python",
   "name": "python3"
  },
  "language_info": {
   "codemirror_mode": {
    "name": "ipython",
    "version": 3
   },
   "file_extension": ".py",
   "mimetype": "text/x-python",
   "name": "python",
   "nbconvert_exporter": "python",
   "pygments_lexer": "ipython3",
   "version": "3.12.6"
  }
 },
 "nbformat": 4,
 "nbformat_minor": 2
}
