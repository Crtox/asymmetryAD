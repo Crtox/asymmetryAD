{
 "cells": [
  {
   "cell_type": "markdown",
   "metadata": {},
   "source": [
    "## Narrowing the data based on sequencing type\n",
    "Previously I sorted data to 4 cohort (check \"mri_data_sort_to_cohorts.ipynb\"). <br>\n",
    "Now I want to keep only relevant sequencing types: MPRAGE and FSPGR. <br> \n",
    "<br>\n",
    "In my 4 cohorts you can find 3 different naming conventions. I will provide 3 examples, one from each type: <br>\n",
    "1) 1018_NACC282203_20170908ni <br>\n",
    "2) mri129ni<br>\n",
    "3) NACC497363_128401136192134176253428319601354034337135ni<br> \n",
    "\n",
    "The 1) all have MPRAGE sequencing, the 2) all have FSPGR sequencing and some of 3) have FSPGR, some MPRAGE."
   ]
  },
  {
   "cell_type": "code",
   "execution_count": 1,
   "metadata": {},
   "outputs": [],
   "source": [
    "import pandas as pd\n",
    "import matplotlib.pyplot as plt\n",
    "import numpy as np\n",
    "import os \n",
    "import re\n",
    "import shutil\n",
    "import pathlib"
   ]
  },
  {
   "cell_type": "code",
   "execution_count": 2,
   "metadata": {},
   "outputs": [],
   "source": [
    "ncPath = '../../NACC_data/sorted_cohorts/NC/'\n",
    "mciPath = '../../NACC_data/sorted_cohorts/MCI/'\n",
    "alzdPath = '../../NACC_data/sorted_cohorts/ALZD/'\n",
    "transPath = '../../NACC_data/sorted_cohorts/TRANS/'"
   ]
  },
  {
   "cell_type": "code",
   "execution_count": 3,
   "metadata": {},
   "outputs": [],
   "source": [
    "# Convert the relative path to an absolute path\n",
    "ncPath = os.path.abspath(ncPath)\n",
    "mciPath = os.path.abspath(mciPath)\n",
    "alzdPath = os.path.abspath(alzdPath)\n",
    "transPath = os.path.abspath(transPath)\n",
    "\n",
    "# Modify the absolute path for long path support on Windows\n",
    "if os.name == 'nt':                     # Check if the operating system is Windows\n",
    "    ncPath = '\\\\\\\\?\\\\' + ncPath\n",
    "    mciPath = '\\\\\\\\?\\\\' + mciPath\n",
    "    alzdPath = '\\\\\\\\?\\\\' + alzdPath\n",
    "    transPath = '\\\\\\\\?\\\\' + transPath"
   ]
  },
  {
   "cell_type": "code",
   "execution_count": 4,
   "metadata": {},
   "outputs": [
    {
     "name": "stdout",
     "output_type": "stream",
     "text": [
      "Modified path for Windows: \\\\?\\c:\\Users\\Crt\\Desktop\\WIMR\\asymmetryAD\\NACC_data\\sorted_cohorts\\NC\n",
      "Modified path for Windows: \\\\?\\c:\\Users\\Crt\\Desktop\\WIMR\\asymmetryAD\\NACC_data\\sorted_cohorts\\MCI\n",
      "Modified path for Windows: \\\\?\\c:\\Users\\Crt\\Desktop\\WIMR\\asymmetryAD\\NACC_data\\sorted_cohorts\\ALZD\n",
      "Modified path for Windows: \\\\?\\c:\\Users\\Crt\\Desktop\\WIMR\\asymmetryAD\\NACC_data\\sorted_cohorts\\TRANS\n"
     ]
    }
   ],
   "source": [
    "print(f\"Modified path for Windows: {ncPath}\")\n",
    "print(f\"Modified path for Windows: {mciPath}\")\n",
    "print(f\"Modified path for Windows: {alzdPath}\")\n",
    "print(f\"Modified path for Windows: {transPath}\")"
   ]
  },
  {
   "cell_type": "markdown",
   "metadata": {},
   "source": [
    "### 1) 1018_NACC282203_20170908ni\n",
    "Directory structure example: <br>\n",
    "<br>\n",
    "1018_NACC282203_20170908ni \n",
    "- 1018_NACC282203_20170908 \n",
    "    - Mag_Images_17_1312211075219452552017090815014550782025439000\n",
    "    - mIP_ImagesSW_19_1312211075219452552017090815014550780625438000\n",
    "    - MPRAGE_GRAPPA2_6_1312211075219452552017090814552268696468275000\n",
    "    - Pha_Images_18_1312211075219452552017090815014550782825440000\n",
    "    - SWI_Images_20_1312211075219452552017090815014550784425442000\n",
    "    - T2FLAIRSPACENEW_7_1312211075219452552017090814555267209169171000\n",
    "\n",
    "I will only keep the MPRAGE folder and delete the others."
   ]
  },
  {
   "cell_type": "markdown",
   "metadata": {},
   "source": [
    "Converting the paths, sice Windows has a limit to 260 characters in paths, which causes errors in this case."
   ]
  },
  {
   "cell_type": "code",
   "execution_count": 5,
   "metadata": {},
   "outputs": [],
   "source": [
    "# Regular expression pattern for folder names starting with 4 digits followed by an underscore\n",
    "pattern = r'^\\d{4}_'"
   ]
  },
  {
   "cell_type": "code",
   "execution_count": 6,
   "metadata": {},
   "outputs": [],
   "source": [
    "# List to store the matching folders\n",
    "matching_folders = []\n",
    "\n",
    "# Iterate over the items in the directory\n",
    "for item in os.listdir(ncPath):\n",
    "    item_path = os.path.join(ncPath, item)\n",
    "    \n",
    "    # Check if the item is a folder and matches the pattern\n",
    "    if os.path.isdir(item_path) and re.match(pattern, item):\n",
    "        matching_folders.append(item_path)"
   ]
  },
  {
   "cell_type": "code",
   "execution_count": 7,
   "metadata": {},
   "outputs": [
    {
     "name": "stdout",
     "output_type": "stream",
     "text": [
      "\\\\?\\c:\\Users\\Crt\\Desktop\\WIMR\\asymmetryAD\\NACC_data\\sorted_cohorts\\NC\\1018_NACC282203_20170908ni\n",
      "\\\\?\\c:\\Users\\Crt\\Desktop\\WIMR\\asymmetryAD\\NACC_data\\sorted_cohorts\\NC\\1018_NACC282203_20201106ni\n",
      "\\\\?\\c:\\Users\\Crt\\Desktop\\WIMR\\asymmetryAD\\NACC_data\\sorted_cohorts\\NC\\1018_NACC711567_20200114ni\n",
      "\\\\?\\c:\\Users\\Crt\\Desktop\\WIMR\\asymmetryAD\\NACC_data\\sorted_cohorts\\NC\\1018_NACC711567_20201214ni\n",
      "\\\\?\\c:\\Users\\Crt\\Desktop\\WIMR\\asymmetryAD\\NACC_data\\sorted_cohorts\\NC\\1018_NACC822475_20171116ni\n",
      "\\\\?\\c:\\Users\\Crt\\Desktop\\WIMR\\asymmetryAD\\NACC_data\\sorted_cohorts\\NC\\1018_NACC822475_20201119ni\n"
     ]
    }
   ],
   "source": [
    "for folder in matching_folders:\n",
    "    print(folder)"
   ]
  },
  {
   "cell_type": "code",
   "execution_count": 8,
   "metadata": {},
   "outputs": [],
   "source": [
    "# Regular expression for MPRAGE subfolder\n",
    "keep_prefix = 'MPRAGE'"
   ]
  },
  {
   "cell_type": "markdown",
   "metadata": {},
   "source": [
    "This is commented, since it ran only once (to delete folders)."
   ]
  },
  {
   "cell_type": "code",
   "execution_count": 9,
   "metadata": {},
   "outputs": [
    {
     "name": "stdout",
     "output_type": "stream",
     "text": [
      "Kept: \\\\?\\c:\\Users\\Crt\\Desktop\\WIMR\\asymmetryAD\\NACC_data\\sorted_cohorts\\NC\\1018_NACC282203_20170908ni\\1018_NACC282203_20170908\\MPRAGE_GRAPPA2_6_1312211075219452552017090814552268696468275000\n",
      "Kept: \\\\?\\c:\\Users\\Crt\\Desktop\\WIMR\\asymmetryAD\\NACC_data\\sorted_cohorts\\NC\\1018_NACC282203_20201106ni\\1018_NACC282203_20201106\\MPRAGE_GRAPPA2_6_1312211075219452552020110610432126420639580000\n",
      "Kept: \\\\?\\c:\\Users\\Crt\\Desktop\\WIMR\\asymmetryAD\\NACC_data\\sorted_cohorts\\NC\\1018_NACC711567_20200114ni\\1018_NACC711567_20200114\\MPRAGE_GRAPPA2_6_1312211075219452552020011409045885927639580000\n",
      "Kept: \\\\?\\c:\\Users\\Crt\\Desktop\\WIMR\\asymmetryAD\\NACC_data\\sorted_cohorts\\NC\\1018_NACC711567_20201214ni\\1018_NACC711567_20201214\\MPRAGE_GRAPPA2_6_131221107521945255202012140935373703439580000\n",
      "Kept: \\\\?\\c:\\Users\\Crt\\Desktop\\WIMR\\asymmetryAD\\NACC_data\\sorted_cohorts\\NC\\1018_NACC822475_20171116ni\\1018_NACC822475_20171116\\MPRAGE_GRAPPA2_6_131221107521945255201711161545017450704733000\n",
      "Kept: \\\\?\\c:\\Users\\Crt\\Desktop\\WIMR\\asymmetryAD\\NACC_data\\sorted_cohorts\\NC\\1018_NACC822475_20201119ni\\1018_NACC822475_20201119\\MPRAGE_GRAPPA2_6_1312211075219452552020111910475241727044602000\n"
     ]
    }
   ],
   "source": [
    "# Loop through each folder in matching_folders\n",
    "for folder in matching_folders:\n",
    "\n",
    "    # Get the path to the subfolder (e.g., 1018_NACC282203_20170908)\n",
    "    subfolder_path = os.path.join(folder, os.listdir(folder)[0])         # only 1 subfolder exists at this level\n",
    "\n",
    "    # List all subfolders in the subfolder_path\n",
    "    subfolders = os.listdir(subfolder_path)\n",
    "\n",
    "    for subfolder in subfolders:\n",
    "        \n",
    "        subfolder_full_path = os.path.join(subfolder_path, subfolder)\n",
    "        \n",
    "        # Check if the subfolder name starts with 'MPRAGE'\n",
    "        if os.path.isdir(subfolder_full_path) and not subfolder.startswith(keep_prefix):\n",
    "\n",
    "            # If the subfolder doesn't start with 'MPRAGE', delete it\n",
    "            #shutil.rmtree(subfolder_full_path)\n",
    "            print(f\"Deleted: {subfolder_full_path}\")\n",
    "        \n",
    "        else:\n",
    "            print(f\"Kept: {subfolder_full_path}\")"
   ]
  },
  {
   "cell_type": "markdown",
   "metadata": {},
   "source": [
    "### 2) mri129ni\n",
    "Directory structure example: <br>\n",
    "<br>\n",
    "mri129ni\n",
    "- s5_dti_DTI\n",
    "- s6_bravo_T1\n",
    "- s8_cubet2_T2\n",
    "- s9_cubet2flair_T2_Flair\n",
    "\n",
    "I will keep only the s6_bravo_T1 subflolder (all the subfolders that have T1 in their names)."
   ]
  },
  {
   "cell_type": "markdown",
   "metadata": {},
   "source": [
    "IMPORTANT: not every mri folder has this substructure. Some look like this: <br>\n",
    "<br>\n",
    "mri1900ni\n",
    "- scans\n",
    "    - many subfolders\n",
    "\n",
    "or like this: <br>\n",
    "<br>\n",
    "mri6615ni\n",
    "- DICOM\n",
    "    - many files\n",
    "\n",
    "or like this <br>\n",
    "<br>\n",
    "mri8192ni\n",
    "- NACC581039\n",
    "    - nacc\n",
    "        - many subfolder\n",
    "\n",
    "Probably there are other structures, just keep this in mind."
   ]
  },
  {
   "cell_type": "code",
   "execution_count": 58,
   "metadata": {},
   "outputs": [],
   "source": [
    "pattern = 'mri'"
   ]
  },
  {
   "cell_type": "code",
   "execution_count": 59,
   "metadata": {},
   "outputs": [],
   "source": [
    "# List to store the matching folders\n",
    "matching_folders = []\n",
    "\n",
    "# Iterate over the items in the directory (change Path names to access different cohorts)\n",
    "for item in os.listdir(mciPath):\n",
    "    item_path = os.path.join(mciPath, item)\n",
    "    \n",
    "    # Check if the item is a folder and matches the pattern\n",
    "    if os.path.isdir(item_path) and re.match(pattern, item):\n",
    "        matching_folders.append(item_path)"
   ]
  },
  {
   "cell_type": "code",
   "execution_count": 60,
   "metadata": {},
   "outputs": [
    {
     "name": "stdout",
     "output_type": "stream",
     "text": [
      "\\\\?\\c:\\Users\\Crt\\Desktop\\WIMR\\asymmetryAD\\NACC_data\\sorted_cohorts\\MCI\\mri141ni\n",
      "\\\\?\\c:\\Users\\Crt\\Desktop\\WIMR\\asymmetryAD\\NACC_data\\sorted_cohorts\\MCI\\mri2714ni\n",
      "\\\\?\\c:\\Users\\Crt\\Desktop\\WIMR\\asymmetryAD\\NACC_data\\sorted_cohorts\\MCI\\mri3249ni\n",
      "\\\\?\\c:\\Users\\Crt\\Desktop\\WIMR\\asymmetryAD\\NACC_data\\sorted_cohorts\\MCI\\mri3426ni\n",
      "\\\\?\\c:\\Users\\Crt\\Desktop\\WIMR\\asymmetryAD\\NACC_data\\sorted_cohorts\\MCI\\mri4012ni\n",
      "\\\\?\\c:\\Users\\Crt\\Desktop\\WIMR\\asymmetryAD\\NACC_data\\sorted_cohorts\\MCI\\mri4031ni\n",
      "\\\\?\\c:\\Users\\Crt\\Desktop\\WIMR\\asymmetryAD\\NACC_data\\sorted_cohorts\\MCI\\mri5084ni\n",
      "\\\\?\\c:\\Users\\Crt\\Desktop\\WIMR\\asymmetryAD\\NACC_data\\sorted_cohorts\\MCI\\mri5086ni\n",
      "\\\\?\\c:\\Users\\Crt\\Desktop\\WIMR\\asymmetryAD\\NACC_data\\sorted_cohorts\\MCI\\mri5089ni\n",
      "\\\\?\\c:\\Users\\Crt\\Desktop\\WIMR\\asymmetryAD\\NACC_data\\sorted_cohorts\\MCI\\mri5090ni\n",
      "\\\\?\\c:\\Users\\Crt\\Desktop\\WIMR\\asymmetryAD\\NACC_data\\sorted_cohorts\\MCI\\mri5145ni\n",
      "\\\\?\\c:\\Users\\Crt\\Desktop\\WIMR\\asymmetryAD\\NACC_data\\sorted_cohorts\\MCI\\mri5224ni\n",
      "\\\\?\\c:\\Users\\Crt\\Desktop\\WIMR\\asymmetryAD\\NACC_data\\sorted_cohorts\\MCI\\mri5431ni\n",
      "\\\\?\\c:\\Users\\Crt\\Desktop\\WIMR\\asymmetryAD\\NACC_data\\sorted_cohorts\\MCI\\mri6063ni\n",
      "\\\\?\\c:\\Users\\Crt\\Desktop\\WIMR\\asymmetryAD\\NACC_data\\sorted_cohorts\\MCI\\mri6108ni\n",
      "\\\\?\\c:\\Users\\Crt\\Desktop\\WIMR\\asymmetryAD\\NACC_data\\sorted_cohorts\\MCI\\mri7056ni\n",
      "\\\\?\\c:\\Users\\Crt\\Desktop\\WIMR\\asymmetryAD\\NACC_data\\sorted_cohorts\\MCI\\mri7508ni\n",
      "\\\\?\\c:\\Users\\Crt\\Desktop\\WIMR\\asymmetryAD\\NACC_data\\sorted_cohorts\\MCI\\mri7548ni\n",
      "\\\\?\\c:\\Users\\Crt\\Desktop\\WIMR\\asymmetryAD\\NACC_data\\sorted_cohorts\\MCI\\mri8015ni\n",
      "\\\\?\\c:\\Users\\Crt\\Desktop\\WIMR\\asymmetryAD\\NACC_data\\sorted_cohorts\\MCI\\mri8139ni\n",
      "\\\\?\\c:\\Users\\Crt\\Desktop\\WIMR\\asymmetryAD\\NACC_data\\sorted_cohorts\\MCI\\mri8143ni\n",
      "\\\\?\\c:\\Users\\Crt\\Desktop\\WIMR\\asymmetryAD\\NACC_data\\sorted_cohorts\\MCI\\mri8177ni\n",
      "\\\\?\\c:\\Users\\Crt\\Desktop\\WIMR\\asymmetryAD\\NACC_data\\sorted_cohorts\\MCI\\mri8188ni\n",
      "\\\\?\\c:\\Users\\Crt\\Desktop\\WIMR\\asymmetryAD\\NACC_data\\sorted_cohorts\\MCI\\mri8189ni\n",
      "\\\\?\\c:\\Users\\Crt\\Desktop\\WIMR\\asymmetryAD\\NACC_data\\sorted_cohorts\\MCI\\mri8836ni\n"
     ]
    }
   ],
   "source": [
    "for folder in matching_folders:\n",
    "    print(folder)"
   ]
  },
  {
   "cell_type": "code",
   "execution_count": 61,
   "metadata": {},
   "outputs": [],
   "source": [
    "# Regular expression for T1 subfolder\n",
    "T1_prefix = 'T1'\n",
    "nacc_prefix = 'NACC'\n",
    "mprage_prefix = 'MPRAGE'\n",
    "fspgr_prefix = 'FSPGR'"
   ]
  },
  {
   "cell_type": "code",
   "execution_count": 62,
   "metadata": {},
   "outputs": [],
   "source": [
    "# Storing the names of deleted patients\n",
    "deleted_mri_folders = []"
   ]
  },
  {
   "cell_type": "code",
   "execution_count": 63,
   "metadata": {},
   "outputs": [
    {
     "name": "stdout",
     "output_type": "stream",
     "text": [
      "Deleted: \\\\?\\c:\\Users\\Crt\\Desktop\\WIMR\\asymmetryAD\\NACC_data\\sorted_cohorts\\MCI\\mri141ni\\006_DTI\n",
      "Kept: \\\\?\\c:\\Users\\Crt\\Desktop\\WIMR\\asymmetryAD\\NACC_data\\sorted_cohorts\\MCI\\mri141ni\\007_T1\n",
      "Kept: \\\\?\\c:\\Users\\Crt\\Desktop\\WIMR\\asymmetryAD\\NACC_data\\sorted_cohorts\\MCI\\mri141ni\\008_T1\n",
      "Deleted: \\\\?\\c:\\Users\\Crt\\Desktop\\WIMR\\asymmetryAD\\NACC_data\\sorted_cohorts\\MCI\\mri141ni\\009_T2\n",
      "Deleted: \\\\?\\c:\\Users\\Crt\\Desktop\\WIMR\\asymmetryAD\\NACC_data\\sorted_cohorts\\MCI\\mri141ni\\010_T2_Flair\n",
      "Kept: \\\\?\\c:\\Users\\Crt\\Desktop\\WIMR\\asymmetryAD\\NACC_data\\sorted_cohorts\\MCI\\mri2714ni\\002_T1_Volumetric\n",
      "Deleted: \\\\?\\c:\\Users\\Crt\\Desktop\\WIMR\\asymmetryAD\\NACC_data\\sorted_cohorts\\MCI\\mri2714ni\\008_DTI\n",
      "Deleted: \\\\?\\c:\\Users\\Crt\\Desktop\\WIMR\\asymmetryAD\\NACC_data\\sorted_cohorts\\MCI\\mri2714ni\\010_T2\n",
      "Deleted: \\\\?\\c:\\Users\\Crt\\Desktop\\WIMR\\asymmetryAD\\NACC_data\\sorted_cohorts\\MCI\\mri2714ni\\011_T2_Flair\n",
      "Kept: \\\\?\\c:\\Users\\Crt\\Desktop\\WIMR\\asymmetryAD\\NACC_data\\sorted_cohorts\\MCI\\mri3249ni\\002_T1_Volumetric\n",
      "Deleted: \\\\?\\c:\\Users\\Crt\\Desktop\\WIMR\\asymmetryAD\\NACC_data\\sorted_cohorts\\MCI\\mri3249ni\\008_DTI\n",
      "Deleted: \\\\?\\c:\\Users\\Crt\\Desktop\\WIMR\\asymmetryAD\\NACC_data\\sorted_cohorts\\MCI\\mri3249ni\\010_T2\n",
      "Deleted: \\\\?\\c:\\Users\\Crt\\Desktop\\WIMR\\asymmetryAD\\NACC_data\\sorted_cohorts\\MCI\\mri3249ni\\011_T2_Flair\n",
      "Kept: \\\\?\\c:\\Users\\Crt\\Desktop\\WIMR\\asymmetryAD\\NACC_data\\sorted_cohorts\\MCI\\mri3426ni\\002_T1_Volumetric\n",
      "Deleted: \\\\?\\c:\\Users\\Crt\\Desktop\\WIMR\\asymmetryAD\\NACC_data\\sorted_cohorts\\MCI\\mri3426ni\\008_DTI\n",
      "Deleted: \\\\?\\c:\\Users\\Crt\\Desktop\\WIMR\\asymmetryAD\\NACC_data\\sorted_cohorts\\MCI\\mri3426ni\\010_T2\n",
      "Deleted: \\\\?\\c:\\Users\\Crt\\Desktop\\WIMR\\asymmetryAD\\NACC_data\\sorted_cohorts\\MCI\\mri3426ni\\011_T2_Flair\n",
      "Kept: \\\\?\\c:\\Users\\Crt\\Desktop\\WIMR\\asymmetryAD\\NACC_data\\sorted_cohorts\\MCI\\mri4012ni\\004_T1_Volumetric\n",
      "Deleted: \\\\?\\c:\\Users\\Crt\\Desktop\\WIMR\\asymmetryAD\\NACC_data\\sorted_cohorts\\MCI\\mri4012ni\\010_T2_Flair\n",
      "Deleted: \\\\?\\c:\\Users\\Crt\\Desktop\\WIMR\\asymmetryAD\\NACC_data\\sorted_cohorts\\MCI\\mri4012ni\\1000_T2_Flair\n",
      "Kept: \\\\?\\c:\\Users\\Crt\\Desktop\\WIMR\\asymmetryAD\\NACC_data\\sorted_cohorts\\MCI\\mri4012ni\\400_T1_Volumetric\n",
      "Kept: \\\\?\\c:\\Users\\Crt\\Desktop\\WIMR\\asymmetryAD\\NACC_data\\sorted_cohorts\\MCI\\mri4031ni\\003_T1_Volumetric\n",
      "Deleted: \\\\?\\c:\\Users\\Crt\\Desktop\\WIMR\\asymmetryAD\\NACC_data\\sorted_cohorts\\MCI\\mri4031ni\\009_T2_Flair\n",
      "Kept: \\\\?\\c:\\Users\\Crt\\Desktop\\WIMR\\asymmetryAD\\NACC_data\\sorted_cohorts\\MCI\\mri4031ni\\300_T1_Volumetric\n",
      "Deleted: \\\\?\\c:\\Users\\Crt\\Desktop\\WIMR\\asymmetryAD\\NACC_data\\sorted_cohorts\\MCI\\mri4031ni\\900_T2_Flair\n",
      "Deleted: \\\\?\\c:\\Users\\Crt\\Desktop\\WIMR\\asymmetryAD\\NACC_data\\sorted_cohorts\\MCI\\mri5084ni\n",
      "Deleted: \\\\?\\c:\\Users\\Crt\\Desktop\\WIMR\\asymmetryAD\\NACC_data\\sorted_cohorts\\MCI\\mri5086ni\n",
      "Deleted: \\\\?\\c:\\Users\\Crt\\Desktop\\WIMR\\asymmetryAD\\NACC_data\\sorted_cohorts\\MCI\\mri5089ni\n",
      "Deleted: \\\\?\\c:\\Users\\Crt\\Desktop\\WIMR\\asymmetryAD\\NACC_data\\sorted_cohorts\\MCI\\mri5090ni\n",
      "Deleted: \\\\?\\c:\\Users\\Crt\\Desktop\\WIMR\\asymmetryAD\\NACC_data\\sorted_cohorts\\MCI\\mri5145ni\n",
      "Deleted: \\\\?\\c:\\Users\\Crt\\Desktop\\WIMR\\asymmetryAD\\NACC_data\\sorted_cohorts\\MCI\\mri5224ni\n",
      "Deleted: \\\\?\\c:\\Users\\Crt\\Desktop\\WIMR\\asymmetryAD\\NACC_data\\sorted_cohorts\\MCI\\mri5431ni\n",
      "Kept: \\\\?\\c:\\Users\\Crt\\Desktop\\WIMR\\asymmetryAD\\NACC_data\\sorted_cohorts\\MCI\\mri6063ni\\003_T1_Volumetric\n",
      "Deleted: \\\\?\\c:\\Users\\Crt\\Desktop\\WIMR\\asymmetryAD\\NACC_data\\sorted_cohorts\\MCI\\mri6063ni\\009_T2_Flair\n",
      "Kept: \\\\?\\c:\\Users\\Crt\\Desktop\\WIMR\\asymmetryAD\\NACC_data\\sorted_cohorts\\MCI\\mri6063ni\\300_T1_Volumetric\n",
      "Deleted: \\\\?\\c:\\Users\\Crt\\Desktop\\WIMR\\asymmetryAD\\NACC_data\\sorted_cohorts\\MCI\\mri6063ni\\900_T2_Flair\n",
      "Kept: \\\\?\\c:\\Users\\Crt\\Desktop\\WIMR\\asymmetryAD\\NACC_data\\sorted_cohorts\\MCI\\mri6108ni\\003_T1_Volumetric\n",
      "Deleted: \\\\?\\c:\\Users\\Crt\\Desktop\\WIMR\\asymmetryAD\\NACC_data\\sorted_cohorts\\MCI\\mri6108ni\\009_T2_Flair\n",
      "Kept: \\\\?\\c:\\Users\\Crt\\Desktop\\WIMR\\asymmetryAD\\NACC_data\\sorted_cohorts\\MCI\\mri6108ni\\300_T1_Volumetric\n",
      "Deleted: \\\\?\\c:\\Users\\Crt\\Desktop\\WIMR\\asymmetryAD\\NACC_data\\sorted_cohorts\\MCI\\mri6108ni\\900_T2_Flair\n",
      "Kept: \\\\?\\c:\\Users\\Crt\\Desktop\\WIMR\\asymmetryAD\\NACC_data\\sorted_cohorts\\MCI\\mri7056ni\\003_T1_Volumetric\n",
      "Deleted: \\\\?\\c:\\Users\\Crt\\Desktop\\WIMR\\asymmetryAD\\NACC_data\\sorted_cohorts\\MCI\\mri7056ni\\009_T2_Flair\n",
      "Kept: \\\\?\\c:\\Users\\Crt\\Desktop\\WIMR\\asymmetryAD\\NACC_data\\sorted_cohorts\\MCI\\mri7056ni\\300_T1_Volumetric\n",
      "Deleted: \\\\?\\c:\\Users\\Crt\\Desktop\\WIMR\\asymmetryAD\\NACC_data\\sorted_cohorts\\MCI\\mri7056ni\\900_T2_Flair\n",
      "Kept: \\\\?\\c:\\Users\\Crt\\Desktop\\WIMR\\asymmetryAD\\NACC_data\\sorted_cohorts\\MCI\\mri7508ni\\005_T1_Volumetric\n",
      "Deleted: \\\\?\\c:\\Users\\Crt\\Desktop\\WIMR\\asymmetryAD\\NACC_data\\sorted_cohorts\\MCI\\mri7508ni\\010_T2_Flair\n",
      "Deleted: \\\\?\\c:\\Users\\Crt\\Desktop\\WIMR\\asymmetryAD\\NACC_data\\sorted_cohorts\\MCI\\mri7508ni\\1000_T2_Flair\n",
      "Kept: \\\\?\\c:\\Users\\Crt\\Desktop\\WIMR\\asymmetryAD\\NACC_data\\sorted_cohorts\\MCI\\mri7508ni\\300_T1_Volumetric\n",
      "Kept: \\\\?\\c:\\Users\\Crt\\Desktop\\WIMR\\asymmetryAD\\NACC_data\\sorted_cohorts\\MCI\\mri7508ni\\500_T1_Volumetric\n",
      "Kept: \\\\?\\c:\\Users\\Crt\\Desktop\\WIMR\\asymmetryAD\\NACC_data\\sorted_cohorts\\MCI\\mri7548ni\\003_T1_Volumetric\n",
      "Deleted: \\\\?\\c:\\Users\\Crt\\Desktop\\WIMR\\asymmetryAD\\NACC_data\\sorted_cohorts\\MCI\\mri7548ni\\009_T2_Flair\n",
      "Kept: \\\\?\\c:\\Users\\Crt\\Desktop\\WIMR\\asymmetryAD\\NACC_data\\sorted_cohorts\\MCI\\mri7548ni\\013_T1_Volumetric\n",
      "Kept: \\\\?\\c:\\Users\\Crt\\Desktop\\WIMR\\asymmetryAD\\NACC_data\\sorted_cohorts\\MCI\\mri7548ni\\1300_T1_Volumetric\n",
      "Kept: \\\\?\\c:\\Users\\Crt\\Desktop\\WIMR\\asymmetryAD\\NACC_data\\sorted_cohorts\\MCI\\mri7548ni\\300_T1_Volumetric\n",
      "Deleted: \\\\?\\c:\\Users\\Crt\\Desktop\\WIMR\\asymmetryAD\\NACC_data\\sorted_cohorts\\MCI\\mri7548ni\\900_T2_Flair\n",
      "Kept: \\\\?\\c:\\Users\\Crt\\Desktop\\WIMR\\asymmetryAD\\NACC_data\\sorted_cohorts\\MCI\\mri8015ni\\003_T1_Volumetric\n",
      "Deleted: \\\\?\\c:\\Users\\Crt\\Desktop\\WIMR\\asymmetryAD\\NACC_data\\sorted_cohorts\\MCI\\mri8015ni\\009_T2_Flair\n",
      "Deleted: \\\\?\\c:\\Users\\Crt\\Desktop\\WIMR\\asymmetryAD\\NACC_data\\sorted_cohorts\\MCI\\mri8015ni\\950_T2_Flair\n",
      "Deleted: \\\\?\\c:\\Users\\Crt\\Desktop\\WIMR\\asymmetryAD\\NACC_data\\sorted_cohorts\\MCI\\mri8015ni\\951_T2_Flair\n",
      "Deleted: \\\\?\\c:\\Users\\Crt\\Desktop\\WIMR\\asymmetryAD\\NACC_data\\sorted_cohorts\\MCI\\mri8139ni\n",
      "Deleted: \\\\?\\c:\\Users\\Crt\\Desktop\\WIMR\\asymmetryAD\\NACC_data\\sorted_cohorts\\MCI\\mri8143ni\n",
      "Deleted: \\\\?\\c:\\Users\\Crt\\Desktop\\WIMR\\asymmetryAD\\NACC_data\\sorted_cohorts\\MCI\\mri8177ni\n",
      "Deleted: \\\\?\\c:\\Users\\Crt\\Desktop\\WIMR\\asymmetryAD\\NACC_data\\sorted_cohorts\\MCI\\mri8188ni\n",
      "Deleted: \\\\?\\c:\\Users\\Crt\\Desktop\\WIMR\\asymmetryAD\\NACC_data\\sorted_cohorts\\MCI\\mri8189ni\n",
      "Kept: \\\\?\\c:\\Users\\Crt\\Desktop\\WIMR\\asymmetryAD\\NACC_data\\sorted_cohorts\\MCI\\mri8836ni\\003_T1_Volumetric\n",
      "Deleted: \\\\?\\c:\\Users\\Crt\\Desktop\\WIMR\\asymmetryAD\\NACC_data\\sorted_cohorts\\MCI\\mri8836ni\\009_T2_Flair\n",
      "Kept: \\\\?\\c:\\Users\\Crt\\Desktop\\WIMR\\asymmetryAD\\NACC_data\\sorted_cohorts\\MCI\\mri8836ni\\40003_T1_Volumetric\n",
      "Deleted: \\\\?\\c:\\Users\\Crt\\Desktop\\WIMR\\asymmetryAD\\NACC_data\\sorted_cohorts\\MCI\\mri8836ni\\40009_T2_Flair\n"
     ]
    }
   ],
   "source": [
    "# Loop through each folder in matching_folders\n",
    "for folder in matching_folders:\n",
    "\n",
    "    # List all subfolders in the folder_path\n",
    "    subfolders = os.listdir(folder)\n",
    "    \n",
    "    # Folders that contain only 1 subfolder (those have different substructures)\n",
    "    if len(subfolders) == 1:\n",
    "\n",
    "        subfolder_full_path = os.path.join(folder, subfolders[0])                        # only one subfolder \n",
    "\n",
    "        # Only keeping those folders whose subfolders that start with NACC, deleting the rest\n",
    "        if os.path.isdir(subfolder_full_path) and not subfolder.startswith(nacc_prefix):\n",
    "\n",
    "            deleted_mri_folders.append(folder)\n",
    "            shutil.rmtree(folder)\n",
    "            print(f\"Deleted: {folder}\")\n",
    "\n",
    "        # If it does start with NACC, check inside the NACC folder for MPRAGE or FSPGR\n",
    "        elif os.path.isdir(subfolder_full_path) and subfolder.startswith(nacc_prefix):\n",
    "\n",
    "            subfolders_in_nacc = os.listdir(subfolder_full_path)                         # List subfolders inside NACC (either nacc or many subfolders)\n",
    "\n",
    "            if len(subfolders_in_nacc) == 1:                                             # Some have structure NACC--->nacc--->subfolders like MPRAGE, FSPGR\n",
    "                \n",
    "                subfolder_in_nacc_full_path = os.path.join(subfolder_full_path, subfolders_in_nacc[0])         # only one subfolder\n",
    " \n",
    "                subfolders_in_subfolder_nacc_in_nacc = os.listdir(subfolder_in_nacc_full_path)\n",
    "\n",
    "                for subs in subfolders_in_subfolder_nacc_in_nacc: \n",
    "\n",
    "                    subs_full_path = os.path.join(subfolder_in_nacc_full_path, subs)\n",
    "\n",
    "                    if os.path.isdir(subs_full_path) and (mprage_prefix not in subs and fspgr_prefix not in subs):\n",
    "\n",
    "                        shutil.rmtree(subs_full_path)\n",
    "                        print(f\"Deleted: {subs_full_path}\")\n",
    "\n",
    "                    else:\n",
    "\n",
    "                        print(f\"Kept: {subs_full_path}\")\n",
    "            \n",
    "            else: \n",
    "                for subs in subfolders_in_nacc:\n",
    "\n",
    "                    subs_full_path = os.path.join(subfolder_full_path, subs)\n",
    "\n",
    "                    # Check if subfolder does NOT contain 'MPRAGE' or 'FSPGR'\n",
    "                    if os.path.isdir(subs_full_path) and (mprage_prefix not in subs and fspgr_prefix not in subs):\n",
    "\n",
    "                        shutil.rmtree(subs_full_path)\n",
    "                        print(f\"Deleted: {subs_full_path}\")\n",
    "\n",
    "                    else:\n",
    "\n",
    "                        print(f\"Kept: {subs_full_path}\")\n",
    "      \n",
    "\n",
    "    else:\n",
    "        # For folders that contain multiple subfolders, delete subfolders that don't have 'T1'\n",
    "        for subfolder in subfolders:\n",
    "\n",
    "            subfolder_full_path = os.path.join(folder, subfolder)\n",
    "\n",
    "            # Check if the subfolder name contains 'T1' anywhere in its name\n",
    "            if os.path.isdir(subfolder_full_path) and T1_prefix not in subfolder:\n",
    "\n",
    "                # If the subfolder doesn't contain 'T1', delete it\n",
    "                shutil.rmtree(subfolder_full_path)\n",
    "                print(f\"Deleted: {subfolder_full_path}\")\n",
    "\n",
    "            else:\n",
    "\n",
    "                print(f\"Kept: {subfolder_full_path}\")"
   ]
  },
  {
   "cell_type": "markdown",
   "metadata": {},
   "source": [
    "Saving deleted mri folders, so I can later correct the .csv files containing what patients I have."
   ]
  },
  {
   "cell_type": "code",
   "execution_count": 16,
   "metadata": {},
   "outputs": [],
   "source": [
    "writePath = '../../NACC_data/sorted_cohorts/'"
   ]
  },
  {
   "cell_type": "code",
   "execution_count": 17,
   "metadata": {},
   "outputs": [],
   "source": [
    "def save_to_txt(array, filepath):\n",
    "    with open(filepath, 'w') as f:\n",
    "        for filepath in array:\n",
    "            f.write(f\"{filepath}\\n\")"
   ]
  },
  {
   "cell_type": "code",
   "execution_count": 34,
   "metadata": {},
   "outputs": [
    {
     "name": "stdout",
     "output_type": "stream",
     "text": [
      "Number of deleted folders: 62\n",
      "Save to .txt complete!\n"
     ]
    }
   ],
   "source": [
    "#save_to_txt(deleted_mri_folders, writePath + 'alzd_deleted.txt')\n",
    "print(\"Number of deleted folders:\", len(deleted_mri_folders))\n",
    "print(\"Save to .txt complete!\")"
   ]
  },
  {
   "cell_type": "markdown",
   "metadata": {},
   "source": [
    "Deleting freshly produced empty folders (example mri8191ni)"
   ]
  },
  {
   "cell_type": "code",
   "execution_count": 36,
   "metadata": {},
   "outputs": [],
   "source": [
    "deleted_empty_mri_folders = []"
   ]
  },
  {
   "cell_type": "code",
   "execution_count": 37,
   "metadata": {},
   "outputs": [
    {
     "name": "stdout",
     "output_type": "stream",
     "text": [
      "Deleted: \\\\?\\c:\\Users\\Crt\\Desktop\\WIMR\\asymmetryAD\\NACC_data\\sorted_cohorts\\ALZD\\mri5112ni\n",
      "Deleted: \\\\?\\c:\\Users\\Crt\\Desktop\\WIMR\\asymmetryAD\\NACC_data\\sorted_cohorts\\ALZD\\mri5113ni\n",
      "Deleted: \\\\?\\c:\\Users\\Crt\\Desktop\\WIMR\\asymmetryAD\\NACC_data\\sorted_cohorts\\ALZD\\mri5132ni\n",
      "Deleted: \\\\?\\c:\\Users\\Crt\\Desktop\\WIMR\\asymmetryAD\\NACC_data\\sorted_cohorts\\ALZD\\mri5133ni\n",
      "Deleted: \\\\?\\c:\\Users\\Crt\\Desktop\\WIMR\\asymmetryAD\\NACC_data\\sorted_cohorts\\ALZD\\mri5134ni\n",
      "Deleted: \\\\?\\c:\\Users\\Crt\\Desktop\\WIMR\\asymmetryAD\\NACC_data\\sorted_cohorts\\ALZD\\mri5152ni\n",
      "Deleted: \\\\?\\c:\\Users\\Crt\\Desktop\\WIMR\\asymmetryAD\\NACC_data\\sorted_cohorts\\ALZD\\mri5155ni\n",
      "Deleted: \\\\?\\c:\\Users\\Crt\\Desktop\\WIMR\\asymmetryAD\\NACC_data\\sorted_cohorts\\ALZD\\mri5158ni\n",
      "Deleted: \\\\?\\c:\\Users\\Crt\\Desktop\\WIMR\\asymmetryAD\\NACC_data\\sorted_cohorts\\ALZD\\mri8171ni\n",
      "Deleted: \\\\?\\c:\\Users\\Crt\\Desktop\\WIMR\\asymmetryAD\\NACC_data\\sorted_cohorts\\ALZD\\mri8191ni\n",
      "Deleted: \\\\?\\c:\\Users\\Crt\\Desktop\\WIMR\\asymmetryAD\\NACC_data\\sorted_cohorts\\ALZD\\mri8192ni\n",
      "Deleted: \\\\?\\c:\\Users\\Crt\\Desktop\\WIMR\\asymmetryAD\\NACC_data\\sorted_cohorts\\ALZD\\mri8235ni\n"
     ]
    }
   ],
   "source": [
    "for folder in matching_folders: \n",
    "\n",
    "    subfolders = os.listdir(folder)\n",
    "\n",
    "    if len(subfolders) == 1:\n",
    "\n",
    "        subfolder_full_path = os.path.join(folder, subfolders[0])\n",
    "\n",
    "        subs = os.listdir(subfolder_full_path)\n",
    "\n",
    "        if len(subs) == 0:\n",
    "\n",
    "            deleted_empty_mri_folders.append(folder)\n",
    "            shutil.rmtree(folder)\n",
    "            print(f\"Deleted: {folder}\")"
   ]
  },
  {
   "cell_type": "code",
   "execution_count": 38,
   "metadata": {},
   "outputs": [
    {
     "name": "stdout",
     "output_type": "stream",
     "text": [
      "Number of deleted empty folders: 62\n",
      "Save to .txt complete!\n"
     ]
    }
   ],
   "source": [
    "save_to_txt(deleted_empty_mri_folders, writePath + 'alzd_empty_deleted.txt')\n",
    "print(\"Number of deleted empty folders:\", len(deleted_mri_folders))\n",
    "print(\"Save to .txt complete!\")"
   ]
  }
 ],
 "metadata": {
  "kernelspec": {
   "display_name": "Python 3",
   "language": "python",
   "name": "python3"
  },
  "language_info": {
   "codemirror_mode": {
    "name": "ipython",
    "version": 3
   },
   "file_extension": ".py",
   "mimetype": "text/x-python",
   "name": "python",
   "nbconvert_exporter": "python",
   "pygments_lexer": "ipython3",
   "version": "3.12.6"
  }
 },
 "nbformat": 4,
 "nbformat_minor": 2
}
