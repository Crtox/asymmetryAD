{
 "cells": [
  {
   "cell_type": "markdown",
   "metadata": {},
   "source": [
    "## Changing the structure of data\n",
    "Changing the structure and substructure of my sorted data in cohorts. I want to get rid of all substructue and move all .nii and .json files into the first folder."
   ]
  },
  {
   "cell_type": "code",
   "execution_count": 63,
   "metadata": {},
   "outputs": [],
   "source": [
    "import os \n",
    "import re\n",
    "import shutil\n",
    "import itertools"
   ]
  },
  {
   "cell_type": "code",
   "execution_count": 64,
   "metadata": {},
   "outputs": [],
   "source": [
    "# original cohorts' paths\n",
    "ncPath = '../../NACC_data/sorted_cohorts/NC/'\n",
    "mciPath = '../../NACC_data/sorted_cohorts/MCI/'\n",
    "alzdPath = '../../NACC_data/sorted_cohorts/ALZD/'\n",
    "transPath = '../../NACC_data/sorted_cohorts/TRANS/'\n",
    "\n",
    "# path to new, to be simply structured cohorts (s = simple)\n",
    "s_ncPath = '../../NACC_data/sorted_cohorts/NC_simple/'\n",
    "s_mciPath = '../../NACC_data/sorted_cohorts/MCI_simple/'\n",
    "s_alzdPath = '../../NACC_data/sorted_cohorts/ALZD_simple/'\n",
    "s_transPath = '../../NACC_data/sorted_cohorts/TRANS_simple/'"
   ]
  },
  {
   "cell_type": "code",
   "execution_count": 65,
   "metadata": {},
   "outputs": [],
   "source": [
    "# Convert the relative path to an absolute path\n",
    "ncPath = os.path.abspath(ncPath)\n",
    "mciPath = os.path.abspath(mciPath)\n",
    "alzdPath = os.path.abspath(alzdPath)\n",
    "transPath = os.path.abspath(transPath)\n",
    "\n",
    "s_ncPath = os.path.abspath(s_ncPath)\n",
    "s_mciPath = os.path.abspath(s_mciPath)\n",
    "s_alzdPath = os.path.abspath(s_alzdPath)\n",
    "s_transPath = os.path.abspath(s_transPath)\n",
    "\n",
    "# Modify the absolute path for long path support on Windows\n",
    "if os.name == 'nt':                     # Check if the operating system is Windows\n",
    "    ncPath = '\\\\\\\\?\\\\' + ncPath\n",
    "    mciPath = '\\\\\\\\?\\\\' + mciPath\n",
    "    alzdPath = '\\\\\\\\?\\\\' + alzdPath\n",
    "    transPath = '\\\\\\\\?\\\\' + transPath\n",
    "\n",
    "    s_ncPath = '\\\\\\\\?\\\\' + s_ncPath\n",
    "    s_mciPath = '\\\\\\\\?\\\\' + s_mciPath\n",
    "    s_alzdPath = '\\\\\\\\?\\\\' + s_alzdPath\n",
    "    s_transPath = '\\\\\\\\?\\\\' + s_transPath"
   ]
  },
  {
   "cell_type": "markdown",
   "metadata": {},
   "source": [
    "Different possible patterns/naming conventions of my folders (look at \"mri_data_sequencing.ipynb\" for clarification)."
   ]
  },
  {
   "cell_type": "code",
   "execution_count": 66,
   "metadata": {},
   "outputs": [],
   "source": [
    "pattern1 = r'^\\d{4}_'\n",
    "pattern2 = 'mri'\n",
    "pattern3 = 'NACC'"
   ]
  },
  {
   "cell_type": "code",
   "execution_count": 67,
   "metadata": {},
   "outputs": [],
   "source": [
    "# List to store the matching folders\n",
    "matching_folders1 = []\n",
    "matching_folders2 = []\n",
    "matching_folders3 = []"
   ]
  },
  {
   "cell_type": "code",
   "execution_count": 68,
   "metadata": {},
   "outputs": [],
   "source": [
    "# Iterate over the items in the directory\n",
    "for item in os.listdir(alzdPath):\n",
    "    \n",
    "    item_path = os.path.join(alzdPath, item)\n",
    "    # Check if the item is a folder and matches the pattern\n",
    "    if os.path.isdir(item_path) and re.match(pattern1, item):\n",
    "        matching_folders1.append(item_path)\n",
    "\n",
    "    elif os.path.isdir(item_path) and re.match(pattern2, item):\n",
    "        matching_folders2.append(item_path)\n",
    "\n",
    "    elif os.path.isdir(item_path) and re.match(pattern3, item):\n",
    "        matching_folders3.append(item_path)"
   ]
  },
  {
   "cell_type": "markdown",
   "metadata": {},
   "source": [
    "Now we move the .nii and .json files. We cover all three different naming convention by separately iterating throught all three matching folders array. We take into account the substructure of the each tpye of folders."
   ]
  },
  {
   "cell_type": "code",
   "execution_count": 69,
   "metadata": {},
   "outputs": [],
   "source": [
    "# for folder in matching_folders1:\n",
    "\n",
    "#     # getting only the name of the folder\n",
    "#     folder_name = folder.replace('\\\\?\\\\c:\\\\Users\\\\Crt\\\\Desktop\\\\WIMR\\\\asymmetryAD\\\\NACC_data\\\\sorted_cohorts\\\\ALZD\\\\', '')\n",
    "#     folder_name = folder_name.replace('\\\\', '')\n",
    "\n",
    "#     # Get the path to the subfolder \n",
    "#     subfolder_path = os.path.join(folder, os.listdir(folder)[0])       \n",
    "\n",
    "#     # copy and rename to original folder name\n",
    "#     shutil.copytree(subfolder_path, s_alzdPath, dirs_exist_ok=True)\n",
    "#     os.rename(s_alzdPath + '\\\\' + os.listdir(subfolder_path)[0], s_alzdPath + '\\\\' + folder_name)"
   ]
  },
  {
   "cell_type": "code",
   "execution_count": 79,
   "metadata": {},
   "outputs": [],
   "source": [
    "alz_folders = []"
   ]
  },
  {
   "cell_type": "code",
   "execution_count": 80,
   "metadata": {},
   "outputs": [],
   "source": [
    "for item in os.listdir(alzdPath):\n",
    "    alz_folders.append(os.path.join(alzdPath, item))"
   ]
  },
  {
   "cell_type": "code",
   "execution_count": 81,
   "metadata": {},
   "outputs": [
    {
     "name": "stdout",
     "output_type": "stream",
     "text": [
      "['\\\\\\\\?\\\\c:\\\\Users\\\\Crt\\\\Desktop\\\\WIMR\\\\asymmetryAD\\\\NACC_data\\\\sorted_cohorts\\\\ALZD\\\\1018_NACC862393_20161122ni', '\\\\\\\\?\\\\c:\\\\Users\\\\Crt\\\\Desktop\\\\WIMR\\\\asymmetryAD\\\\NACC_data\\\\sorted_cohorts\\\\ALZD\\\\1018_NACC862393_20191003ni', '\\\\\\\\?\\\\c:\\\\Users\\\\Crt\\\\Desktop\\\\WIMR\\\\asymmetryAD\\\\NACC_data\\\\sorted_cohorts\\\\ALZD\\\\mri5006ni', '\\\\\\\\?\\\\c:\\\\Users\\\\Crt\\\\Desktop\\\\WIMR\\\\asymmetryAD\\\\NACC_data\\\\sorted_cohorts\\\\ALZD\\\\mri5008ni', '\\\\\\\\?\\\\c:\\\\Users\\\\Crt\\\\Desktop\\\\WIMR\\\\asymmetryAD\\\\NACC_data\\\\sorted_cohorts\\\\ALZD\\\\mri5038ni', '\\\\\\\\?\\\\c:\\\\Users\\\\Crt\\\\Desktop\\\\WIMR\\\\asymmetryAD\\\\NACC_data\\\\sorted_cohorts\\\\ALZD\\\\mri5039ni', '\\\\\\\\?\\\\c:\\\\Users\\\\Crt\\\\Desktop\\\\WIMR\\\\asymmetryAD\\\\NACC_data\\\\sorted_cohorts\\\\ALZD\\\\mri5040ni', '\\\\\\\\?\\\\c:\\\\Users\\\\Crt\\\\Desktop\\\\WIMR\\\\asymmetryAD\\\\NACC_data\\\\sorted_cohorts\\\\ALZD\\\\mri5041ni', '\\\\\\\\?\\\\c:\\\\Users\\\\Crt\\\\Desktop\\\\WIMR\\\\asymmetryAD\\\\NACC_data\\\\sorted_cohorts\\\\ALZD\\\\mri5043ni', '\\\\\\\\?\\\\c:\\\\Users\\\\Crt\\\\Desktop\\\\WIMR\\\\asymmetryAD\\\\NACC_data\\\\sorted_cohorts\\\\ALZD\\\\mri5044ni', '\\\\\\\\?\\\\c:\\\\Users\\\\Crt\\\\Desktop\\\\WIMR\\\\asymmetryAD\\\\NACC_data\\\\sorted_cohorts\\\\ALZD\\\\mri5045ni', '\\\\\\\\?\\\\c:\\\\Users\\\\Crt\\\\Desktop\\\\WIMR\\\\asymmetryAD\\\\NACC_data\\\\sorted_cohorts\\\\ALZD\\\\mri5046ni', '\\\\\\\\?\\\\c:\\\\Users\\\\Crt\\\\Desktop\\\\WIMR\\\\asymmetryAD\\\\NACC_data\\\\sorted_cohorts\\\\ALZD\\\\mri5052ni', '\\\\\\\\?\\\\c:\\\\Users\\\\Crt\\\\Desktop\\\\WIMR\\\\asymmetryAD\\\\NACC_data\\\\sorted_cohorts\\\\ALZD\\\\mri5053ni', '\\\\\\\\?\\\\c:\\\\Users\\\\Crt\\\\Desktop\\\\WIMR\\\\asymmetryAD\\\\NACC_data\\\\sorted_cohorts\\\\ALZD\\\\mri5054ni', '\\\\\\\\?\\\\c:\\\\Users\\\\Crt\\\\Desktop\\\\WIMR\\\\asymmetryAD\\\\NACC_data\\\\sorted_cohorts\\\\ALZD\\\\mri5055ni', '\\\\\\\\?\\\\c:\\\\Users\\\\Crt\\\\Desktop\\\\WIMR\\\\asymmetryAD\\\\NACC_data\\\\sorted_cohorts\\\\ALZD\\\\mri5066ni', '\\\\\\\\?\\\\c:\\\\Users\\\\Crt\\\\Desktop\\\\WIMR\\\\asymmetryAD\\\\NACC_data\\\\sorted_cohorts\\\\ALZD\\\\mri5067ni', '\\\\\\\\?\\\\c:\\\\Users\\\\Crt\\\\Desktop\\\\WIMR\\\\asymmetryAD\\\\NACC_data\\\\sorted_cohorts\\\\ALZD\\\\mri5082ni', '\\\\\\\\?\\\\c:\\\\Users\\\\Crt\\\\Desktop\\\\WIMR\\\\asymmetryAD\\\\NACC_data\\\\sorted_cohorts\\\\ALZD\\\\mri5083ni', '\\\\\\\\?\\\\c:\\\\Users\\\\Crt\\\\Desktop\\\\WIMR\\\\asymmetryAD\\\\NACC_data\\\\sorted_cohorts\\\\ALZD\\\\mri5105ni', '\\\\\\\\?\\\\c:\\\\Users\\\\Crt\\\\Desktop\\\\WIMR\\\\asymmetryAD\\\\NACC_data\\\\sorted_cohorts\\\\ALZD\\\\mri5106ni', '\\\\\\\\?\\\\c:\\\\Users\\\\Crt\\\\Desktop\\\\WIMR\\\\asymmetryAD\\\\NACC_data\\\\sorted_cohorts\\\\ALZD\\\\mri5111ni', '\\\\\\\\?\\\\c:\\\\Users\\\\Crt\\\\Desktop\\\\WIMR\\\\asymmetryAD\\\\NACC_data\\\\sorted_cohorts\\\\ALZD\\\\mri5116ni', '\\\\\\\\?\\\\c:\\\\Users\\\\Crt\\\\Desktop\\\\WIMR\\\\asymmetryAD\\\\NACC_data\\\\sorted_cohorts\\\\ALZD\\\\mri5170ni', '\\\\\\\\?\\\\c:\\\\Users\\\\Crt\\\\Desktop\\\\WIMR\\\\asymmetryAD\\\\NACC_data\\\\sorted_cohorts\\\\ALZD\\\\mri5171ni', '\\\\\\\\?\\\\c:\\\\Users\\\\Crt\\\\Desktop\\\\WIMR\\\\asymmetryAD\\\\NACC_data\\\\sorted_cohorts\\\\ALZD\\\\mri5197ni', '\\\\\\\\?\\\\c:\\\\Users\\\\Crt\\\\Desktop\\\\WIMR\\\\asymmetryAD\\\\NACC_data\\\\sorted_cohorts\\\\ALZD\\\\mri5198ni', '\\\\\\\\?\\\\c:\\\\Users\\\\Crt\\\\Desktop\\\\WIMR\\\\asymmetryAD\\\\NACC_data\\\\sorted_cohorts\\\\ALZD\\\\mri5199ni', '\\\\\\\\?\\\\c:\\\\Users\\\\Crt\\\\Desktop\\\\WIMR\\\\asymmetryAD\\\\NACC_data\\\\sorted_cohorts\\\\ALZD\\\\mri5213ni', '\\\\\\\\?\\\\c:\\\\Users\\\\Crt\\\\Desktop\\\\WIMR\\\\asymmetryAD\\\\NACC_data\\\\sorted_cohorts\\\\ALZD\\\\mri5214ni', '\\\\\\\\?\\\\c:\\\\Users\\\\Crt\\\\Desktop\\\\WIMR\\\\asymmetryAD\\\\NACC_data\\\\sorted_cohorts\\\\ALZD\\\\mri5221ni', '\\\\\\\\?\\\\c:\\\\Users\\\\Crt\\\\Desktop\\\\WIMR\\\\asymmetryAD\\\\NACC_data\\\\sorted_cohorts\\\\ALZD\\\\mri5222ni', '\\\\\\\\?\\\\c:\\\\Users\\\\Crt\\\\Desktop\\\\WIMR\\\\asymmetryAD\\\\NACC_data\\\\sorted_cohorts\\\\ALZD\\\\mri5223ni', '\\\\\\\\?\\\\c:\\\\Users\\\\Crt\\\\Desktop\\\\WIMR\\\\asymmetryAD\\\\NACC_data\\\\sorted_cohorts\\\\ALZD\\\\mri5226ni', '\\\\\\\\?\\\\c:\\\\Users\\\\Crt\\\\Desktop\\\\WIMR\\\\asymmetryAD\\\\NACC_data\\\\sorted_cohorts\\\\ALZD\\\\mri5227ni', '\\\\\\\\?\\\\c:\\\\Users\\\\Crt\\\\Desktop\\\\WIMR\\\\asymmetryAD\\\\NACC_data\\\\sorted_cohorts\\\\ALZD\\\\mri5229ni', '\\\\\\\\?\\\\c:\\\\Users\\\\Crt\\\\Desktop\\\\WIMR\\\\asymmetryAD\\\\NACC_data\\\\sorted_cohorts\\\\ALZD\\\\mri5230ni', '\\\\\\\\?\\\\c:\\\\Users\\\\Crt\\\\Desktop\\\\WIMR\\\\asymmetryAD\\\\NACC_data\\\\sorted_cohorts\\\\ALZD\\\\mri5231ni', '\\\\\\\\?\\\\c:\\\\Users\\\\Crt\\\\Desktop\\\\WIMR\\\\asymmetryAD\\\\NACC_data\\\\sorted_cohorts\\\\ALZD\\\\mri5255ni', '\\\\\\\\?\\\\c:\\\\Users\\\\Crt\\\\Desktop\\\\WIMR\\\\asymmetryAD\\\\NACC_data\\\\sorted_cohorts\\\\ALZD\\\\mri5256ni', '\\\\\\\\?\\\\c:\\\\Users\\\\Crt\\\\Desktop\\\\WIMR\\\\asymmetryAD\\\\NACC_data\\\\sorted_cohorts\\\\ALZD\\\\mri5270ni', '\\\\\\\\?\\\\c:\\\\Users\\\\Crt\\\\Desktop\\\\WIMR\\\\asymmetryAD\\\\NACC_data\\\\sorted_cohorts\\\\ALZD\\\\mri5271ni', '\\\\\\\\?\\\\c:\\\\Users\\\\Crt\\\\Desktop\\\\WIMR\\\\asymmetryAD\\\\NACC_data\\\\sorted_cohorts\\\\ALZD\\\\mri5287ni', '\\\\\\\\?\\\\c:\\\\Users\\\\Crt\\\\Desktop\\\\WIMR\\\\asymmetryAD\\\\NACC_data\\\\sorted_cohorts\\\\ALZD\\\\mri5288ni', '\\\\\\\\?\\\\c:\\\\Users\\\\Crt\\\\Desktop\\\\WIMR\\\\asymmetryAD\\\\NACC_data\\\\sorted_cohorts\\\\ALZD\\\\mri5289ni', '\\\\\\\\?\\\\c:\\\\Users\\\\Crt\\\\Desktop\\\\WIMR\\\\asymmetryAD\\\\NACC_data\\\\sorted_cohorts\\\\ALZD\\\\NACC026620_128401136192134176253428326511239028310365ni', '\\\\\\\\?\\\\c:\\\\Users\\\\Crt\\\\Desktop\\\\WIMR\\\\asymmetryAD\\\\NACC_data\\\\sorted_cohorts\\\\ALZD\\\\NACC026620_128401136192134176253428328301320170862500ni', '\\\\\\\\?\\\\c:\\\\Users\\\\Crt\\\\Desktop\\\\WIMR\\\\asymmetryAD\\\\NACC_data\\\\sorted_cohorts\\\\ALZD\\\\NACC202639_1284011361921341762534283238513557742765ni', '\\\\\\\\?\\\\c:\\\\Users\\\\Crt\\\\Desktop\\\\WIMR\\\\asymmetryAD\\\\NACC_data\\\\sorted_cohorts\\\\ALZD\\\\NACC202639_128401136192134176253428342581290618889975ni', '\\\\\\\\?\\\\c:\\\\Users\\\\Crt\\\\Desktop\\\\WIMR\\\\asymmetryAD\\\\NACC_data\\\\sorted_cohorts\\\\ALZD\\\\NACC208653_128401136192134176253428319381340125836496ni', '\\\\\\\\?\\\\c:\\\\Users\\\\Crt\\\\Desktop\\\\WIMR\\\\asymmetryAD\\\\NACC_data\\\\sorted_cohorts\\\\ALZD\\\\NACC208653_128401136192134176253428326351278950641243ni', '\\\\\\\\?\\\\c:\\\\Users\\\\Crt\\\\Desktop\\\\WIMR\\\\asymmetryAD\\\\NACC_data\\\\sorted_cohorts\\\\ALZD\\\\NACC218038_128401136192134176253428320111289928993400ni', '\\\\\\\\?\\\\c:\\\\Users\\\\Crt\\\\Desktop\\\\WIMR\\\\asymmetryAD\\\\NACC_data\\\\sorted_cohorts\\\\ALZD\\\\NACC218038_128401136192134176253428320941158073951216ni', '\\\\\\\\?\\\\c:\\\\Users\\\\Crt\\\\Desktop\\\\WIMR\\\\asymmetryAD\\\\NACC_data\\\\sorted_cohorts\\\\ALZD\\\\NACC221053_13122110752323504330000010040512302807800000037ni', '\\\\\\\\?\\\\c:\\\\Users\\\\Crt\\\\Desktop\\\\WIMR\\\\asymmetryAD\\\\NACC_data\\\\sorted_cohorts\\\\ALZD\\\\NACC221053_13122110752323504330000012110513012607800000052ni', '\\\\\\\\?\\\\c:\\\\Users\\\\Crt\\\\Desktop\\\\WIMR\\\\asymmetryAD\\\\NACC_data\\\\sorted_cohorts\\\\ALZD\\\\NACC232407_128401136192134176253428319461310164208249ni', '\\\\\\\\?\\\\c:\\\\Users\\\\Crt\\\\Desktop\\\\WIMR\\\\asymmetryAD\\\\NACC_data\\\\sorted_cohorts\\\\ALZD\\\\NACC232407_128401136192134176253428320961144340560167ni', '\\\\\\\\?\\\\c:\\\\Users\\\\Crt\\\\Desktop\\\\WIMR\\\\asymmetryAD\\\\NACC_data\\\\sorted_cohorts\\\\ALZD\\\\NACC238353_128401136192134176253428327101255447694501ni', '\\\\\\\\?\\\\c:\\\\Users\\\\Crt\\\\Desktop\\\\WIMR\\\\asymmetryAD\\\\NACC_data\\\\sorted_cohorts\\\\ALZD\\\\NACC238353_128401136192134176253428335731224794316524ni', '\\\\\\\\?\\\\c:\\\\Users\\\\Crt\\\\Desktop\\\\WIMR\\\\asymmetryAD\\\\NACC_data\\\\sorted_cohorts\\\\ALZD\\\\NACC269863_128401136192134176253428319461310164225673ni', '\\\\\\\\?\\\\c:\\\\Users\\\\Crt\\\\Desktop\\\\WIMR\\\\asymmetryAD\\\\NACC_data\\\\sorted_cohorts\\\\ALZD\\\\NACC269863_128401136192134176253428321521212526881795ni', '\\\\\\\\?\\\\c:\\\\Users\\\\Crt\\\\Desktop\\\\WIMR\\\\asymmetryAD\\\\NACC_data\\\\sorted_cohorts\\\\ALZD\\\\NACC331862_13122110752436602730000015051312084911200000010ni', '\\\\\\\\?\\\\c:\\\\Users\\\\Crt\\\\Desktop\\\\WIMR\\\\asymmetryAD\\\\NACC_data\\\\sorted_cohorts\\\\ALZD\\\\NACC331862_13122110752436602730000016101812334459500000016ni', '\\\\\\\\?\\\\c:\\\\Users\\\\Crt\\\\Desktop\\\\WIMR\\\\asymmetryAD\\\\NACC_data\\\\sorted_cohorts\\\\ALZD\\\\NACC340499_12840113745101000100200039418526423555173ni', '\\\\\\\\?\\\\c:\\\\Users\\\\Crt\\\\Desktop\\\\WIMR\\\\asymmetryAD\\\\NACC_data\\\\sorted_cohorts\\\\ALZD\\\\NACC340499_12840113745101000100200040510647329177048ni', '\\\\\\\\?\\\\c:\\\\Users\\\\Crt\\\\Desktop\\\\WIMR\\\\asymmetryAD\\\\NACC_data\\\\sorted_cohorts\\\\ALZD\\\\NACC340499_13122110752122123630000011041215380328100001757ni', '\\\\\\\\?\\\\c:\\\\Users\\\\Crt\\\\Desktop\\\\WIMR\\\\asymmetryAD\\\\NACC_data\\\\sorted_cohorts\\\\ALZD\\\\NACC348810_128401136192134176253428334271168293385507ni', '\\\\\\\\?\\\\c:\\\\Users\\\\Crt\\\\Desktop\\\\WIMR\\\\asymmetryAD\\\\NACC_data\\\\sorted_cohorts\\\\ALZD\\\\NACC348810_128401136192134176253428334481259692395704ni', '\\\\\\\\?\\\\c:\\\\Users\\\\Crt\\\\Desktop\\\\WIMR\\\\asymmetryAD\\\\NACC_data\\\\sorted_cohorts\\\\ALZD\\\\NACC356611_12840113619213417625342832910127379145561ni', '\\\\\\\\?\\\\c:\\\\Users\\\\Crt\\\\Desktop\\\\WIMR\\\\asymmetryAD\\\\NACC_data\\\\sorted_cohorts\\\\ALZD\\\\NACC356611_128401136192134176253428353861149170656561ni', '\\\\\\\\?\\\\c:\\\\Users\\\\Crt\\\\Desktop\\\\WIMR\\\\asymmetryAD\\\\NACC_data\\\\sorted_cohorts\\\\ALZD\\\\NACC360216_128401136192134176253428319391304962979642ni', '\\\\\\\\?\\\\c:\\\\Users\\\\Crt\\\\Desktop\\\\WIMR\\\\asymmetryAD\\\\NACC_data\\\\sorted_cohorts\\\\ALZD\\\\NACC360216_128401136192134176253428336311234368432549ni', '\\\\\\\\?\\\\c:\\\\Users\\\\Crt\\\\Desktop\\\\WIMR\\\\asymmetryAD\\\\NACC_data\\\\sorted_cohorts\\\\ALZD\\\\NACC426385_128401136192134176253428319391304963023663ni', '\\\\\\\\?\\\\c:\\\\Users\\\\Crt\\\\Desktop\\\\WIMR\\\\asymmetryAD\\\\NACC_data\\\\sorted_cohorts\\\\ALZD\\\\NACC426385_12840113619213417625342831941124085073562ni', '\\\\\\\\?\\\\c:\\\\Users\\\\Crt\\\\Desktop\\\\WIMR\\\\asymmetryAD\\\\NACC_data\\\\sorted_cohorts\\\\ALZD\\\\NACC510442_12840113619213417625342832847125484678047ni', '\\\\\\\\?\\\\c:\\\\Users\\\\Crt\\\\Desktop\\\\WIMR\\\\asymmetryAD\\\\NACC_data\\\\sorted_cohorts\\\\ALZD\\\\NACC510442_1312211075992309730000012052117321218700017380ni', '\\\\\\\\?\\\\c:\\\\Users\\\\Crt\\\\Desktop\\\\WIMR\\\\asymmetryAD\\\\NACC_data\\\\sorted_cohorts\\\\ALZD\\\\NACC560745_13122110752323504330000010051712084337500000010ni', '\\\\\\\\?\\\\c:\\\\Users\\\\Crt\\\\Desktop\\\\WIMR\\\\asymmetryAD\\\\NACC_data\\\\sorted_cohorts\\\\ALZD\\\\NACC560745_13122110752323504330000011061312381431200000046ni', '\\\\\\\\?\\\\c:\\\\Users\\\\Crt\\\\Desktop\\\\WIMR\\\\asymmetryAD\\\\NACC_data\\\\sorted_cohorts\\\\ALZD\\\\NACC574405_128401136192134176253428324911283958681280ni', '\\\\\\\\?\\\\c:\\\\Users\\\\Crt\\\\Desktop\\\\WIMR\\\\asymmetryAD\\\\NACC_data\\\\sorted_cohorts\\\\ALZD\\\\NACC574405_128401136192134176253428348401337101984122ni', '\\\\\\\\?\\\\c:\\\\Users\\\\Crt\\\\Desktop\\\\WIMR\\\\asymmetryAD\\\\NACC_data\\\\sorted_cohorts\\\\ALZD\\\\NACC597068_12840113619213417625342831942134911239623ni', '\\\\\\\\?\\\\c:\\\\Users\\\\Crt\\\\Desktop\\\\WIMR\\\\asymmetryAD\\\\NACC_data\\\\sorted_cohorts\\\\ALZD\\\\NACC597068_12840113619213417625342831953131257466437ni', '\\\\\\\\?\\\\c:\\\\Users\\\\Crt\\\\Desktop\\\\WIMR\\\\asymmetryAD\\\\NACC_data\\\\sorted_cohorts\\\\ALZD\\\\NACC637310_128401136192134176253428319421300140323856ni', '\\\\\\\\?\\\\c:\\\\Users\\\\Crt\\\\Desktop\\\\WIMR\\\\asymmetryAD\\\\NACC_data\\\\sorted_cohorts\\\\ALZD\\\\NACC637310_12840113619225117625342831234460870362ni', '\\\\\\\\?\\\\c:\\\\Users\\\\Crt\\\\Desktop\\\\WIMR\\\\asymmetryAD\\\\NACC_data\\\\sorted_cohorts\\\\ALZD\\\\NACC661545_128401136192134176253428326351188937051917ni', '\\\\\\\\?\\\\c:\\\\Users\\\\Crt\\\\Desktop\\\\WIMR\\\\asymmetryAD\\\\NACC_data\\\\sorted_cohorts\\\\ALZD\\\\NACC661545_128401136192134176253428334481259692441310ni', '\\\\\\\\?\\\\c:\\\\Users\\\\Crt\\\\Desktop\\\\WIMR\\\\asymmetryAD\\\\NACC_data\\\\sorted_cohorts\\\\ALZD\\\\NACC664757_128401136192134176253428328921183046540857ni', '\\\\\\\\?\\\\c:\\\\Users\\\\Crt\\\\Desktop\\\\WIMR\\\\asymmetryAD\\\\NACC_data\\\\sorted_cohorts\\\\ALZD\\\\NACC664757_128401136192134176253428329121280511623922ni', '\\\\\\\\?\\\\c:\\\\Users\\\\Crt\\\\Desktop\\\\WIMR\\\\asymmetryAD\\\\NACC_data\\\\sorted_cohorts\\\\ALZD\\\\NACC702272_12840113619213417625342832152121252688239ni', '\\\\\\\\?\\\\c:\\\\Users\\\\Crt\\\\Desktop\\\\WIMR\\\\asymmetryAD\\\\NACC_data\\\\sorted_cohorts\\\\ALZD\\\\NACC702272_128401136192134176253428336891313525826619ni', '\\\\\\\\?\\\\c:\\\\Users\\\\Crt\\\\Desktop\\\\WIMR\\\\asymmetryAD\\\\NACC_data\\\\sorted_cohorts\\\\ALZD\\\\NACC716555_128401136192134176253428331401323807810251ni', '\\\\\\\\?\\\\c:\\\\Users\\\\Crt\\\\Desktop\\\\WIMR\\\\asymmetryAD\\\\NACC_data\\\\sorted_cohorts\\\\ALZD\\\\NACC716555_128401136192134176253428334481259692304709ni', '\\\\\\\\?\\\\c:\\\\Users\\\\Crt\\\\Desktop\\\\WIMR\\\\asymmetryAD\\\\NACC_data\\\\sorted_cohorts\\\\ALZD\\\\NACC727805_13122110752436602730000016040711594371200000007ni', '\\\\\\\\?\\\\c:\\\\Users\\\\Crt\\\\Desktop\\\\WIMR\\\\asymmetryAD\\\\NACC_data\\\\sorted_cohorts\\\\ALZD\\\\NACC727805_13122110752436602730000017052512504735700000007ni', '\\\\\\\\?\\\\c:\\\\Users\\\\Crt\\\\Desktop\\\\WIMR\\\\asymmetryAD\\\\NACC_data\\\\sorted_cohorts\\\\ALZD\\\\NACC787248_12840113619213417625342832977125486922395ni', '\\\\\\\\?\\\\c:\\\\Users\\\\Crt\\\\Desktop\\\\WIMR\\\\asymmetryAD\\\\NACC_data\\\\sorted_cohorts\\\\ALZD\\\\NACC787248_128401136192134176253428332741326220804905ni', '\\\\\\\\?\\\\c:\\\\Users\\\\Crt\\\\Desktop\\\\WIMR\\\\asymmetryAD\\\\NACC_data\\\\sorted_cohorts\\\\ALZD\\\\NACC807499_1284011361921341762534283194113295005734ni', '\\\\\\\\?\\\\c:\\\\Users\\\\Crt\\\\Desktop\\\\WIMR\\\\asymmetryAD\\\\NACC_data\\\\sorted_cohorts\\\\ALZD\\\\NACC807499_128401136192134176253428335121257275209467ni', '\\\\\\\\?\\\\c:\\\\Users\\\\Crt\\\\Desktop\\\\WIMR\\\\asymmetryAD\\\\NACC_data\\\\sorted_cohorts\\\\ALZD\\\\NACC905292_12840113619213417625342831936127255293051ni', '\\\\\\\\?\\\\c:\\\\Users\\\\Crt\\\\Desktop\\\\WIMR\\\\asymmetryAD\\\\NACC_data\\\\sorted_cohorts\\\\ALZD\\\\NACC905292_128401136192134176253428319411240850745981ni']\n"
     ]
    }
   ],
   "source": [
    "print(alzfolders)"
   ]
  },
  {
   "cell_type": "code",
   "execution_count": 70,
   "metadata": {},
   "outputs": [],
   "source": [
    "def copy_deepest_files_to_new_location(source_folders, target_base_folder):\n",
    "    # Traverse through all directories and subdirectories\n",
    "    for folder in source_folders:\n",
    "        # Extract the original folder name (top-level parent folder)\n",
    "        parent_folder_name = os.path.basename(folder.rstrip(os.sep))\n",
    "\n",
    "        # Create a new target folder based on the parent folder name\n",
    "        target_folder = os.path.join(target_base_folder, parent_folder_name)\n",
    "        os.makedirs(target_folder, exist_ok=True)\n",
    "\n",
    "        # Walk through the folder structure to find all files at the deepest level\n",
    "        for root, dirs, files in os.walk(folder):\n",
    "            if files:  # If the current folder contains files\n",
    "                for file in files:\n",
    "                    file_path = os.path.join(root, file)\n",
    "                    \n",
    "                    # Copy the file to the target folder and rename if necessary to avoid duplicates\n",
    "                    new_file_path = os.path.join(target_folder, file)\n",
    "                    if os.path.exists(new_file_path):\n",
    "                        base, extension = os.path.splitext(file)\n",
    "                        new_file_path = os.path.join(target_folder, f\"{base}_copy{extension}\")\n",
    "                    \n",
    "                    shutil.copy2(file_path, new_file_path)  # Copy instead of move\n",
    "                    print(f\"Copied: {file_path} to {new_file_path}\")"
   ]
  },
  {
   "cell_type": "code",
   "execution_count": 71,
   "metadata": {},
   "outputs": [
    {
     "name": "stdout",
     "output_type": "stream",
     "text": [
      "Copied: \\\\?\\c:\\Users\\Crt\\Desktop\\WIMR\\asymmetryAD\\NACC_data\\sorted_cohorts\\ALZD\\1018_NACC862393_20161122ni\\1018_NACC862393_20161122\\MPRAGE_GRAPPA2_2_1312211075219452552016112212142985622332873000\\1.3.12.2.1107.5.2.19.45255.2016112212142985622332873.0.0.0.json to \\\\?\\c:\\Users\\Crt\\Desktop\\WIMR\\asymmetryAD\\NACC_data\\sorted_cohorts\\ALZD_simple\\1018_NACC862393_20161122ni\\1.3.12.2.1107.5.2.19.45255.2016112212142985622332873.0.0.0.json\n",
      "Copied: \\\\?\\c:\\Users\\Crt\\Desktop\\WIMR\\asymmetryAD\\NACC_data\\sorted_cohorts\\ALZD\\1018_NACC862393_20161122ni\\1018_NACC862393_20161122\\MPRAGE_GRAPPA2_2_1312211075219452552016112212142985622332873000\\1.3.12.2.1107.5.2.19.45255.2016112212142985622332873.0.0.0.nii to \\\\?\\c:\\Users\\Crt\\Desktop\\WIMR\\asymmetryAD\\NACC_data\\sorted_cohorts\\ALZD_simple\\1018_NACC862393_20161122ni\\1.3.12.2.1107.5.2.19.45255.2016112212142985622332873.0.0.0.nii\n",
      "Copied: \\\\?\\c:\\Users\\Crt\\Desktop\\WIMR\\asymmetryAD\\NACC_data\\sorted_cohorts\\ALZD\\1018_NACC862393_20191003ni\\1018_NACC862393_20191003\\MPRAGE_GRAPPA2_2_1312211075219452552019100314334677564408219000\\1.3.12.2.1107.5.2.19.45255.2019100314334677564408219.0.0.0.json to \\\\?\\c:\\Users\\Crt\\Desktop\\WIMR\\asymmetryAD\\NACC_data\\sorted_cohorts\\ALZD_simple\\1018_NACC862393_20191003ni\\1.3.12.2.1107.5.2.19.45255.2019100314334677564408219.0.0.0.json\n",
      "Copied: \\\\?\\c:\\Users\\Crt\\Desktop\\WIMR\\asymmetryAD\\NACC_data\\sorted_cohorts\\ALZD\\1018_NACC862393_20191003ni\\1018_NACC862393_20191003\\MPRAGE_GRAPPA2_2_1312211075219452552019100314334677564408219000\\1.3.12.2.1107.5.2.19.45255.2019100314334677564408219.0.0.0.nii to \\\\?\\c:\\Users\\Crt\\Desktop\\WIMR\\asymmetryAD\\NACC_data\\sorted_cohorts\\ALZD_simple\\1018_NACC862393_20191003ni\\1.3.12.2.1107.5.2.19.45255.2019100314334677564408219.0.0.0.nii\n"
     ]
    }
   ],
   "source": [
    "copy_deepest_files_to_new_location(alz_folders, s_alzdPath)"
   ]
  }
 ],
 "metadata": {
  "kernelspec": {
   "display_name": "Python 3",
   "language": "python",
   "name": "python3"
  },
  "language_info": {
   "codemirror_mode": {
    "name": "ipython",
    "version": 3
   },
   "file_extension": ".py",
   "mimetype": "text/x-python",
   "name": "python",
   "nbconvert_exporter": "python",
   "pygments_lexer": "ipython3",
   "version": "3.12.6"
  }
 },
 "nbformat": 4,
 "nbformat_minor": 2
}
