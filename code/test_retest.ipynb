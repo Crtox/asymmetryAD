{
 "cells": [
  {
   "cell_type": "markdown",
   "metadata": {},
   "source": [
    "# Test-retest study on UW data using asymmetry index\n",
    "In this script I will do a test retest study on some FSPGR and MPRAGE MRI sequencings. I follow the proccess from a matlab code, written by Ali Deatsch."
   ]
  },
  {
   "cell_type": "markdown",
   "metadata": {},
   "source": [
    "FSPGR all are cancer patients, MPRAGE are all healthy. Both are NC."
   ]
  },
  {
   "cell_type": "code",
   "execution_count": 26,
   "metadata": {},
   "outputs": [],
   "source": [
    "import numpy as np\n",
    "import nibabel as nib\n",
    "import matplotlib.pyplot as plt\n",
    "import itertools"
   ]
  },
  {
   "cell_type": "code",
   "execution_count": 27,
   "metadata": {},
   "outputs": [],
   "source": [
    "from test_retest_functions import *"
   ]
  },
  {
   "cell_type": "code",
   "execution_count": 28,
   "metadata": {},
   "outputs": [],
   "source": [
    "fspgrPath = '../../UW_data/Test-retest_UWCCC_MRI_AxT1_FSPGRbravo_refined/'\n",
    "mpragePath = '../../UW_data/Test-retest_NITRCKirby_MRI_T1_MPRAGE/'\n",
    "\n",
    "maskPath = 'C:/Users/Crt/Documents/WIMR/asymmetryAD/UW_data/AAL3+pons/'"
   ]
  },
  {
   "cell_type": "markdown",
   "metadata": {},
   "source": [
    "## Dataset analysis\n",
    "Firstly I will take a look at my dataset: number of subjects, number of longitudinal scans, median time between scans..."
   ]
  },
  {
   "cell_type": "code",
   "execution_count": 29,
   "metadata": {},
   "outputs": [],
   "source": [
    "fspgr_patient_scans = count_patients_scan(fspgrPath, mpragePath)[0]\n",
    "mprage_patient_scans = count_patients_scan(fspgrPath, mpragePath)[1]"
   ]
  },
  {
   "cell_type": "code",
   "execution_count": 30,
   "metadata": {},
   "outputs": [
    {
     "name": "stdout",
     "output_type": "stream",
     "text": [
      "Number of different patients with FSPGR scan: 16\n",
      "\n",
      "Patient ID: GJDGYD - Number of scans: 2\n",
      "Patient ID: GJDGYR - Number of scans: 2\n",
      "Patient ID: GJDGYZ - Number of scans: 2\n",
      "Patient ID: GJDGZH - Number of scans: 3\n",
      "Patient ID: GJDGZW - Number of scans: 2\n",
      "Patient ID: GJDH1X - Number of scans: 2\n",
      "Patient ID: GJDH22 - Number of scans: 2\n",
      "Patient ID: GJDH2A - Number of scans: 2\n",
      "Patient ID: GJDH2Z - Number of scans: 2\n",
      "Patient ID: GJDH4C - Number of scans: 2\n",
      "Patient ID: GJDH4Q - Number of scans: 2\n",
      "Patient ID: GJDHDK - Number of scans: 2\n",
      "Patient ID: GJDHVO - Number of scans: 3\n",
      "Patient ID: GJDHZ6 - Number of scans: 2\n",
      "Patient ID: GJDHZF - Number of scans: 2\n",
      "Patient ID: GJDI07 - Number of scans: 2\n",
      "--------------------------------------------------------------\n",
      "Number of different patients with MPRAGE scan: 21\n",
      "\n",
      "Patient ID: S113 - Number of scans: 2\n",
      "Patient ID: S127 - Number of scans: 2\n",
      "Patient ID: S142 - Number of scans: 2\n",
      "Patient ID: S239 - Number of scans: 2\n",
      "Patient ID: S346 - Number of scans: 2\n",
      "Patient ID: S422 - Number of scans: 2\n",
      "Patient ID: S492 - Number of scans: 2\n",
      "Patient ID: S502 - Number of scans: 2\n",
      "Patient ID: S505 - Number of scans: 2\n",
      "Patient ID: S656 - Number of scans: 2\n",
      "Patient ID: S679 - Number of scans: 2\n",
      "Patient ID: S742 - Number of scans: 2\n",
      "Patient ID: S800 - Number of scans: 2\n",
      "Patient ID: S814 - Number of scans: 2\n",
      "Patient ID: S815 - Number of scans: 2\n",
      "Patient ID: S849 - Number of scans: 2\n",
      "Patient ID: S906 - Number of scans: 2\n",
      "Patient ID: S913 - Number of scans: 2\n",
      "Patient ID: S916 - Number of scans: 2\n",
      "Patient ID: S934 - Number of scans: 2\n",
      "Patient ID: S959 - Number of scans: 2\n"
     ]
    }
   ],
   "source": [
    "print(f\"Number of different patients with FSPGR scan: {len(fspgr_patient_scans)}\\n\")\n",
    "\n",
    "for patient_id, scan_count in fspgr_patient_scans.items():\n",
    "    print(f\"Patient ID: {patient_id} - Number of scans: {scan_count}\")\n",
    "\n",
    "print('--------------------------------------------------------------')\n",
    "\n",
    "print(f\"Number of different patients with MPRAGE scan: {len(mprage_patient_scans)}\\n\")\n",
    "\n",
    "for patient_id, scan_count in mprage_patient_scans.items():\n",
    "    print(f\"Patient ID: {patient_id} - Number of scans: {scan_count}\")"
   ]
  },
  {
   "cell_type": "markdown",
   "metadata": {},
   "source": [
    "For now I'm only interested in those with 2 scan. I will filter out the dictionary to contain only those. "
   ]
  },
  {
   "cell_type": "code",
   "execution_count": 31,
   "metadata": {},
   "outputs": [],
   "source": [
    "fspgr_patient_scans = {patient_id: scans for patient_id, scans in fspgr_patient_scans.items() if scans == 2}"
   ]
  },
  {
   "cell_type": "code",
   "execution_count": 32,
   "metadata": {},
   "outputs": [
    {
     "name": "stdout",
     "output_type": "stream",
     "text": [
      "Number of different patients: 14\n",
      "\n",
      "Patient ID: GJDGYD - Number of scans: 2\n",
      "Patient ID: GJDGYR - Number of scans: 2\n",
      "Patient ID: GJDGYZ - Number of scans: 2\n",
      "Patient ID: GJDGZW - Number of scans: 2\n",
      "Patient ID: GJDH1X - Number of scans: 2\n",
      "Patient ID: GJDH22 - Number of scans: 2\n",
      "Patient ID: GJDH2A - Number of scans: 2\n",
      "Patient ID: GJDH2Z - Number of scans: 2\n",
      "Patient ID: GJDH4C - Number of scans: 2\n",
      "Patient ID: GJDH4Q - Number of scans: 2\n",
      "Patient ID: GJDHDK - Number of scans: 2\n",
      "Patient ID: GJDHZ6 - Number of scans: 2\n",
      "Patient ID: GJDHZF - Number of scans: 2\n",
      "Patient ID: GJDI07 - Number of scans: 2\n"
     ]
    }
   ],
   "source": [
    "print(f\"Number of different patients: {len(fspgr_patient_scans)}\\n\")\n",
    "\n",
    "for patient_id, scan_count in fspgr_patient_scans.items():\n",
    "    print(f\"Patient ID: {patient_id} - Number of scans: {scan_count}\")"
   ]
  },
  {
   "cell_type": "markdown",
   "metadata": {},
   "source": [
    "Now I want to calculate the median, max and min time between two scans. "
   ]
  },
  {
   "cell_type": "code",
   "execution_count": 33,
   "metadata": {},
   "outputs": [],
   "source": [
    "fspgr_scan_dates = date_of_scans(fspgrPath, fspgr_patient_scans)"
   ]
  },
  {
   "cell_type": "code",
   "execution_count": 34,
   "metadata": {},
   "outputs": [
    {
     "name": "stdout",
     "output_type": "stream",
     "text": [
      "Patient GJDGYD has scan dates: ['2012-06-17', '2012-06-29']\n",
      "Patient GJDGYR has scan dates: ['2019-05-11', '2019-05-15']\n",
      "Patient GJDGYZ has scan dates: ['2014-11-13', '2014-11-29']\n",
      "Patient GJDGZW has scan dates: ['2013-03-20', '2013-03-26']\n",
      "Patient GJDH1X has scan dates: ['2017-05-14', '2017-05-23']\n",
      "Patient GJDH22 has scan dates: ['2011-02-21', '2011-02-26']\n",
      "Patient GJDH2A has scan dates: ['2015-09-28', '2015-10-03']\n",
      "Patient GJDH2Z has scan dates: ['2019-05-14', '2019-05-22']\n",
      "Patient GJDH4C has scan dates: ['2016-07-10', '2016-07-17']\n",
      "Patient GJDH4Q has scan dates: ['2015-02-28', '2015-03-09']\n",
      "Patient GJDHDK has scan dates: ['2016-09-15', '2016-10-03']\n",
      "Patient GJDHZ6 has scan dates: ['2019-08-19', '2019-09-16']\n",
      "Patient GJDHZF has scan dates: ['2019-06-11', '2019-07-01']\n",
      "Patient GJDI07 has scan dates: ['2019-11-09', '2019-11-16']\n"
     ]
    }
   ],
   "source": [
    "for patient_id, dates in fspgr_scan_dates.items():\n",
    "    print(f\"Patient {patient_id} has scan dates: {dates}\")"
   ]
  },
  {
   "cell_type": "markdown",
   "metadata": {},
   "source": [
    "Finally calculating the time differences."
   ]
  },
  {
   "cell_type": "code",
   "execution_count": 35,
   "metadata": {},
   "outputs": [],
   "source": [
    "fspgr_time_between_scans = []\n",
    "\n",
    "for dates_array in fspgr_scan_dates.values():\n",
    "\n",
    "    date0 = parser.parse(dates_array[0])\n",
    "    date1 = parser.parse(dates_array[1])\n",
    "\n",
    "    diff = date1 - date0\n",
    "\n",
    "    fspgr_time_between_scans.append(diff.days)"
   ]
  },
  {
   "cell_type": "code",
   "execution_count": 36,
   "metadata": {},
   "outputs": [
    {
     "name": "stdout",
     "output_type": "stream",
     "text": [
      "[12, 4, 16, 6, 9, 5, 5, 8, 7, 9, 18, 28, 20, 7]\n"
     ]
    }
   ],
   "source": [
    "print(fspgr_time_between_scans)"
   ]
  },
  {
   "cell_type": "code",
   "execution_count": 37,
   "metadata": {},
   "outputs": [],
   "source": [
    "fspgr_average = np.mean(fspgr_time_between_scans)\n",
    "fspgr_medi = int(np.median(fspgr_time_between_scans))\n",
    "fspgr_minimum = np.min(fspgr_time_between_scans)\n",
    "fspgr_maximum = np.max(fspgr_time_between_scans)"
   ]
  },
  {
   "cell_type": "code",
   "execution_count": 38,
   "metadata": {},
   "outputs": [
    {
     "name": "stdout",
     "output_type": "stream",
     "text": [
      "Average time between two scans: 11.0 days\n",
      "Median time between two scans: 8 days\n",
      "Range: 4-28 days\n"
     ]
    }
   ],
   "source": [
    "print(f'''Average time between two scans: {fspgr_average} days\n",
    "Median time between two scans: {fspgr_medi} days\n",
    "Range: {fspgr_minimum}-{fspgr_maximum} days''')"
   ]
  },
  {
   "cell_type": "markdown",
   "metadata": {},
   "source": [
    "!! MPRAGE scans were all taken on the same day. !!"
   ]
  },
  {
   "cell_type": "markdown",
   "metadata": {},
   "source": [
    "## Asymmetry index"
   ]
  },
  {
   "cell_type": "markdown",
   "metadata": {},
   "source": [
    "Getting the file paths of those patients with 2 scans. "
   ]
  },
  {
   "cell_type": "code",
   "execution_count": 45,
   "metadata": {},
   "outputs": [],
   "source": [
    "fspgr_files = filepaths(fspgrPath, mpragePath, fspgr_patient_scans)[0]\n",
    "mprage_files = filepaths(fspgrPath, mpragePath, mprage_patient_scans)[1]"
   ]
  },
  {
   "cell_type": "markdown",
   "metadata": {},
   "source": [
    "Separating initial scans from follow up scans. "
   ]
  },
  {
   "cell_type": "code",
   "execution_count": 46,
   "metadata": {},
   "outputs": [],
   "source": [
    "first_fspgr = separate_scans(fspgr_files)[0]\n",
    "second_fspgr = separate_scans(fspgr_files)[1]\n",
    "\n",
    "first_mprage = separate_scans(mprage_files)[0]\n",
    "second_mprage = separate_scans(mprage_files)[1]"
   ]
  },
  {
   "cell_type": "markdown",
   "metadata": {},
   "source": [
    "Flattening and normalizing the scans."
   ]
  },
  {
   "cell_type": "code",
   "execution_count": 47,
   "metadata": {},
   "outputs": [],
   "source": [
    "first_fspgr = flatten_and_normalize(first_fspgr)\n",
    "second_fspgr = flatten_and_normalize(second_fspgr)\n",
    "\n",
    "first_mprage = flatten_and_normalize(first_mprage)\n",
    "second_mprage = flatten_and_normalize(second_mprage)"
   ]
  },
  {
   "cell_type": "code",
   "execution_count": 48,
   "metadata": {},
   "outputs": [
    {
     "name": "stdout",
     "output_type": "stream",
     "text": [
      "(902629, 14)\n"
     ]
    }
   ],
   "source": [
    "print(first_fspgr.shape)"
   ]
  },
  {
   "cell_type": "markdown",
   "metadata": {},
   "source": [
    "Getting the mask by hemispheres."
   ]
  },
  {
   "cell_type": "code",
   "execution_count": 49,
   "metadata": {},
   "outputs": [],
   "source": [
    "left_hemisphere_mask = mask_hemispheres(maskPath + 'AAL3+pons.nii', maskPath + 'AAL3+pons.txt')[0]\n",
    "right_hemisphere_mask = mask_hemispheres(maskPath + 'AAL3+pons.nii', maskPath + 'AAL3+pons.txt')[1]"
   ]
  },
  {
   "cell_type": "code",
   "execution_count": 50,
   "metadata": {},
   "outputs": [
    {
     "name": "stdout",
     "output_type": "stream",
     "text": [
      "(902629,)\n"
     ]
    }
   ],
   "source": [
    "print(left_hemisphere_mask.shape)"
   ]
  },
  {
   "cell_type": "markdown",
   "metadata": {},
   "source": [
    "Calculating AI for each .nii image."
   ]
  },
  {
   "cell_type": "code",
   "execution_count": 51,
   "metadata": {},
   "outputs": [],
   "source": [
    "AI_first_fspgr = AI_whole_brain(first_fspgr, left_hemisphere_mask, right_hemisphere_mask)\n",
    "AI_second_fspgr = AI_whole_brain(second_fspgr, left_hemisphere_mask, right_hemisphere_mask)\n",
    "\n",
    "AI_first_mprage = AI_whole_brain(first_mprage, left_hemisphere_mask, right_hemisphere_mask)\n",
    "AI_second_mprage = AI_whole_brain(second_mprage, left_hemisphere_mask, right_hemisphere_mask)"
   ]
  },
  {
   "cell_type": "code",
   "execution_count": 52,
   "metadata": {},
   "outputs": [
    {
     "name": "stdout",
     "output_type": "stream",
     "text": [
      "[-1.943559648881919, -0.36994516559126356, -1.1986259977362979, -2.6459433143908235, -2.9446055842311236, -0.9675724206869621, -1.6421681369541166, -1.1238889420132707, -0.6705122550735934, 0.07414812280529395, -0.9915238980630916, -1.5833478517398962, -2.8842595240406306, -5.714808378518823]\n",
      "[-3.4991415656230584, -1.662979706912778, -2.5299145135582677, -0.18284019969816143, -2.6076114522745364, -0.05184799198944195, -1.0271171474174066, -4.482252527768397, 1.029880355673258, 0.20938270145391438, -2.7351855230057933, -0.7753107838865236, -0.6619976071141048, -3.36648468266552]\n",
      "[0.21165478532216755, -0.4965512049537499, -0.35291247506263823, 0.17980886341479255, 0.23000104503794142, 0.17009146870147573, 0.1742203071477271, -1.991206977245541, 0.012143417186654617, -0.809304075277433, 0.22801801157711984, 12.500000000000002, -62.5, 0.31660667726145253, 0.20828673471967313, -1.6230488478051126, 0.2385773127040945, 0.1871476506884445, -0.6447818338943451, 0.29663877975409303, 0.1937955075503193]\n",
      "[-1.7853676067855835, -1.9698280250057696, -0.9472385252310566, 56.57058206283563, 0.21507309091541907, 0.149277427965022, 29.85739750445633, -2.2998402503217954, 0.1297142590965642, -0.880521318005449, 0.20953426266784408, -20.731707317073187, 0.23790467693963402, 0.30438219736480326, 0.19161815867351817, -1.8401360520535317, 0.25682877031735, 0.23345452929948596, -1.190255092500104, 0.3181458955706007, 0.2153562074505509]\n"
     ]
    }
   ],
   "source": [
    "print(AI_first_fspgr)\n",
    "print(AI_second_fspgr)\n",
    "\n",
    "print(AI_first_mprage)\n",
    "print(AI_second_mprage)"
   ]
  }
 ],
 "metadata": {
  "kernelspec": {
   "display_name": "Python 3",
   "language": "python",
   "name": "python3"
  },
  "language_info": {
   "codemirror_mode": {
    "name": "ipython",
    "version": 3
   },
   "file_extension": ".py",
   "mimetype": "text/x-python",
   "name": "python",
   "nbconvert_exporter": "python",
   "pygments_lexer": "ipython3",
   "version": "3.12.6"
  }
 },
 "nbformat": 4,
 "nbformat_minor": 2
}
