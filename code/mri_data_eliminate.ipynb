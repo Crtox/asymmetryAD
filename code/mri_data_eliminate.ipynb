{
 "cells": [
  {
   "cell_type": "markdown",
   "metadata": {},
   "source": [
    "## Eliminating patients by UDSD + ALZD\n",
    "Another script for narrowing down the data. This time we look at both UDSD and ALZD. We eliminate all those whose scores were constantly:<br>\n",
    "2, 0 <br>\n",
    "3, 0 <br>\n",
    "4, 0 <br>\n",
    "fromatted: <br>\n",
    "UDSD, ALZD <br>\n",
    "These patients can have dementia (UDSD=4), but not as a result of Alzheimer's disease (ALZD=0 means negative for ALZD). Since we are interested only in ALZD, we eliminate those."
   ]
  },
  {
   "cell_type": "code",
   "execution_count": null,
   "metadata": {},
   "outputs": [],
   "source": [
    "import pandas as pd\n",
    "import matplotlib.pyplot as plt\n",
    "import numpy as np"
   ]
  },
  {
   "cell_type": "code",
   "execution_count": null,
   "metadata": {},
   "outputs": [],
   "source": [
    "loadPath = \"../data/\"\n",
    "writePath = \"../data/\"\n",
    "savePath = \"../results/\""
   ]
  }
 ],
 "metadata": {
  "kernelspec": {
   "display_name": "Python 3",
   "language": "python",
   "name": "python3"
  },
  "language_info": {
   "name": "python",
   "version": "3.12.6"
  }
 },
 "nbformat": 4,
 "nbformat_minor": 2
}
