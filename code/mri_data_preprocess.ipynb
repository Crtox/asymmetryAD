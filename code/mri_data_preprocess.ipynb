{
 "cells": [
  {
   "cell_type": "markdown",
   "metadata": {},
   "source": [
    "## Prepare data for preprocess\n",
    "Script to copy .nii files from sorted cohorts to a new cohort that contains only .nii files. I could modify the Matlab code but I do not want to deal with Matlab any more than needed."
   ]
  },
  {
   "cell_type": "code",
   "execution_count": 11,
   "metadata": {},
   "outputs": [],
   "source": [
    "import os \n",
    "import shutil"
   ]
  },
  {
   "cell_type": "code",
   "execution_count": 12,
   "metadata": {},
   "outputs": [],
   "source": [
    "ncPath = '../../NACC_data/sorted_cohorts/NC_simple/'\n",
    "mciPath = '../../NACC_data/sorted_cohorts/MCI_simple/'\n",
    "alzdPath = '../../NACC_data/sorted_cohorts/ALZD_simple/'\n",
    "transPath = '../../NACC_data/sorted_cohorts/TRANS_simple/'\n",
    "\n",
    "ncPath_nii = '../../NACC_data/sorted_cohorts/NC_nii/'\n",
    "mciPath_nii = '../../NACC_data/sorted_cohorts/MCI_nii/'\n",
    "alzdPath_nii = '../../NACC_data/sorted_cohorts/ALZD_nii/'\n",
    "transPath_nii = '../../NACC_data/sorted_cohorts/TRANS_nii/'"
   ]
  },
  {
   "cell_type": "code",
   "execution_count": 13,
   "metadata": {},
   "outputs": [],
   "source": [
    "# Convert the relative path to an absolute path\n",
    "ncPath = os.path.abspath(ncPath)\n",
    "mciPath = os.path.abspath(mciPath)\n",
    "alzdPath = os.path.abspath(alzdPath)\n",
    "transPath = os.path.abspath(transPath)\n",
    "\n",
    "ncPath_nii = os.path.abspath(ncPath_nii)\n",
    "mciPath_nii = os.path.abspath(mciPath_nii)\n",
    "alzdPath_nii = os.path.abspath(alzdPath_nii)\n",
    "transPath_nii = os.path.abspath(transPath_nii)\n",
    "\n",
    "# Modify the absolute path for long path support on Windows\n",
    "if os.name == 'nt':                     # Check if the operating system is Windows\n",
    "    ncPath = '\\\\\\\\?\\\\' + ncPath\n",
    "    mciPath = '\\\\\\\\?\\\\' + mciPath\n",
    "    alzdPath = '\\\\\\\\?\\\\' + alzdPath\n",
    "    transPath = '\\\\\\\\?\\\\' + transPath\n",
    "\n",
    "    ncPath_nii = '\\\\\\\\?\\\\' + ncPath_nii\n",
    "    mciPath_nii = '\\\\\\\\?\\\\' + mciPath_nii\n",
    "    alzdPath_nii = '\\\\\\\\?\\\\' + alzdPath_nii\n",
    "    transPath_nii = '\\\\\\\\?\\\\' + transPath_nii"
   ]
  },
  {
   "cell_type": "code",
   "execution_count": 14,
   "metadata": {},
   "outputs": [],
   "source": [
    "def copy_nii(cohortPath, targetPath):\n",
    "\n",
    "    for folder in os.listdir(cohortPath):\n",
    "\n",
    "        folder_fp = os.path.join(cohortPath, folder)\n",
    "\n",
    "        for file in os.listdir(folder_fp):\n",
    "\n",
    "            file_fp = os.path.join(folder_fp, file)\n",
    "\n",
    "            if file.endswith('.nii'):\n",
    "\n",
    "                shutil.copy2(file_fp, targetPath)"
   ]
  },
  {
   "cell_type": "code",
   "execution_count": 15,
   "metadata": {},
   "outputs": [],
   "source": [
    "#copy_nii(alzdPath, alzdPath_nii)"
   ]
  },
  {
   "cell_type": "code",
   "execution_count": 16,
   "metadata": {},
   "outputs": [],
   "source": [
    "#copy_nii(mciPath, mciPath_nii)"
   ]
  },
  {
   "cell_type": "code",
   "execution_count": 17,
   "metadata": {},
   "outputs": [],
   "source": [
    "#copy_nii(transPath, transPath_nii)"
   ]
  },
  {
   "cell_type": "code",
   "execution_count": 18,
   "metadata": {},
   "outputs": [],
   "source": [
    "#copy_nii(ncPath, ncPath_nii)"
   ]
  }
 ],
 "metadata": {
  "kernelspec": {
   "display_name": "Python 3",
   "language": "python",
   "name": "python3"
  },
  "language_info": {
   "codemirror_mode": {
    "name": "ipython",
    "version": 3
   },
   "file_extension": ".py",
   "mimetype": "text/x-python",
   "name": "python",
   "nbconvert_exporter": "python",
   "pygments_lexer": "ipython3",
   "version": "3.12.6"
  }
 },
 "nbformat": 4,
 "nbformat_minor": 2
}
