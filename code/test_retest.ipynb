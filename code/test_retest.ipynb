{
 "cells": [
  {
   "cell_type": "markdown",
   "metadata": {},
   "source": [
    "# Test-retest study on UW data using asymmetry index\n",
    "In this script I will do a test retest study on some FSPGR and MPRAGE MRI sequencings. I follow the proccess from a matlab code, written by Ali Deatsch."
   ]
  },
  {
   "cell_type": "markdown",
   "metadata": {},
   "source": [
    "FSPGR all are cancer patients, MPRAGE are all healthy. Both are NC."
   ]
  },
  {
   "cell_type": "code",
   "execution_count": 1,
   "metadata": {},
   "outputs": [],
   "source": [
    "import numpy as np\n",
    "import nibabel as nib\n",
    "import matplotlib.pyplot as plt\n",
    "import itertools"
   ]
  },
  {
   "cell_type": "code",
   "execution_count": 2,
   "metadata": {},
   "outputs": [],
   "source": [
    "from test_retest_functions import *"
   ]
  },
  {
   "cell_type": "code",
   "execution_count": 3,
   "metadata": {},
   "outputs": [],
   "source": [
    "fspgrPath = '../../UW_data/Test-retest_UWCCC_MRI_AxT1_FSPGRbravo_refined/'\n",
    "mpragePath = '../../UW_data/Test-retest_NITRCKirby_MRI_T1_MPRAGE/'\n",
    "\n",
    "maskPath = 'C:/Users/Crt/Documents/WIMR/asymmetryAD/UW_data/AAL3+pons/'"
   ]
  },
  {
   "cell_type": "markdown",
   "metadata": {},
   "source": [
    "## Dataset analysis\n",
    "Firstly I will take a look at my dataset: number of subjects, number of longitudinal scans, median time between scans..."
   ]
  },
  {
   "cell_type": "code",
   "execution_count": 4,
   "metadata": {},
   "outputs": [],
   "source": [
    "fspgr_patient_scans = count_patients_scan(fspgrPath, mpragePath)[0]\n",
    "mprage_patient_scans = count_patients_scan(fspgrPath, mpragePath)[1]"
   ]
  },
  {
   "cell_type": "code",
   "execution_count": 5,
   "metadata": {},
   "outputs": [
    {
     "name": "stdout",
     "output_type": "stream",
     "text": [
      "Number of different patients with FSPGR scan: 16\n",
      "\n",
      "Patient ID: GJDGYD - Number of scans: 2\n",
      "Patient ID: GJDGYR - Number of scans: 2\n",
      "Patient ID: GJDGYZ - Number of scans: 2\n",
      "Patient ID: GJDGZH - Number of scans: 3\n",
      "Patient ID: GJDGZW - Number of scans: 2\n",
      "Patient ID: GJDH1X - Number of scans: 2\n",
      "Patient ID: GJDH22 - Number of scans: 2\n",
      "Patient ID: GJDH2A - Number of scans: 2\n",
      "Patient ID: GJDH2Z - Number of scans: 2\n",
      "Patient ID: GJDH4C - Number of scans: 2\n",
      "Patient ID: GJDH4Q - Number of scans: 2\n",
      "Patient ID: GJDHDK - Number of scans: 2\n",
      "Patient ID: GJDHVO - Number of scans: 3\n",
      "Patient ID: GJDHZ6 - Number of scans: 2\n",
      "Patient ID: GJDHZF - Number of scans: 2\n",
      "Patient ID: GJDI07 - Number of scans: 2\n",
      "--------------------------------------------------------------\n",
      "Number of different patients with MPRAGE scan: 21\n",
      "\n",
      "Patient ID: S113 - Number of scans: 2\n",
      "Patient ID: S127 - Number of scans: 2\n",
      "Patient ID: S142 - Number of scans: 2\n",
      "Patient ID: S239 - Number of scans: 2\n",
      "Patient ID: S346 - Number of scans: 2\n",
      "Patient ID: S422 - Number of scans: 2\n",
      "Patient ID: S492 - Number of scans: 2\n",
      "Patient ID: S502 - Number of scans: 2\n",
      "Patient ID: S505 - Number of scans: 2\n",
      "Patient ID: S656 - Number of scans: 2\n",
      "Patient ID: S679 - Number of scans: 2\n",
      "Patient ID: S742 - Number of scans: 2\n",
      "Patient ID: S800 - Number of scans: 2\n",
      "Patient ID: S814 - Number of scans: 2\n",
      "Patient ID: S815 - Number of scans: 2\n",
      "Patient ID: S849 - Number of scans: 2\n",
      "Patient ID: S906 - Number of scans: 2\n",
      "Patient ID: S913 - Number of scans: 2\n",
      "Patient ID: S916 - Number of scans: 2\n",
      "Patient ID: S934 - Number of scans: 2\n",
      "Patient ID: S959 - Number of scans: 2\n"
     ]
    }
   ],
   "source": [
    "print(f\"Number of different patients with FSPGR scan: {len(fspgr_patient_scans)}\\n\")\n",
    "\n",
    "for patient_id, scan_count in fspgr_patient_scans.items():\n",
    "    print(f\"Patient ID: {patient_id} - Number of scans: {scan_count}\")\n",
    "\n",
    "print('--------------------------------------------------------------')\n",
    "\n",
    "print(f\"Number of different patients with MPRAGE scan: {len(mprage_patient_scans)}\\n\")\n",
    "\n",
    "for patient_id, scan_count in mprage_patient_scans.items():\n",
    "    print(f\"Patient ID: {patient_id} - Number of scans: {scan_count}\")"
   ]
  },
  {
   "cell_type": "markdown",
   "metadata": {},
   "source": [
    "For now I'm only interested in those with 2 scan. I will filter out the dictionary to contain only those. "
   ]
  },
  {
   "cell_type": "code",
   "execution_count": 6,
   "metadata": {},
   "outputs": [],
   "source": [
    "fspgr_patient_scans = {patient_id: scans for patient_id, scans in fspgr_patient_scans.items() if scans == 2}"
   ]
  },
  {
   "cell_type": "code",
   "execution_count": 7,
   "metadata": {},
   "outputs": [
    {
     "name": "stdout",
     "output_type": "stream",
     "text": [
      "Number of different patients: 14\n",
      "\n",
      "Patient ID: GJDGYD - Number of scans: 2\n",
      "Patient ID: GJDGYR - Number of scans: 2\n",
      "Patient ID: GJDGYZ - Number of scans: 2\n",
      "Patient ID: GJDGZW - Number of scans: 2\n",
      "Patient ID: GJDH1X - Number of scans: 2\n",
      "Patient ID: GJDH22 - Number of scans: 2\n",
      "Patient ID: GJDH2A - Number of scans: 2\n",
      "Patient ID: GJDH2Z - Number of scans: 2\n",
      "Patient ID: GJDH4C - Number of scans: 2\n",
      "Patient ID: GJDH4Q - Number of scans: 2\n",
      "Patient ID: GJDHDK - Number of scans: 2\n",
      "Patient ID: GJDHZ6 - Number of scans: 2\n",
      "Patient ID: GJDHZF - Number of scans: 2\n",
      "Patient ID: GJDI07 - Number of scans: 2\n"
     ]
    }
   ],
   "source": [
    "print(f\"Number of different patients: {len(fspgr_patient_scans)}\\n\")\n",
    "\n",
    "for patient_id, scan_count in fspgr_patient_scans.items():\n",
    "    print(f\"Patient ID: {patient_id} - Number of scans: {scan_count}\")"
   ]
  },
  {
   "cell_type": "markdown",
   "metadata": {},
   "source": [
    "Now I want to calculate the median, max and min time between two scans. "
   ]
  },
  {
   "cell_type": "code",
   "execution_count": 8,
   "metadata": {},
   "outputs": [],
   "source": [
    "fspgr_scan_dates = date_of_scans(fspgrPath, fspgr_patient_scans)"
   ]
  },
  {
   "cell_type": "code",
   "execution_count": 9,
   "metadata": {},
   "outputs": [
    {
     "name": "stdout",
     "output_type": "stream",
     "text": [
      "Patient GJDGYD has scan dates: ['2012-06-17', '2012-06-29']\n",
      "Patient GJDGYR has scan dates: ['2019-05-11', '2019-05-15']\n",
      "Patient GJDGYZ has scan dates: ['2014-11-13', '2014-11-29']\n",
      "Patient GJDGZW has scan dates: ['2013-03-20', '2013-03-26']\n",
      "Patient GJDH1X has scan dates: ['2017-05-14', '2017-05-23']\n",
      "Patient GJDH22 has scan dates: ['2011-02-21', '2011-02-26']\n",
      "Patient GJDH2A has scan dates: ['2015-09-28', '2015-10-03']\n",
      "Patient GJDH2Z has scan dates: ['2019-05-14', '2019-05-22']\n",
      "Patient GJDH4C has scan dates: ['2016-07-10', '2016-07-17']\n",
      "Patient GJDH4Q has scan dates: ['2015-02-28', '2015-03-09']\n",
      "Patient GJDHDK has scan dates: ['2016-09-15', '2016-10-03']\n",
      "Patient GJDHZ6 has scan dates: ['2019-08-19', '2019-09-16']\n",
      "Patient GJDHZF has scan dates: ['2019-06-11', '2019-07-01']\n",
      "Patient GJDI07 has scan dates: ['2019-11-09', '2019-11-16']\n"
     ]
    }
   ],
   "source": [
    "for patient_id, dates in fspgr_scan_dates.items():\n",
    "    print(f\"Patient {patient_id} has scan dates: {dates}\")"
   ]
  },
  {
   "cell_type": "markdown",
   "metadata": {},
   "source": [
    "Finally calculating the time differences."
   ]
  },
  {
   "cell_type": "code",
   "execution_count": 10,
   "metadata": {},
   "outputs": [],
   "source": [
    "fspgr_time_between_scans = []\n",
    "\n",
    "for dates_array in fspgr_scan_dates.values():\n",
    "\n",
    "    date0 = parser.parse(dates_array[0])\n",
    "    date1 = parser.parse(dates_array[1])\n",
    "\n",
    "    diff = date1 - date0\n",
    "\n",
    "    fspgr_time_between_scans.append(diff.days)"
   ]
  },
  {
   "cell_type": "code",
   "execution_count": 11,
   "metadata": {},
   "outputs": [
    {
     "name": "stdout",
     "output_type": "stream",
     "text": [
      "[12, 4, 16, 6, 9, 5, 5, 8, 7, 9, 18, 28, 20, 7]\n"
     ]
    }
   ],
   "source": [
    "print(fspgr_time_between_scans)"
   ]
  },
  {
   "cell_type": "code",
   "execution_count": 12,
   "metadata": {},
   "outputs": [],
   "source": [
    "fspgr_average = np.mean(fspgr_time_between_scans)\n",
    "fspgr_medi = int(np.median(fspgr_time_between_scans))\n",
    "fspgr_minimum = np.min(fspgr_time_between_scans)\n",
    "fspgr_maximum = np.max(fspgr_time_between_scans)"
   ]
  },
  {
   "cell_type": "code",
   "execution_count": 13,
   "metadata": {},
   "outputs": [
    {
     "name": "stdout",
     "output_type": "stream",
     "text": [
      "Average time between two scans: 11.0 days\n",
      "Median time between two scans: 8 days\n",
      "Range: 4-28 days\n"
     ]
    }
   ],
   "source": [
    "print(f'''Average time between two scans: {fspgr_average} days\n",
    "Median time between two scans: {fspgr_medi} days\n",
    "Range: {fspgr_minimum}-{fspgr_maximum} days''')"
   ]
  },
  {
   "cell_type": "markdown",
   "metadata": {},
   "source": [
    "!! MPRAGE scans were all taken on the same day. !!"
   ]
  },
  {
   "cell_type": "markdown",
   "metadata": {},
   "source": [
    "## Asymmetry index"
   ]
  },
  {
   "cell_type": "markdown",
   "metadata": {},
   "source": [
    "Getting the file paths of those patients with 2 scans. "
   ]
  },
  {
   "cell_type": "code",
   "execution_count": 14,
   "metadata": {},
   "outputs": [],
   "source": [
    "fspgr_files = filepaths(fspgrPath, mpragePath, fspgr_patient_scans)[0]\n",
    "mprage_files = filepaths(fspgrPath, mpragePath, mprage_patient_scans)[1]"
   ]
  },
  {
   "cell_type": "markdown",
   "metadata": {},
   "source": [
    "Separating initial scans from follow up scans. "
   ]
  },
  {
   "cell_type": "code",
   "execution_count": 15,
   "metadata": {},
   "outputs": [],
   "source": [
    "first_fspgr = separate_scans(fspgr_files)[0]\n",
    "second_fspgr = separate_scans(fspgr_files)[1]\n",
    "\n",
    "first_mprage = separate_scans(mprage_files)[0]\n",
    "second_mprage = separate_scans(mprage_files)[1]"
   ]
  },
  {
   "cell_type": "markdown",
   "metadata": {},
   "source": [
    "Flattening and normalizing the scans."
   ]
  },
  {
   "cell_type": "code",
   "execution_count": 16,
   "metadata": {},
   "outputs": [],
   "source": [
    "first_fspgr = flatten_and_normalize(first_fspgr)\n",
    "second_fspgr = flatten_and_normalize(second_fspgr)\n",
    "\n",
    "first_mprage = flatten_and_normalize(first_mprage)\n",
    "second_mprage = flatten_and_normalize(second_mprage)"
   ]
  },
  {
   "cell_type": "code",
   "execution_count": 17,
   "metadata": {},
   "outputs": [
    {
     "name": "stdout",
     "output_type": "stream",
     "text": [
      "(902629, 14)\n"
     ]
    }
   ],
   "source": [
    "print(first_fspgr.shape)"
   ]
  },
  {
   "cell_type": "markdown",
   "metadata": {},
   "source": [
    "Getting the mask by hemispheres."
   ]
  },
  {
   "cell_type": "code",
   "execution_count": 18,
   "metadata": {},
   "outputs": [],
   "source": [
    "left_hemisphere_mask = mask_hemispheres(maskPath + 'AAL3+pons.nii', maskPath + 'AAL3+pons.txt')[0]\n",
    "right_hemisphere_mask = mask_hemispheres(maskPath + 'AAL3+pons.nii', maskPath + 'AAL3+pons.txt')[1]"
   ]
  },
  {
   "cell_type": "code",
   "execution_count": 19,
   "metadata": {},
   "outputs": [
    {
     "name": "stdout",
     "output_type": "stream",
     "text": [
      "(902629,)\n"
     ]
    }
   ],
   "source": [
    "print(left_hemisphere_mask.shape)"
   ]
  },
  {
   "cell_type": "markdown",
   "metadata": {},
   "source": [
    "Calculating AI for each .nii image."
   ]
  },
  {
   "cell_type": "code",
   "execution_count": 20,
   "metadata": {},
   "outputs": [],
   "source": [
    "AI_first_fspgr = AI_whole_brain(first_fspgr, left_hemisphere_mask, right_hemisphere_mask)\n",
    "AI_second_fspgr = AI_whole_brain(second_fspgr, left_hemisphere_mask, right_hemisphere_mask)\n",
    "\n",
    "AI_first_mprage = AI_whole_brain(first_mprage, left_hemisphere_mask, right_hemisphere_mask)\n",
    "AI_second_mprage = AI_whole_brain(second_mprage, left_hemisphere_mask, right_hemisphere_mask)"
   ]
  },
  {
   "cell_type": "code",
   "execution_count": 21,
   "metadata": {},
   "outputs": [
    {
     "name": "stdout",
     "output_type": "stream",
     "text": [
      "[2.2716263927847233, 0.6981483393574507, 1.5267775845506135, 2.9738967031562797, 3.272500962817745, 1.295742922673181, 1.9702735941063039, 1.4520470305594388, 0.9987019273520794, 0.25406414619746104, 1.3196926020521467, 1.9114601689805506, 3.212167095725266, 6.0418867726467775]\n",
      "[3.826913710967663, 1.9910826824705143, 2.8578888601996524, 0.5110487835850963, 2.9355718625141916, 0.3800589959438584, 1.3552831099278029, 4.80975660195253, -0.7016924234863731, 0.11882976587131301, 3.0631221911805273, 1.1034943544087157, 0.990187743482684, 3.694288144271703]\n",
      "[0.11655767508083116, 0.824749414396857, 0.6811162363994079, 0.14840366310001885, 0.09821134705510988, 0.15812106473042425, 0.15399222410245897, 2.319267055191121, 0.3160683594910864, 1.1374855117482152, 0.1001943889645143, -12.176784052287395, 62.69959454181071, 0.011605094036920165, 0.11992573582342435, 1.9511565597093414, 0.08963503987800497, 0.14106486649416675, 0.9729728940694166, 0.03157317834853516, 0.13441699812686553]\n",
      "[2.113455413558209, 2.297891112338099, 1.2754105240964888, -56.346990568899656, 0.11313935843480373, 0.17893509942538888, -29.55815149945496, 2.6278535416110906, 0.1984982366896856, 1.20869803765703, 0.11867820420616959, 21.045598726087455, 0.09030767891577403, 0.023829691403251807, 0.13659435109150425, 2.1682167524209066, 0.07138348210912751, 0.09475784746399027, 1.5184074257706366, 0.010065860241495946, 0.11285624094981697]\n"
     ]
    }
   ],
   "source": [
    "print(AI_first_fspgr)\n",
    "print(AI_second_fspgr)\n",
    "\n",
    "print(AI_first_mprage)\n",
    "print(AI_second_mprage)"
   ]
  }
 ],
 "metadata": {
  "kernelspec": {
   "display_name": "Python 3",
   "language": "python",
   "name": "python3"
  },
  "language_info": {
   "codemirror_mode": {
    "name": "ipython",
    "version": 3
   },
   "file_extension": ".py",
   "mimetype": "text/x-python",
   "name": "python",
   "nbconvert_exporter": "python",
   "pygments_lexer": "ipython3",
   "version": "3.12.6"
  }
 },
 "nbformat": 4,
 "nbformat_minor": 2
}
