{
 "cells": [
  {
   "cell_type": "markdown",
   "metadata": {},
   "source": [
    "# Longitudinal analysis of asymmetry index\n",
    "Črt Rozman <br>\n",
    "October 2024 <br>\n",
    "In this file I will do longitudinal analysis of asymmetry index (AI). I want to look at trajectories of AI during different timepoints, for NC, MCI, demented and transition patients(those whose cognition status declined over time). I want to look at AI for whole brain region and also individual regions, such as frontal lobe, temporal lobe and hippocampus. "
   ]
  },
  {
   "cell_type": "code",
   "execution_count": 1,
   "metadata": {},
   "outputs": [],
   "source": [
    "# Import necessary libraries\n",
    "import os\n",
    "import numpy as np\n",
    "import nibabel as nib\n",
    "import matplotlib.pyplot as plt"
   ]
  },
  {
   "cell_type": "code",
   "execution_count": 2,
   "metadata": {},
   "outputs": [],
   "source": [
    "# importing functions from \"AI_longitudinal_functions.py\"\n",
    "from AI_longitudinal_functions import *"
   ]
  },
  {
   "cell_type": "code",
   "execution_count": 3,
   "metadata": {},
   "outputs": [],
   "source": [
    "# paths to preprocessed and sorted cohorts \n",
    "ncPath = '../../NACC_data/sorted_preprocessed_cohorts/NC/'\n",
    "mciPath = '../../NACC_data/sorted_preprocessed_cohorts/MCI/'\n",
    "alzdPath = '../../NACC_data/sorted_preprocessed_cohorts/ALZD/'\n",
    "transPath = '../../NACC_data/sorted_preprocessed_cohorts/TRANS/'"
   ]
  },
  {
   "cell_type": "code",
   "execution_count": 4,
   "metadata": {},
   "outputs": [],
   "source": [
    "ncPath = os.path.abspath(ncPath)\n",
    "mciPath = os.path.abspath(mciPath)\n",
    "alzdPath = os.path.abspath(alzdPath)\n",
    "transPath = os.path.abspath(transPath)\n",
    "\n",
    "# Modify the absolute path for long path support on Windows\n",
    "if os.name == 'nt':                     # Check if the operating system is Windows\n",
    "    ncPath = '\\\\\\\\?\\\\' + ncPath\n",
    "    mciPath = '\\\\\\\\?\\\\' + mciPath\n",
    "    alzdPath = '\\\\\\\\?\\\\' + alzdPath\n",
    "    transPath = '\\\\\\\\?\\\\' + transPath"
   ]
  },
  {
   "cell_type": "code",
   "execution_count": 5,
   "metadata": {},
   "outputs": [],
   "source": [
    "# paths to .csv files that store information about patients' scans. \n",
    "csv_ncPath = \"../../NACC_data/sorted_preprocessed_cohorts/0csv/nc.csv\"\n",
    "csv_mciPath = \"../../NACC_data/sorted_preprocessed_cohorts/0csv/mci.csv\"\n",
    "csv_alzdPath = \"../../NACC_data/sorted_preprocessed_cohorts/0csv/alzd.csv\"\n",
    "csv_transPath = \"../../NACC_data/sorted_preprocessed_cohorts/0csv/trans.csv\""
   ]
  },
  {
   "cell_type": "markdown",
   "metadata": {},
   "source": [
    "Loading the dictionary that stored NACCID as keys and all the .nii files that correspond to that NACCID, separately for FSPGR and MPRAGE."
   ]
  },
  {
   "cell_type": "code",
   "execution_count": 6,
   "metadata": {},
   "outputs": [],
   "source": [
    "wbet_fspgr = filepaths(alzdPath, csv_alzdPath)[0]\n",
    "wbet_mprage = filepaths(alzdPath, csv_alzdPath)[1]"
   ]
  },
  {
   "cell_type": "code",
   "execution_count": 7,
   "metadata": {},
   "outputs": [
    {
     "name": "stdout",
     "output_type": "stream",
     "text": [
      "44\n"
     ]
    }
   ],
   "source": [
    "print(len(wbet_fspgr)+len(wbet_mprage))"
   ]
  },
  {
   "cell_type": "code",
   "execution_count": 8,
   "metadata": {},
   "outputs": [],
   "source": [
    "scan_dates = time_from_baseline(csv_alzdPath)"
   ]
  },
  {
   "cell_type": "code",
   "execution_count": 9,
   "metadata": {},
   "outputs": [
    {
     "name": "stdout",
     "output_type": "stream",
     "text": [
      "44\n"
     ]
    }
   ],
   "source": [
    "print(len(scan_dates))"
   ]
  },
  {
   "cell_type": "code",
   "execution_count": 10,
   "metadata": {},
   "outputs": [
    {
     "name": "stdout",
     "output_type": "stream",
     "text": [
      "defaultdict(<class 'list'>, {'NACC727805': [0.0, 1.1307323750855578], 'NACC221053': [0.0, 2.5845311430527036], 'NACC560745': [0.0, 1.0924024640657084], 'NACC331862': [0.0, 1.434633812457221], 'NACC510442': [0.0, 2.537987679671458], 'NACC787248': [0.0, 2.316221765913758], 'NACC360216': [0.0, 2.2587268993839835], 'NACC232407': [0.0, 5.25119780971937], 'NACC348810': [0.0, 2.9787816563997263], 'NACC356611': [0.0, 3.9671457905544147], 'NACC807499': [0.0, 2.351813826146475], 'NACC637310': [0.0, 2.2258726899383983], 'NACC218038': [0.0, 4.164271047227926], 'NACC202639': [0.0, 2.127310061601643], 'NACC702272': [0.0, 3.1704312114989732], 'NACC238353': [0.0, 0.974674880219028], 'NACC664757': [0.0, 3.0855578370978782], 'NACC661545': [0.0, 2.409308692676249], 'NACC716555': [0.0, 2.0698151950718686], 'NACC426385': [0.0, 2.108145106091718], 'NACC269863': [0.0, 3.0937713894592744], 'NACC026620': [0.0, 2.529774127310062], 'NACC208653': [0.0, 1.9329226557152634], 'NACC574405': [0.0, 1.6399726214921286], 'NACC905292': [0.0, 0.9938398357289527], 'NACC597068': [0.0, 1.1800136892539357], 'NACC915669': [0.0, 0.9965776865160849], 'NACC485264': [0.0, 1.5249828884325805, 3.0718685831622174, 4.39151266255989], 'NACC375809': [0.0, 0.6187542778918549, 1.0732375085557837, 2.1683778234086244], 'NACC249169': [0.0, 0.5722108145106092, 1.108829568788501, 2.0752908966461328], 'NACC029774': [0.0, 2.976043805612594], 'NACC497314': [0.0, 1.4483230663928817], 'NACC372085': [0.0, 0.5010266940451745], 'NACC880879': [0.0, 0.4243668720054757], 'NACC334728': [0.0, 0.44353182751540043, 0.9911019849418207], 'NACC802042': [0.0, 0.5886379192334018], 'NACC107938': [0.0, 1.2539356605065024, 2.0725530458590007], 'NACC871706': [0.0, 0.4736481861738535], 'NACC965149': [0.0, 0.42984257357973993, 1.1389459274469542], 'NACC937115': [0.0, 0.5366187542778919], 'NACC074462': [0.0, 3.29637234770705], 'NACC812758': [0.0, 0.48186173853524983, 0.9062286105407256], 'NACC340499': [0.0, 3.028062970568104, 3.353867214236824], 'NACC862393': [0.0, 2.861054072553046]})\n"
     ]
    }
   ],
   "source": [
    "print(scan_dates)"
   ]
  }
 ],
 "metadata": {
  "kernelspec": {
   "display_name": "Python 3",
   "language": "python",
   "name": "python3"
  },
  "language_info": {
   "codemirror_mode": {
    "name": "ipython",
    "version": 3
   },
   "file_extension": ".py",
   "mimetype": "text/x-python",
   "name": "python",
   "nbconvert_exporter": "python",
   "pygments_lexer": "ipython3",
   "version": "3.12.6"
  }
 },
 "nbformat": 4,
 "nbformat_minor": 2
}
