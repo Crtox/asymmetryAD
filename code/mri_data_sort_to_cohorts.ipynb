{
 "cells": [
  {
   "cell_type": "markdown",
   "metadata": {},
   "source": [
    "## Sorting data to cohorts\n",
    "In this file I sort the data based on the MRIT1_elim.csv. I will create 4 cohorts:  <br>\n",
    "cohort name:         (UDSD, ALZD)<br>\n",
    "normal cognition:    (1, 0)<br>\n",
    "alzheimer's disease: (4, 1)<br>\n",
    "mci on way to alzd:  (3, 1)<br>\n",
    "transition cohort:   every transitions, for exaple (3, 1) ---> (4, 1)<br>"
   ]
  },
  {
   "cell_type": "code",
   "execution_count": 18,
   "metadata": {},
   "outputs": [],
   "source": [
    "import pandas as pd\n",
    "import matplotlib.pyplot as plt\n",
    "import numpy as np"
   ]
  },
  {
   "cell_type": "code",
   "execution_count": 19,
   "metadata": {},
   "outputs": [],
   "source": [
    "loadPath = \"../data/\"\n",
    "writePath = \"../../NACC_data/sorted_cohorts/\"\n",
    "savePath = \"../results/\""
   ]
  },
  {
   "cell_type": "markdown",
   "metadata": {},
   "source": [
    "Reading the .csv file."
   ]
  },
  {
   "cell_type": "code",
   "execution_count": 20,
   "metadata": {},
   "outputs": [],
   "source": [
    "df = pd.read_csv(loadPath + 'MRIT1_elim.csv')"
   ]
  },
  {
   "cell_type": "code",
   "execution_count": 21,
   "metadata": {},
   "outputs": [
    {
     "name": "stdout",
     "output_type": "stream",
     "text": [
      "898\n"
     ]
    }
   ],
   "source": [
    "print(df['NACCID'].nunique())"
   ]
  },
  {
   "cell_type": "markdown",
   "metadata": {},
   "source": [
    "Creating 4 empty arrays (4 groups), that will store NACCIDS based on given criteria."
   ]
  },
  {
   "cell_type": "code",
   "execution_count": 38,
   "metadata": {},
   "outputs": [],
   "source": [
    "nc = []                 # normal cognition\n",
    "mci = []                # mci\n",
    "alz = []               # alzheimer's disease\n",
    "trans = []              # transitional array"
   ]
  },
  {
   "cell_type": "code",
   "execution_count": 39,
   "metadata": {},
   "outputs": [],
   "source": [
    "for naccid in df['NACCID'].unique():\n",
    "\n",
    "    patient = df[df['NACCID'] == naccid]\n",
    "\n",
    "    a = len(patient)\n",
    "\n",
    "    udsd = [row['NACCUDSD'] for idx, row in patient.iterrows()]\n",
    "    alzd = [row['NACCALZD'] for idx, row in patient.iterrows()]\n",
    "\n",
    "    if (udsd.count(1), alzd.count(8)) == (a, a):\n",
    "        nc.append(naccid)\n",
    "\n",
    "    elif (udsd.count(4), alzd.count(1)) == (a, a):\n",
    "        alz.append(naccid)\n",
    "\n",
    "    elif (udsd.count(3), alzd.count(1)) == (a, a):\n",
    "        mci.append(naccid)\n",
    "\n",
    "    else:\n",
    "        trans.append(naccid)\n"
   ]
  },
  {
   "cell_type": "markdown",
   "metadata": {},
   "source": [
    "IMPORTANT: I deleted 3 patients by hand in trans, since they were extreme cases WLOG."
   ]
  },
  {
   "cell_type": "code",
   "execution_count": 42,
   "metadata": {},
   "outputs": [
    {
     "name": "stdout",
     "output_type": "stream",
     "text": [
      "898\n",
      "64\n"
     ]
    }
   ],
   "source": [
    "print(len(nc) + len(mci) + len(alz) + len(trans))\n",
    "print(len(alz))"
   ]
  },
  {
   "cell_type": "markdown",
   "metadata": {},
   "source": [
    "Filtering the data."
   ]
  },
  {
   "cell_type": "code",
   "execution_count": 43,
   "metadata": {},
   "outputs": [],
   "source": [
    "df_nc = df[df['NACCID'].isin(nc)]\n",
    "df_mci = df[df['NACCID'].isin(mci)]\n",
    "df_alz = df[df['NACCID'].isin(alz)]\n",
    "df_trans = df[df['NACCID'].isin(trans)]"
   ]
  },
  {
   "cell_type": "markdown",
   "metadata": {},
   "source": [
    "Sanity check."
   ]
  },
  {
   "cell_type": "code",
   "execution_count": 45,
   "metadata": {},
   "outputs": [
    {
     "name": "stdout",
     "output_type": "stream",
     "text": [
      "898\n"
     ]
    }
   ],
   "source": [
    "print(df_nc['NACCID'].nunique() + df_mci['NACCID'].nunique() +\n",
    "      df_alz['NACCID'].nunique() + df_trans['NACCID'].nunique())"
   ]
  },
  {
   "cell_type": "code",
   "execution_count": 48,
   "metadata": {},
   "outputs": [
    {
     "name": "stdout",
     "output_type": "stream",
     "text": [
      "Data writing to CSV complete!\n"
     ]
    }
   ],
   "source": [
    "df_nc.to_csv(writePath + 'nc.csv', index=False)\n",
    "df_mci.to_csv(writePath + 'mci.csv', index=False)\n",
    "df_alz.to_csv(writePath + 'alzd.csv', index=False)\n",
    "df_trans.to_csv(writePath + 'trans.csv', index=False)\n",
    "\n",
    "\n",
    "print(\"Data writing to CSV complete!\")"
   ]
  },
  {
   "cell_type": "markdown",
   "metadata": {},
   "source": [
    "### Exploring data structure\n",
    "I need to find out how NACC data is structured on a deeper level. I will look at some nifti files. "
   ]
  },
  {
   "cell_type": "code",
   "execution_count": 49,
   "metadata": {},
   "outputs": [],
   "source": [
    "import os\n",
    "import nibabel as nib"
   ]
  },
  {
   "cell_type": "code",
   "execution_count": 56,
   "metadata": {},
   "outputs": [],
   "source": [
    "dataPath = '../../NACC_data/within1yr/nifti/'"
   ]
  },
  {
   "cell_type": "code",
   "execution_count": 57,
   "metadata": {},
   "outputs": [],
   "source": [
    "example = os.path.join(dataPath, '943_NACC154191_20200228ni/943_NACC154191_20200228/t1sag_208_3_128401136192408473843014414135288321582809643317.nii')"
   ]
  },
  {
   "cell_type": "code",
   "execution_count": 58,
   "metadata": {},
   "outputs": [
    {
     "ename": "FileNotFoundError",
     "evalue": "No such file or no access: '../../NACC_data/within1yr/nifti/943_NACC154191_20200228ni/943_NACC154191_20200228/t1sag_208_3_128401136192408473843014414135288321582809643317.nii'",
     "output_type": "error",
     "traceback": [
      "\u001b[1;31m---------------------------------------------------------------------------\u001b[0m",
      "\u001b[1;31mFileNotFoundError\u001b[0m                         Traceback (most recent call last)",
      "File \u001b[1;32mc:\\Users\\Crt\\AppData\\Local\\Programs\\Python\\Python312\\Lib\\site-packages\\nibabel\\loadsave.py:100\u001b[0m, in \u001b[0;36mload\u001b[1;34m(filename, **kwargs)\u001b[0m\n\u001b[0;32m     99\u001b[0m \u001b[38;5;28;01mtry\u001b[39;00m:\n\u001b[1;32m--> 100\u001b[0m     stat_result \u001b[38;5;241m=\u001b[39m \u001b[43mos\u001b[49m\u001b[38;5;241;43m.\u001b[39;49m\u001b[43mstat\u001b[49m\u001b[43m(\u001b[49m\u001b[43mfilename\u001b[49m\u001b[43m)\u001b[49m\n\u001b[0;32m    101\u001b[0m \u001b[38;5;28;01mexcept\u001b[39;00m \u001b[38;5;167;01mOSError\u001b[39;00m:\n",
      "\u001b[1;31mFileNotFoundError\u001b[0m: [WinError 3] The system cannot find the path specified: '../../NACC_data/within1yr/nifti/943_NACC154191_20200228ni/943_NACC154191_20200228/t1sag_208_3_128401136192408473843014414135288321582809643317.nii'",
      "\nDuring handling of the above exception, another exception occurred:\n",
      "\u001b[1;31mFileNotFoundError\u001b[0m                         Traceback (most recent call last)",
      "Cell \u001b[1;32mIn[58], line 1\u001b[0m\n\u001b[1;32m----> 1\u001b[0m img \u001b[38;5;241m=\u001b[39m \u001b[43mnib\u001b[49m\u001b[38;5;241;43m.\u001b[39;49m\u001b[43mload\u001b[49m\u001b[43m(\u001b[49m\u001b[43mexample\u001b[49m\u001b[43m)\u001b[49m\n",
      "File \u001b[1;32mc:\\Users\\Crt\\AppData\\Local\\Programs\\Python\\Python312\\Lib\\site-packages\\nibabel\\loadsave.py:102\u001b[0m, in \u001b[0;36mload\u001b[1;34m(filename, **kwargs)\u001b[0m\n\u001b[0;32m    100\u001b[0m     stat_result \u001b[38;5;241m=\u001b[39m os\u001b[38;5;241m.\u001b[39mstat(filename)\n\u001b[0;32m    101\u001b[0m \u001b[38;5;28;01mexcept\u001b[39;00m \u001b[38;5;167;01mOSError\u001b[39;00m:\n\u001b[1;32m--> 102\u001b[0m     \u001b[38;5;28;01mraise\u001b[39;00m \u001b[38;5;167;01mFileNotFoundError\u001b[39;00m(\u001b[38;5;124mf\u001b[39m\u001b[38;5;124m\"\u001b[39m\u001b[38;5;124mNo such file or no access: \u001b[39m\u001b[38;5;124m'\u001b[39m\u001b[38;5;132;01m{\u001b[39;00mfilename\u001b[38;5;132;01m}\u001b[39;00m\u001b[38;5;124m'\u001b[39m\u001b[38;5;124m\"\u001b[39m)\n\u001b[0;32m    103\u001b[0m \u001b[38;5;28;01mif\u001b[39;00m stat_result\u001b[38;5;241m.\u001b[39mst_size \u001b[38;5;241m<\u001b[39m\u001b[38;5;241m=\u001b[39m \u001b[38;5;241m0\u001b[39m:\n\u001b[0;32m    104\u001b[0m     \u001b[38;5;28;01mraise\u001b[39;00m ImageFileError(\u001b[38;5;124mf\u001b[39m\u001b[38;5;124m\"\u001b[39m\u001b[38;5;124mEmpty file: \u001b[39m\u001b[38;5;124m'\u001b[39m\u001b[38;5;132;01m{\u001b[39;00mfilename\u001b[38;5;132;01m}\u001b[39;00m\u001b[38;5;124m'\u001b[39m\u001b[38;5;124m\"\u001b[39m)\n",
      "\u001b[1;31mFileNotFoundError\u001b[0m: No such file or no access: '../../NACC_data/within1yr/nifti/943_NACC154191_20200228ni/943_NACC154191_20200228/t1sag_208_3_128401136192408473843014414135288321582809643317.nii'"
     ]
    }
   ],
   "source": [
    "img = nib.load(example)"
   ]
  },
  {
   "cell_type": "code",
   "execution_count": null,
   "metadata": {},
   "outputs": [],
   "source": [
    "header = img.header\n",
    "print(header)"
   ]
  }
 ],
 "metadata": {
  "kernelspec": {
   "display_name": "Python 3",
   "language": "python",
   "name": "python3"
  },
  "language_info": {
   "codemirror_mode": {
    "name": "ipython",
    "version": 3
   },
   "file_extension": ".py",
   "mimetype": "text/x-python",
   "name": "python",
   "nbconvert_exporter": "python",
   "pygments_lexer": "ipython3",
   "version": "3.12.6"
  }
 },
 "nbformat": 4,
 "nbformat_minor": 2
}
