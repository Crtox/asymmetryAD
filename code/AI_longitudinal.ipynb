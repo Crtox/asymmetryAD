{
 "cells": [
  {
   "cell_type": "markdown",
   "metadata": {},
   "source": [
    "# Longitudinal analysis of asymmetry index\n",
    "Črt Rozman <br>\n",
    "October 2024 <br>\n",
    "In this file I will do longitudinal analysis of asymmetry index (AI). I want to look at trajectories of AI during different timepoints, for NC, MCI, demented and transition patients(those whose cognition status declined over time). I want to look at AI for whole brain region and also individual regions, such as frontal lobe, temporal lobe and hippocampus. "
   ]
  },
  {
   "cell_type": "code",
   "execution_count": 1,
   "metadata": {},
   "outputs": [],
   "source": [
    "# Import necessary libraries\n",
    "import os\n",
    "import numpy as np\n",
    "import nibabel as nib\n",
    "import matplotlib.pyplot as plt"
   ]
  },
  {
   "cell_type": "code",
   "execution_count": 2,
   "metadata": {},
   "outputs": [],
   "source": [
    "# importing functions from \"AI_longitudinal_functions.py\"\n",
    "from AI_longitudinal_functions import *"
   ]
  },
  {
   "cell_type": "code",
   "execution_count": 3,
   "metadata": {},
   "outputs": [],
   "source": [
    "dataPath = '../../NACC_data/AI_longitudinal/'\n",
    "savePath = '../results/AI_longitudinal/'"
   ]
  },
  {
   "cell_type": "code",
   "execution_count": 4,
   "metadata": {},
   "outputs": [],
   "source": [
    "# paths to preprocessed and sorted cohorts \n",
    "ncPath = '../../NACC_data/sorted_preprocessed_cohorts/NC/'\n",
    "mciPath = '../../NACC_data/sorted_preprocessed_cohorts/MCI/'\n",
    "alzdPath = '../../NACC_data/sorted_preprocessed_cohorts/ALZD/'\n",
    "transPath = '../../NACC_data/sorted_preprocessed_cohorts/TRANS/'"
   ]
  },
  {
   "cell_type": "code",
   "execution_count": 5,
   "metadata": {},
   "outputs": [],
   "source": [
    "ncPath = os.path.abspath(ncPath)\n",
    "mciPath = os.path.abspath(mciPath)\n",
    "alzdPath = os.path.abspath(alzdPath)\n",
    "transPath = os.path.abspath(transPath)\n",
    "\n",
    "# Modify the absolute path for long path support on Windows\n",
    "if os.name == 'nt':                     # Check if the operating system is Windows\n",
    "    ncPath = '\\\\\\\\?\\\\' + ncPath\n",
    "    mciPath = '\\\\\\\\?\\\\' + mciPath\n",
    "    alzdPath = '\\\\\\\\?\\\\' + alzdPath\n",
    "    transPath = '\\\\\\\\?\\\\' + transPath"
   ]
  },
  {
   "cell_type": "code",
   "execution_count": 6,
   "metadata": {},
   "outputs": [],
   "source": [
    "# paths to .csv files that store information about patients' scans. \n",
    "csv_ncPath = \"../../NACC_data/sorted_preprocessed_cohorts/0csv/nc.csv\"\n",
    "csv_mciPath = \"../../NACC_data/sorted_preprocessed_cohorts/0csv/mci.csv\"\n",
    "csv_alzdPath = \"../../NACC_data/sorted_preprocessed_cohorts/0csv/alzd.csv\"\n",
    "csv_transPath = \"../../NACC_data/sorted_preprocessed_cohorts/0csv/trans.csv\""
   ]
  },
  {
   "cell_type": "code",
   "execution_count": 7,
   "metadata": {},
   "outputs": [],
   "source": [
    "# mask path\n",
    "maskPath = 'C:/Users/Crt/Documents/WIMR/asymmetryAD/UW_data/AAL3+pons/'"
   ]
  },
  {
   "cell_type": "markdown",
   "metadata": {},
   "source": [
    "Loading the dictionary that stored NACCID as keys and all the .nii files that correspond to that NACCID, separately for FSPGR and MPRAGE."
   ]
  },
  {
   "cell_type": "code",
   "execution_count": 8,
   "metadata": {},
   "outputs": [],
   "source": [
    "nc_wbet_fspgr = filepaths_dictionary(ncPath, csv_ncPath)[0]\n",
    "nc_wbet_mprage = filepaths_dictionary(ncPath, csv_ncPath)[1]\n",
    "\n",
    "mci_wbet_fspgr = filepaths_dictionary(mciPath, csv_mciPath)[0]\n",
    "mci_wbet_mprage = filepaths_dictionary(mciPath, csv_mciPath)[1]\n",
    "\n",
    "alzd_wbet_fspgr = filepaths_dictionary(alzdPath, csv_alzdPath)[0]\n",
    "alzd_wbet_mprage = filepaths_dictionary(alzdPath, csv_alzdPath)[1]\n",
    "\n",
    "trans_wbet_fspgr = filepaths_dictionary(transPath, csv_transPath)[0]\n",
    "trans_wbet_mprage = filepaths_dictionary(transPath, csv_transPath)[1]"
   ]
  },
  {
   "cell_type": "markdown",
   "metadata": {},
   "source": [
    "Flattening and normalizing the data."
   ]
  },
  {
   "cell_type": "code",
   "execution_count": 9,
   "metadata": {},
   "outputs": [],
   "source": [
    "# nc_fspgr_data = flatten_and_normalize_across_all(nc_wbet_fspgr)\n",
    "# nc_mprage_data = flatten_and_normalize_across_all(nc_wbet_mprage)\n",
    "\n",
    "# mci_fspgr_data = flatten_and_normalize_across_all(mci_wbet_fspgr)\n",
    "# mci_mprage_data = flatten_and_normalize_across_all(mci_wbet_mprage)\n",
    "\n",
    "# alzd_fspgr_data = flatten_and_normalize_across_all(alzd_wbet_fspgr)\n",
    "# alzd_mprage_data = flatten_and_normalize_across_all(alzd_wbet_mprage)\n",
    "\n",
    "# trans_fspgr_data = flatten_and_normalize_across_all(trans_wbet_fspgr)\n",
    "# trans_mprage_data = flatten_and_normalize_across_all(trans_wbet_mprage)"
   ]
  },
  {
   "cell_type": "markdown",
   "metadata": {},
   "source": [
    "Saving this data, since it takes a lot of time to run the code."
   ]
  },
  {
   "cell_type": "code",
   "execution_count": 10,
   "metadata": {},
   "outputs": [],
   "source": [
    "# np.savez_compressed(dataPath+'nc_fspgr_data.npz', **nc_fspgr_data)\n",
    "# np.savez_compressed(dataPath+'nc_mprage_data.npz', **nc_mprage_data)\n",
    "# np.savez_compressed(dataPath+'mci_fspgr_data.npz', **mci_fspgr_data)\n",
    "# np.savez_compressed(dataPath+'mci_mprage_data.npz', **mci_mprage_data)\n",
    "# np.savez_compressed(dataPath+'alzd_fspgr_data.npz', **alzd_fspgr_data)\n",
    "# np.savez_compressed(dataPath+'alzd_mprage_data.npz', **alzd_mprage_data)\n",
    "# np.savez_compressed(dataPath+'trans_fspgr_data.npz', **trans_fspgr_data)\n",
    "# np.savez_compressed(dataPath+'trans_mprage_data.npz', **trans_mprage_data)"
   ]
  },
  {
   "cell_type": "markdown",
   "metadata": {},
   "source": [
    "Loading the saved results."
   ]
  },
  {
   "cell_type": "code",
   "execution_count": 11,
   "metadata": {},
   "outputs": [],
   "source": [
    "def load_npz_file(filename):\n",
    "    with np.load(filename) as data:\n",
    "        return {key: data[key] for key in data}"
   ]
  },
  {
   "cell_type": "code",
   "execution_count": 12,
   "metadata": {},
   "outputs": [],
   "source": [
    "nc_fspgr_data = load_npz_file(dataPath+'nc_fspgr_data.npz')\n",
    "nc_mprage_data = load_npz_file(dataPath+'nc_mprage_data.npz')\n",
    "\n",
    "mci_fspgr_data = load_npz_file(dataPath+'mci_fspgr_data.npz')\n",
    "mci_mprage_data = load_npz_file(dataPath+'mci_mprage_data.npz')\n",
    "\n",
    "alzd_fspgr_data = load_npz_file(dataPath+'alzd_fspgr_data.npz')\n",
    "alzd_mprage_data = load_npz_file(dataPath+'alzd_mprage_data.npz')\n",
    "\n",
    "trans_fspgr_data = load_npz_file(dataPath+'trans_fspgr_data.npz')\n",
    "trans_mprage_data = load_npz_file(dataPath+'trans_mprage_data.npz')"
   ]
  },
  {
   "cell_type": "markdown",
   "metadata": {},
   "source": [
    "Getting mask by hemispheres."
   ]
  },
  {
   "cell_type": "code",
   "execution_count": 16,
   "metadata": {},
   "outputs": [],
   "source": [
    "left_hemisphere_mask = mask_hemispheres(maskPath + 'AAL3+pons.nii', maskPath + 'AAL3+pons.txt', flatten=True)[0]\n",
    "right_hemisphere_mask = mask_hemispheres(maskPath + 'AAL3+pons.nii', maskPath + 'AAL3+pons.txt', flatten=True)[1]"
   ]
  },
  {
   "cell_type": "markdown",
   "metadata": {},
   "source": [
    "Getting mask by regions."
   ]
  },
  {
   "cell_type": "code",
   "execution_count": 17,
   "metadata": {},
   "outputs": [],
   "source": [
    "mask_L_frontal_lobe = mask_regions(maskPath, flatten=True)[0]\n",
    "mask_R_frontal_lobe = mask_regions(maskPath, flatten=True)[1]\n",
    "mask_L_temporal_lobe = mask_regions(maskPath, flatten=True)[2]\n",
    "mask_R_temporal_lobe = mask_regions(maskPath, flatten=True)[3]\n",
    "mask_L_hippocampus = mask_regions(maskPath, flatten=True)[4]\n",
    "mask_R_hippocampus = mask_regions(maskPath, flatten=True)[5]"
   ]
  },
  {
   "cell_type": "markdown",
   "metadata": {},
   "source": [
    "### Calculating the AI of whole brain and regions\n",
    "In this section I use function calculate_AI and save the results, then load them again later. That way there is no need to calculate everything everytime you run the script. (commented since it only needs to run once)"
   ]
  },
  {
   "cell_type": "code",
   "execution_count": null,
   "metadata": {},
   "outputs": [],
   "source": [
    "# AI_nc_fspgr_whole = calculate_AI(nc_fspgr_data, left_hemisphere_mask, right_hemisphere_mask)\n",
    "# AI_nc_mprage_whole = calculate_AI(nc_mprage_data, left_hemisphere_mask, right_hemisphere_mask)\n",
    "\n",
    "# AI_mci_fspgr_whole = calculate_AI(mci_fspgr_data, left_hemisphere_mask, right_hemisphere_mask)\n",
    "# AI_mci_mprage_whole = calculate_AI(mci_mprage_data, left_hemisphere_mask, right_hemisphere_mask)\n",
    "\n",
    "# AI_alzd_fspgr_whole = calculate_AI(alzd_fspgr_data, left_hemisphere_mask, right_hemisphere_mask)\n",
    "# AI_alzd_mprage_whole = calculate_AI(alzd_mprage_data, left_hemisphere_mask, right_hemisphere_mask)\n",
    "\n",
    "# AI_trans_fspgr_whole = calculate_AI(trans_fspgr_data, left_hemisphere_mask, right_hemisphere_mask)\n",
    "# AI_trans_mprage_whole = calculate_AI(trans_mprage_data, left_hemisphere_mask, right_hemisphere_mask)"
   ]
  },
  {
   "cell_type": "code",
   "execution_count": null,
   "metadata": {},
   "outputs": [],
   "source": [
    "# np.savez_compressed(dataPath+'AI_nc_fspgr_whole.npz', **AI_nc_fspgr_whole)\n",
    "# np.savez_compressed(dataPath+'AI_nc_mprage_whole.npz', **AI_nc_mprage_whole)\n",
    "# np.savez_compressed(dataPath+'AI_mci_fspgr_whole.npz', **AI_mci_fspgr_whole)\n",
    "# np.savez_compressed(dataPath+'AI_mci_mprage_whole.npz', **AI_mci_mprage_whole)\n",
    "# np.savez_compressed(dataPath+'AI_alzd_fspgr_whole.npz', **AI_alzd_fspgr_whole)\n",
    "# np.savez_compressed(dataPath+'AI_alzd_mprage_whole.npz', **AI_alzd_mprage_whole)\n",
    "# np.savez_compressed(dataPath+'AI_trans_fspgr_whole.npz', **AI_trans_fspgr_whole)\n",
    "# np.savez_compressed(dataPath+'AI_trans_mprage_whole.npz', **AI_trans_mprage_whole)"
   ]
  },
  {
   "cell_type": "markdown",
   "metadata": {},
   "source": [
    "Calculating AI by regions. "
   ]
  },
  {
   "cell_type": "code",
   "execution_count": null,
   "metadata": {},
   "outputs": [],
   "source": [
    "# AI_nc_fspgr_frontal_lobe = calculate_AI(nc_fspgr_data, mask_L_frontal_lobe, mask_R_frontal_lobe)\n",
    "# AI_nc_mprage_frontal_lobe = calculate_AI(nc_mprage_data, mask_L_frontal_lobe, mask_R_frontal_lobe)\n",
    "\n",
    "# AI_mci_fspgr_frontal_lobe = calculate_AI(mci_fspgr_data, mask_L_frontal_lobe, mask_R_frontal_lobe)\n",
    "# AI_mci_mprage_frontal_lobe = calculate_AI(mci_mprage_data, mask_L_frontal_lobe, mask_R_frontal_lobe)\n",
    "\n",
    "# AI_alzd_fspgr_frontal_lobe = calculate_AI(alzd_fspgr_data, mask_L_frontal_lobe, mask_R_frontal_lobe)\n",
    "# AI_alzd_mprage_frontal_lobe = calculate_AI(alzd_mprage_data, mask_L_frontal_lobe, mask_R_frontal_lobe)\n",
    "\n",
    "# AI_trans_fspgr_frontal_lobe = calculate_AI(trans_fspgr_data, mask_L_frontal_lobe, mask_R_frontal_lobe)\n",
    "# AI_trans_mprage_frontal_lobe = calculate_AI(trans_mprage_data, mask_L_frontal_lobe, mask_R_frontal_lobe)"
   ]
  },
  {
   "cell_type": "code",
   "execution_count": null,
   "metadata": {},
   "outputs": [],
   "source": [
    "# np.savez_compressed(dataPath+'AI_nc_fspgr_frontal_lobe.npz', **AI_nc_fspgr_frontal_lobe)\n",
    "# np.savez_compressed(dataPath+'AI_nc_mprage_frontal_lobe.npz', **AI_nc_mprage_frontal_lobe)\n",
    "# np.savez_compressed(dataPath+'AI_mci_fspgr_frontal_lobe.npz', **AI_mci_fspgr_frontal_lobe)\n",
    "# np.savez_compressed(dataPath+'AI_mci_mprage_frontal_lobe.npz', **AI_mci_mprage_frontal_lobe)\n",
    "# np.savez_compressed(dataPath+'AI_alzd_fspgr_frontal_lobe.npz', **AI_alzd_fspgr_frontal_lobe)\n",
    "# np.savez_compressed(dataPath+'AI_alzd_mprage_frontal_lobe.npz', **AI_alzd_mprage_frontal_lobe)\n",
    "# np.savez_compressed(dataPath+'AI_trans_fspgr_frontal_lobe.npz', **AI_trans_fspgr_frontal_lobe)\n",
    "# np.savez_compressed(dataPath+'AI_trans_mprage_frontal_lobe.npz', **AI_trans_mprage_frontal_lobe)"
   ]
  },
  {
   "cell_type": "code",
   "execution_count": null,
   "metadata": {},
   "outputs": [],
   "source": [
    "# AI_nc_fspgr_temporal_lobe = calculate_AI(nc_fspgr_data, mask_L_temporal_lobe, mask_R_temporal_lobe)\n",
    "# AI_nc_mprage_temporal_lobe = calculate_AI(nc_mprage_data, mask_L_temporal_lobe, mask_R_temporal_lobe)\n",
    "\n",
    "# AI_mci_fspgr_temporal_lobe = calculate_AI(mci_fspgr_data, mask_L_temporal_lobe, mask_R_temporal_lobe)\n",
    "# AI_mci_mprage_temporal_lobe = calculate_AI(mci_mprage_data, mask_L_temporal_lobe, mask_R_temporal_lobe)\n",
    "\n",
    "# AI_alzd_fspgr_temporal_lobe = calculate_AI(alzd_fspgr_data, mask_L_temporal_lobe, mask_R_temporal_lobe)\n",
    "# AI_alzd_mprage_temporal_lobe = calculate_AI(alzd_mprage_data, mask_L_temporal_lobe, mask_R_temporal_lobe)\n",
    "\n",
    "# AI_trans_fspgr_temporal_lobe = calculate_AI(trans_fspgr_data, mask_L_temporal_lobe, mask_R_temporal_lobe)\n",
    "# AI_trans_mprage_temporal_lobe = calculate_AI(trans_mprage_data, mask_L_temporal_lobe, mask_R_temporal_lobe)"
   ]
  },
  {
   "cell_type": "code",
   "execution_count": null,
   "metadata": {},
   "outputs": [],
   "source": [
    "# np.savez_compressed(dataPath+'AI_nc_fspgr_temporal_lobe.npz', **AI_nc_fspgr_temporal_lobe)\n",
    "# np.savez_compressed(dataPath+'AI_nc_mprage_temporal_lobe.npz', **AI_nc_mprage_temporal_lobe)\n",
    "# np.savez_compressed(dataPath+'AI_mci_fspgr_temporal_lobe.npz', **AI_mci_fspgr_temporal_lobe)\n",
    "# np.savez_compressed(dataPath+'AI_mci_mprage_temporal_lobe.npz', **AI_mci_mprage_temporal_lobe)\n",
    "# np.savez_compressed(dataPath+'AI_alzd_fspgr_temporal_lobe.npz', **AI_alzd_fspgr_temporal_lobe)\n",
    "# np.savez_compressed(dataPath+'AI_alzd_mprage_temporal_lobe.npz', **AI_alzd_mprage_temporal_lobe)\n",
    "# np.savez_compressed(dataPath+'AI_trans_fspgr_temporal_lobe.npz', **AI_trans_fspgr_temporal_lobe)\n",
    "# np.savez_compressed(dataPath+'AI_trans_mprage_temporal_lobe.npz', **AI_trans_mprage_temporal_lobe)"
   ]
  },
  {
   "cell_type": "code",
   "execution_count": null,
   "metadata": {},
   "outputs": [],
   "source": [
    "# AI_nc_fspgr_hippocampus = calculate_AI(nc_fspgr_data, mask_L_hippocampus, mask_R_hippocampus)\n",
    "# AI_nc_mprage_hippocampus = calculate_AI(nc_mprage_data, mask_L_hippocampus, mask_R_hippocampus)\n",
    "\n",
    "# AI_mci_fspgr_hippocampus = calculate_AI(mci_fspgr_data, mask_L_hippocampus, mask_R_hippocampus)\n",
    "# AI_mci_mprage_hippocampus = calculate_AI(mci_mprage_data, mask_L_hippocampus, mask_R_hippocampus)\n",
    "\n",
    "# AI_alzd_fspgr_hippocampus = calculate_AI(alzd_fspgr_data, mask_L_hippocampus, mask_R_hippocampus)\n",
    "# AI_alzd_mprage_hippocampus = calculate_AI(alzd_mprage_data, mask_L_hippocampus, mask_R_hippocampus)\n",
    "\n",
    "# AI_trans_fspgr_hippocampus = calculate_AI(trans_fspgr_data, mask_L_hippocampus, mask_R_hippocampus)\n",
    "# AI_trans_mprage_hippocampus = calculate_AI(trans_mprage_data, mask_L_hippocampus, mask_R_hippocampus)"
   ]
  },
  {
   "cell_type": "code",
   "execution_count": null,
   "metadata": {},
   "outputs": [],
   "source": [
    "# np.savez_compressed(dataPath+'AI_nc_fspgr_hippocampus.npz', **AI_nc_fspgr_hippocampus)\n",
    "# np.savez_compressed(dataPath+'AI_nc_mprage_hippocampus.npz', **AI_nc_mprage_hippocampus)\n",
    "# np.savez_compressed(dataPath+'AI_mci_fspgr_hippocampus.npz', **AI_mci_fspgr_hippocampus)\n",
    "# np.savez_compressed(dataPath+'AI_mci_mprage_hippocampus.npz', **AI_mci_mprage_hippocampus)\n",
    "# np.savez_compressed(dataPath+'AI_alzd_fspgr_hippocampus.npz', **AI_alzd_fspgr_hippocampus)\n",
    "# np.savez_compressed(dataPath+'AI_alzd_mprage_hippocampus.npz', **AI_alzd_mprage_hippocampus)\n",
    "# np.savez_compressed(dataPath+'AI_trans_fspgr_hippocampus.npz', **AI_trans_fspgr_hippocampus)\n",
    "# np.savez_compressed(dataPath+'AI_trans_mprage_hippocampus.npz', **AI_trans_mprage_hippocampus)"
   ]
  }
 ],
 "metadata": {
  "kernelspec": {
   "display_name": "Python 3",
   "language": "python",
   "name": "python3"
  },
  "language_info": {
   "codemirror_mode": {
    "name": "ipython",
    "version": 3
   },
   "file_extension": ".py",
   "mimetype": "text/x-python",
   "name": "python",
   "nbconvert_exporter": "python",
   "pygments_lexer": "ipython3",
   "version": "3.12.6"
  }
 },
 "nbformat": 4,
 "nbformat_minor": 2
}
