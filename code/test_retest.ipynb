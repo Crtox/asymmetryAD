{
 "cells": [
  {
   "cell_type": "markdown",
   "metadata": {},
   "source": [
    "# Test-retest study on UW data using asymmetry index\n",
    "In this script I will do a test retest study on some FSPGR and MPRAGE MRI sequencings. I follow the proccess from a matlab code, written by Ali Deatsch."
   ]
  },
  {
   "cell_type": "markdown",
   "metadata": {},
   "source": [
    "FSPGR all are cancer patients, MPRAGE are all healthy. Both are NC."
   ]
  },
  {
   "cell_type": "code",
   "execution_count": 1,
   "metadata": {},
   "outputs": [],
   "source": [
    "fspgrPath = '../../UW_data/Test-retest_UWCCC_MRI_AxT1_FSPGRbravo_refined/'\n",
    "mpragePath = '../../UW_data/Test-retest_NITRCKirby_MRI_T1_MPRAGE/'\n"
   ]
  },
  {
   "cell_type": "code",
   "execution_count": 2,
   "metadata": {},
   "outputs": [],
   "source": [
    "import numpy as np\n",
    "from dateutil import parser"
   ]
  },
  {
   "cell_type": "code",
   "execution_count": 3,
   "metadata": {},
   "outputs": [],
   "source": [
    "from test_retest_functions import *"
   ]
  },
  {
   "cell_type": "markdown",
   "metadata": {},
   "source": [
    "## Dataset analysis\n",
    "Firstly I will take a look at my dataset: number of subjects, number of longitudinal scans, median time between scans..."
   ]
  },
  {
   "cell_type": "code",
   "execution_count": 4,
   "metadata": {},
   "outputs": [],
   "source": [
    "fspgr_patient_scans = count_patients_scan(fspgrPath, mpragePath)[0]\n",
    "mprage_patient_scans = count_patients_scan(fspgrPath, mpragePath)[1]"
   ]
  },
  {
   "cell_type": "code",
   "execution_count": 5,
   "metadata": {},
   "outputs": [
    {
     "name": "stdout",
     "output_type": "stream",
     "text": [
      "Number of different patients with FSPGR scan: 16\n",
      "\n",
      "Patient ID: GJDGYD - Number of scans: 2\n",
      "Patient ID: GJDGYR - Number of scans: 2\n",
      "Patient ID: GJDGYZ - Number of scans: 2\n",
      "Patient ID: GJDGZH - Number of scans: 3\n",
      "Patient ID: GJDGZW - Number of scans: 2\n",
      "Patient ID: GJDH1X - Number of scans: 2\n",
      "Patient ID: GJDH22 - Number of scans: 2\n",
      "Patient ID: GJDH2A - Number of scans: 2\n",
      "Patient ID: GJDH2Z - Number of scans: 2\n",
      "Patient ID: GJDH4C - Number of scans: 2\n",
      "Patient ID: GJDH4Q - Number of scans: 2\n",
      "Patient ID: GJDHDK - Number of scans: 2\n",
      "Patient ID: GJDHVO - Number of scans: 3\n",
      "Patient ID: GJDHZ6 - Number of scans: 2\n",
      "Patient ID: GJDHZF - Number of scans: 2\n",
      "Patient ID: GJDI07 - Number of scans: 2\n",
      "--------------------------------------------------------------\n",
      "Number of different patients with MPRAGE scan: 21\n",
      "\n",
      "Patient ID: S113 - Number of scans: 2\n",
      "Patient ID: S127 - Number of scans: 2\n",
      "Patient ID: S142 - Number of scans: 2\n",
      "Patient ID: S239 - Number of scans: 2\n",
      "Patient ID: S346 - Number of scans: 2\n",
      "Patient ID: S422 - Number of scans: 2\n",
      "Patient ID: S492 - Number of scans: 2\n",
      "Patient ID: S502 - Number of scans: 2\n",
      "Patient ID: S505 - Number of scans: 2\n",
      "Patient ID: S656 - Number of scans: 2\n",
      "Patient ID: S679 - Number of scans: 2\n",
      "Patient ID: S742 - Number of scans: 2\n",
      "Patient ID: S800 - Number of scans: 2\n",
      "Patient ID: S814 - Number of scans: 2\n",
      "Patient ID: S815 - Number of scans: 2\n",
      "Patient ID: S849 - Number of scans: 2\n",
      "Patient ID: S906 - Number of scans: 2\n",
      "Patient ID: S913 - Number of scans: 2\n",
      "Patient ID: S916 - Number of scans: 2\n",
      "Patient ID: S934 - Number of scans: 2\n",
      "Patient ID: S959 - Number of scans: 2\n"
     ]
    }
   ],
   "source": [
    "print(f\"Number of different patients with FSPGR scan: {len(fspgr_patient_scans)}\\n\")\n",
    "\n",
    "for patient_id, scan_count in fspgr_patient_scans.items():\n",
    "    print(f\"Patient ID: {patient_id} - Number of scans: {scan_count}\")\n",
    "\n",
    "print('--------------------------------------------------------------')\n",
    "\n",
    "print(f\"Number of different patients with MPRAGE scan: {len(mprage_patient_scans)}\\n\")\n",
    "\n",
    "for patient_id, scan_count in mprage_patient_scans.items():\n",
    "    print(f\"Patient ID: {patient_id} - Number of scans: {scan_count}\")"
   ]
  },
  {
   "cell_type": "markdown",
   "metadata": {},
   "source": [
    "For now I'm only interested in those with 2 scan. I will filter out the dictionary to contain only those. "
   ]
  },
  {
   "cell_type": "code",
   "execution_count": 6,
   "metadata": {},
   "outputs": [],
   "source": [
    "fspgr_patient_scans = {patient_id: scans for patient_id, scans in fspgr_patient_scans.items() if scans == 2}"
   ]
  },
  {
   "cell_type": "code",
   "execution_count": 7,
   "metadata": {},
   "outputs": [
    {
     "name": "stdout",
     "output_type": "stream",
     "text": [
      "Number of different patients: 14\n",
      "\n",
      "Patient ID: GJDGYD - Number of scans: 2\n",
      "Patient ID: GJDGYR - Number of scans: 2\n",
      "Patient ID: GJDGYZ - Number of scans: 2\n",
      "Patient ID: GJDGZW - Number of scans: 2\n",
      "Patient ID: GJDH1X - Number of scans: 2\n",
      "Patient ID: GJDH22 - Number of scans: 2\n",
      "Patient ID: GJDH2A - Number of scans: 2\n",
      "Patient ID: GJDH2Z - Number of scans: 2\n",
      "Patient ID: GJDH4C - Number of scans: 2\n",
      "Patient ID: GJDH4Q - Number of scans: 2\n",
      "Patient ID: GJDHDK - Number of scans: 2\n",
      "Patient ID: GJDHZ6 - Number of scans: 2\n",
      "Patient ID: GJDHZF - Number of scans: 2\n",
      "Patient ID: GJDI07 - Number of scans: 2\n"
     ]
    }
   ],
   "source": [
    "print(f\"Number of different patients: {len(fspgr_patient_scans)}\\n\")\n",
    "\n",
    "for patient_id, scan_count in fspgr_patient_scans.items():\n",
    "    print(f\"Patient ID: {patient_id} - Number of scans: {scan_count}\")"
   ]
  },
  {
   "cell_type": "markdown",
   "metadata": {},
   "source": [
    "Now I want to calculate the median, max and min time between two scans. "
   ]
  },
  {
   "cell_type": "code",
   "execution_count": 8,
   "metadata": {},
   "outputs": [],
   "source": [
    "fspgr_scan_dates = date_of_scans(fspgrPath, fspgr_patient_scans)"
   ]
  },
  {
   "cell_type": "code",
   "execution_count": 9,
   "metadata": {},
   "outputs": [
    {
     "name": "stdout",
     "output_type": "stream",
     "text": [
      "Patient GJDGYD has scan dates: ['2012-06-17', '2012-06-29']\n",
      "Patient GJDGYR has scan dates: ['2019-05-11', '2019-05-15']\n",
      "Patient GJDGYZ has scan dates: ['2014-11-13', '2014-11-29']\n",
      "Patient GJDGZW has scan dates: ['2013-03-20', '2013-03-26']\n",
      "Patient GJDH1X has scan dates: ['2017-05-14', '2017-05-23']\n",
      "Patient GJDH22 has scan dates: ['2011-02-21', '2011-02-26']\n",
      "Patient GJDH2A has scan dates: ['2015-09-28', '2015-10-03']\n",
      "Patient GJDH2Z has scan dates: ['2019-05-14', '2019-05-22']\n",
      "Patient GJDH4C has scan dates: ['2016-07-10', '2016-07-17']\n",
      "Patient GJDH4Q has scan dates: ['2015-02-28', '2015-03-09']\n",
      "Patient GJDHDK has scan dates: ['2016-09-15', '2016-10-03']\n",
      "Patient GJDHZ6 has scan dates: ['2019-08-19', '2019-09-16']\n",
      "Patient GJDHZF has scan dates: ['2019-06-11', '2019-07-01']\n",
      "Patient GJDI07 has scan dates: ['2019-11-09', '2019-11-16']\n"
     ]
    }
   ],
   "source": [
    "for patient_id, dates in fspgr_scan_dates.items():\n",
    "    print(f\"Patient {patient_id} has scan dates: {dates}\")"
   ]
  },
  {
   "cell_type": "markdown",
   "metadata": {},
   "source": [
    "Finally calculating the time differences."
   ]
  },
  {
   "cell_type": "code",
   "execution_count": 10,
   "metadata": {},
   "outputs": [],
   "source": [
    "fspgr_time_between_scans = []\n",
    "\n",
    "for dates_array in fspgr_scan_dates.values():\n",
    "\n",
    "    date0 = parser.parse(dates_array[0])\n",
    "    date1 = parser.parse(dates_array[1])\n",
    "\n",
    "    diff = date1 - date0\n",
    "\n",
    "    fspgr_time_between_scans.append(diff.days)"
   ]
  },
  {
   "cell_type": "code",
   "execution_count": 11,
   "metadata": {},
   "outputs": [
    {
     "name": "stdout",
     "output_type": "stream",
     "text": [
      "[12, 4, 16, 6, 9, 5, 5, 8, 7, 9, 18, 28, 20, 7]\n"
     ]
    }
   ],
   "source": [
    "print(fspgr_time_between_scans)"
   ]
  },
  {
   "cell_type": "code",
   "execution_count": 12,
   "metadata": {},
   "outputs": [],
   "source": [
    "fspgr_average = np.mean(fspgr_time_between_scans)\n",
    "fspgr_medi = int(np.median(fspgr_time_between_scans))\n",
    "fspgr_minimum = np.min(fspgr_time_between_scans)\n",
    "fspgr_maximum = np.max(fspgr_time_between_scans)"
   ]
  },
  {
   "cell_type": "code",
   "execution_count": 13,
   "metadata": {},
   "outputs": [
    {
     "name": "stdout",
     "output_type": "stream",
     "text": [
      "Average time between two scans: 11.0 days\n",
      "Median time between two scans: 8 days\n",
      "Range: 4-28 days\n"
     ]
    }
   ],
   "source": [
    "print(f'''Average time between two scans: {fspgr_average} days\n",
    "Median time between two scans: {fspgr_medi} days\n",
    "Range: {fspgr_minimum}-{fspgr_maximum} days''')"
   ]
  },
  {
   "cell_type": "markdown",
   "metadata": {},
   "source": [
    "!! MPRAGE scans were all taken on the same day. !!"
   ]
  },
  {
   "cell_type": "markdown",
   "metadata": {},
   "source": [
    "## Asymmetry index"
   ]
  },
  {
   "cell_type": "markdown",
   "metadata": {},
   "source": [
    "Getting the file paths of those patients with 2 scans. "
   ]
  },
  {
   "cell_type": "code",
   "execution_count": 14,
   "metadata": {},
   "outputs": [],
   "source": [
    "fspgr_files = filepaths(fspgrPath, mpragePath, fspgr_patient_scans)[0]\n",
    "mprage_files = filepaths(fspgrPath, mpragePath, mprage_patient_scans)[1]"
   ]
  },
  {
   "cell_type": "code",
   "execution_count": 15,
   "metadata": {},
   "outputs": [
    {
     "name": "stdout",
     "output_type": "stream",
     "text": [
      "['../../UW_data/Test-retest_UWCCC_MRI_AxT1_FSPGRbravo_refined/wbet_crf_rsl_GJDGYD_2012-06-17 19_59_01_6 - Ax T1 bravo 3mm.nii', '../../UW_data/Test-retest_UWCCC_MRI_AxT1_FSPGRbravo_refined/wbet_crf_rsl_GJDGYD_2012-06-29 18_01_43_7 - Ax T1 BRAVO 3mm.nii', '../../UW_data/Test-retest_UWCCC_MRI_AxT1_FSPGRbravo_refined/wbet_crf_rsl_GJDGYR_2019-05-11 22_08_04_6 - Ax_T1_BRAVO_2_4mm.nii', '../../UW_data/Test-retest_UWCCC_MRI_AxT1_FSPGRbravo_refined/wbet_crf_rsl_GJDGYR_2019-05-15 14_45_46_7 - Ax_T1_BRAVO_2_4mm.nii', '../../UW_data/Test-retest_UWCCC_MRI_AxT1_FSPGRbravo_refined/wbet_crf_rsl_GJDGYZ_2014-11-13 10_58_47_6 - Ax T1 BRAVO.nii', '../../UW_data/Test-retest_UWCCC_MRI_AxT1_FSPGRbravo_refined/wbet_crf_rsl_GJDGYZ_2014-11-29 22_11_27_9 - 3D T1 BRAVO 3mm.nii', '../../UW_data/Test-retest_UWCCC_MRI_AxT1_FSPGRbravo_refined/wbet_crf_rsl_GJDGZW_2013-03-20 09_08_56_6 - Ax T1 BRAVO 3mm.nii', '../../UW_data/Test-retest_UWCCC_MRI_AxT1_FSPGRbravo_refined/wbet_crf_rsl_GJDGZW_2013-03-26 07_09_45_6 - Ax T1 BRAVO 3mm.nii', '../../UW_data/Test-retest_UWCCC_MRI_AxT1_FSPGRbravo_refined/wbet_crf_rsl_GJDH1X_2017-05-14 11_19_20_7 - Ax_T1_Bravo_2_4mm.nii', '../../UW_data/Test-retest_UWCCC_MRI_AxT1_FSPGRbravo_refined/wbet_crf_rsl_GJDH1X_2017-05-23 15_59_44_7 - Ax_T1_bravo_2_4mm.nii', '../../UW_data/Test-retest_UWCCC_MRI_AxT1_FSPGRbravo_refined/wbet_crf_rsl_GJDH22_2011-02-21 10_05_40_7 - Ax_T1_BRAVO_3mm.nii', '../../UW_data/Test-retest_UWCCC_MRI_AxT1_FSPGRbravo_refined/wbet_crf_rsl_GJDH22_2011-02-26 16_27_19_9 - Ax_T1_BRAVO_3mm.nii', '../../UW_data/Test-retest_UWCCC_MRI_AxT1_FSPGRbravo_refined/wbet_crf_rsl_GJDH2A_2015-09-28 18_00_38_8 - Ax_T1_BRAVO_3mm.nii', '../../UW_data/Test-retest_UWCCC_MRI_AxT1_FSPGRbravo_refined/wbet_crf_rsl_GJDH2A_2015-10-03 03_27_09_10 - Ax_T1_BRAVO_3mm.nii', '../../UW_data/Test-retest_UWCCC_MRI_AxT1_FSPGRbravo_refined/wbet_crf_rsl_GJDH2Z_2019-05-14 02_56_46_12 - Ax_T1_BRAVO_2_4mm.nii', '../../UW_data/Test-retest_UWCCC_MRI_AxT1_FSPGRbravo_refined/wbet_crf_rsl_GJDH2Z_2019-05-22 21_21_21_6 - Ax_T1_bravo_2_4mm.nii', '../../UW_data/Test-retest_UWCCC_MRI_AxT1_FSPGRbravo_refined/wbet_crf_rsl_GJDH4C_2016-07-10 19_35_45_6 - Ax T1 BRAVO 2.4mm.nii', '../../UW_data/Test-retest_UWCCC_MRI_AxT1_FSPGRbravo_refined/wbet_crf_rsl_GJDH4C_2016-07-17 02_17_41_10 - Ax T1 BRAVO 2.4mm.nii', '../../UW_data/Test-retest_UWCCC_MRI_AxT1_FSPGRbravo_refined/wbet_crf_rsl_GJDH4Q_2015-02-28 18_46_56_8 - Ax T1 BRAVO 3mm.nii', '../../UW_data/Test-retest_UWCCC_MRI_AxT1_FSPGRbravo_refined/wbet_crf_rsl_GJDH4Q_2015-03-09 19_37_10_9 - Ax T1 BRAVO 3mm.nii', '../../UW_data/Test-retest_UWCCC_MRI_AxT1_FSPGRbravo_refined/wbet_crf_rsl_GJDHDK_2016-09-15 08_18_18_8 - Ax T1 BRAVO 2.4mm.nii', '../../UW_data/Test-retest_UWCCC_MRI_AxT1_FSPGRbravo_refined/wbet_crf_rsl_GJDHDK_2016-10-03 11_54_36_7 - Ax 3dT1 BRAVO 2.4mm.nii', '../../UW_data/Test-retest_UWCCC_MRI_AxT1_FSPGRbravo_refined/wbet_crf_rsl_GJDHZ6_2019-08-19 13_56_31_7 - Ax_T1_BRAVO_2.4mm.nii', '../../UW_data/Test-retest_UWCCC_MRI_AxT1_FSPGRbravo_refined/wbet_crf_rsl_GJDHZ6_2019-09-16 07_27_15_7 - Ax_T1_BRAVO_2.4mm.nii', '../../UW_data/Test-retest_UWCCC_MRI_AxT1_FSPGRbravo_refined/wbet_crf_rsl_GJDHZF_2019-06-11 20_37_57_6 - Ax T1 bravo 2.4mm.nii', '../../UW_data/Test-retest_UWCCC_MRI_AxT1_FSPGRbravo_refined/wbet_crf_rsl_GJDHZF_2019-07-01 19_12_11_8 - Ax T1 BRAVO 2.4mm.nii', '../../UW_data/Test-retest_UWCCC_MRI_AxT1_FSPGRbravo_refined/wbet_crf_rsl_GJDI07_2019-11-09 14_20_59_7 - Ax T1 bravo 2.4mm.nii', '../../UW_data/Test-retest_UWCCC_MRI_AxT1_FSPGRbravo_refined/wbet_crf_rsl_GJDI07_2019-11-16 08_42_27_6 - Ax T1 bravo 2.4mm.nii']\n",
      "28\n",
      "['../../UW_data/Test-retest_NITRCKirby_MRI_T1_MPRAGE/wbet_crf_rsl_S113_KKI2009-30-MPRAGE.nii', '../../UW_data/Test-retest_NITRCKirby_MRI_T1_MPRAGE/wbet_crf_rsl_S113_KKI2009-33-MPRAGE.nii', '../../UW_data/Test-retest_NITRCKirby_MRI_T1_MPRAGE/wbet_crf_rsl_S127_KKI2009-07-MPRAGE.nii', '../../UW_data/Test-retest_NITRCKirby_MRI_T1_MPRAGE/wbet_crf_rsl_S127_KKI2009-34-MPRAGE.nii', '../../UW_data/Test-retest_NITRCKirby_MRI_T1_MPRAGE/wbet_crf_rsl_S142_KKI2009-06-MPRAGE.nii', '../../UW_data/Test-retest_NITRCKirby_MRI_T1_MPRAGE/wbet_crf_rsl_S142_KKI2009-20-MPRAGE.nii', '../../UW_data/Test-retest_NITRCKirby_MRI_T1_MPRAGE/wbet_crf_rsl_S239_KKI2009-12-MPRAGE.nii', '../../UW_data/Test-retest_NITRCKirby_MRI_T1_MPRAGE/wbet_crf_rsl_S239_KKI2009-19-MPRAGE.nii', '../../UW_data/Test-retest_NITRCKirby_MRI_T1_MPRAGE/wbet_crf_rsl_S346_KKI2009-39-MPRAGE.nii', '../../UW_data/Test-retest_NITRCKirby_MRI_T1_MPRAGE/wbet_crf_rsl_S346_KKI2009-41-MPRAGE.nii', '../../UW_data/Test-retest_NITRCKirby_MRI_T1_MPRAGE/wbet_crf_rsl_S422_KKI2009-09-MPRAGE.nii', '../../UW_data/Test-retest_NITRCKirby_MRI_T1_MPRAGE/wbet_crf_rsl_S422_KKI2009-42-MPRAGE.nii', '../../UW_data/Test-retest_NITRCKirby_MRI_T1_MPRAGE/wbet_crf_rsl_S492_KKI2009-18-MPRAGE.nii', '../../UW_data/Test-retest_NITRCKirby_MRI_T1_MPRAGE/wbet_crf_rsl_S492_KKI2009-38-MPRAGE.nii', '../../UW_data/Test-retest_NITRCKirby_MRI_T1_MPRAGE/wbet_crf_rsl_S502_KKI2009-32-MPRAGE.nii', '../../UW_data/Test-retest_NITRCKirby_MRI_T1_MPRAGE/wbet_crf_rsl_S502_KKI2009-36-MPRAGE.nii', '../../UW_data/Test-retest_NITRCKirby_MRI_T1_MPRAGE/wbet_crf_rsl_S505_KKI2009-16-MPRAGE.nii', '../../UW_data/Test-retest_NITRCKirby_MRI_T1_MPRAGE/wbet_crf_rsl_S505_KKI2009-35-MPRAGE.nii', '../../UW_data/Test-retest_NITRCKirby_MRI_T1_MPRAGE/wbet_crf_rsl_S656_KKI2009-28-MPRAGE.nii', '../../UW_data/Test-retest_NITRCKirby_MRI_T1_MPRAGE/wbet_crf_rsl_S656_KKI2009-40-MPRAGE.nii', '../../UW_data/Test-retest_NITRCKirby_MRI_T1_MPRAGE/wbet_crf_rsl_S679_KKI2009-03-MPRAGE.nii', '../../UW_data/Test-retest_NITRCKirby_MRI_T1_MPRAGE/wbet_crf_rsl_S679_KKI2009-22-MPRAGE.nii', '../../UW_data/Test-retest_NITRCKirby_MRI_T1_MPRAGE/wbet_crf_rsl_S742_KKI2009-08-MPRAGE.nii', '../../UW_data/Test-retest_NITRCKirby_MRI_T1_MPRAGE/wbet_crf_rsl_S742_KKI2009-29-MPRAGE.nii', '../../UW_data/Test-retest_NITRCKirby_MRI_T1_MPRAGE/wbet_crf_rsl_S800_KKI2009-23-MPRAGE.nii', '../../UW_data/Test-retest_NITRCKirby_MRI_T1_MPRAGE/wbet_crf_rsl_S800_KKI2009-27-MPRAGE.nii', '../../UW_data/Test-retest_NITRCKirby_MRI_T1_MPRAGE/wbet_crf_rsl_S814_KKI2009-15-MPRAGE.nii', '../../UW_data/Test-retest_NITRCKirby_MRI_T1_MPRAGE/wbet_crf_rsl_S814_KKI2009-26-MPRAGE.nii', '../../UW_data/Test-retest_NITRCKirby_MRI_T1_MPRAGE/wbet_crf_rsl_S815_KKI2009-10-MPRAGE.nii', '../../UW_data/Test-retest_NITRCKirby_MRI_T1_MPRAGE/wbet_crf_rsl_S815_KKI2009-21-MPRAGE.nii', '../../UW_data/Test-retest_NITRCKirby_MRI_T1_MPRAGE/wbet_crf_rsl_S849_KKI2009-01-MPRAGE.nii', '../../UW_data/Test-retest_NITRCKirby_MRI_T1_MPRAGE/wbet_crf_rsl_S849_KKI2009-25-MPRAGE.nii', '../../UW_data/Test-retest_NITRCKirby_MRI_T1_MPRAGE/wbet_crf_rsl_S906_KKI2009-04-MPRAGE.nii', '../../UW_data/Test-retest_NITRCKirby_MRI_T1_MPRAGE/wbet_crf_rsl_S906_KKI2009-11-MPRAGE.nii', '../../UW_data/Test-retest_NITRCKirby_MRI_T1_MPRAGE/wbet_crf_rsl_S913_KKI2009-05-MPRAGE.nii', '../../UW_data/Test-retest_NITRCKirby_MRI_T1_MPRAGE/wbet_crf_rsl_S913_KKI2009-31-MPRAGE.nii', '../../UW_data/Test-retest_NITRCKirby_MRI_T1_MPRAGE/wbet_crf_rsl_S916_KKI2009-13-MPRAGE.nii', '../../UW_data/Test-retest_NITRCKirby_MRI_T1_MPRAGE/wbet_crf_rsl_S916_KKI2009-24-MPRAGE.nii', '../../UW_data/Test-retest_NITRCKirby_MRI_T1_MPRAGE/wbet_crf_rsl_S934_KKI2009-02-MPRAGE.nii', '../../UW_data/Test-retest_NITRCKirby_MRI_T1_MPRAGE/wbet_crf_rsl_S934_KKI2009-37-MPRAGE.nii', '../../UW_data/Test-retest_NITRCKirby_MRI_T1_MPRAGE/wbet_crf_rsl_S959_KKI2009-14-MPRAGE.nii', '../../UW_data/Test-retest_NITRCKirby_MRI_T1_MPRAGE/wbet_crf_rsl_S959_KKI2009-17-MPRAGE.nii']\n",
      "42\n"
     ]
    }
   ],
   "source": [
    "print(fspgr_files)\n",
    "print(len(fspgr_files))\n",
    "print(mprage_files)\n",
    "print(len(mprage_files))"
   ]
  },
  {
   "cell_type": "markdown",
   "metadata": {},
   "source": [
    "Separating first scans from second scans."
   ]
  },
  {
   "cell_type": "code",
   "execution_count": 16,
   "metadata": {},
   "outputs": [],
   "source": [
    "fspgr_first_scans = separate_scans(fspgr_files)[0]\n",
    "fspgr_second_scans = separate_scans(fspgr_files)[1]\n",
    "\n",
    "mprage_first_scans = separate_scans(mprage_files)[0]\n",
    "mprage_second_scans = separate_scans(mprage_files)[1]"
   ]
  }
 ],
 "metadata": {
  "kernelspec": {
   "display_name": "Python 3",
   "language": "python",
   "name": "python3"
  },
  "language_info": {
   "codemirror_mode": {
    "name": "ipython",
    "version": 3
   },
   "file_extension": ".py",
   "mimetype": "text/x-python",
   "name": "python",
   "nbconvert_exporter": "python",
   "pygments_lexer": "ipython3",
   "version": "3.12.6"
  }
 },
 "nbformat": 4,
 "nbformat_minor": 2
}
