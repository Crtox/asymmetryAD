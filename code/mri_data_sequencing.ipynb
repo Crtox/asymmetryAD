{
 "cells": [
  {
   "cell_type": "markdown",
   "metadata": {},
   "source": [
    "## Narrowing the data based on sequencing type\n",
    "Previously I sorted data to 4 cohort (check \"mri_data_sort_to_cohorts.ipynb\"). <br>\n",
    "Now I want to keep only relevant sequencing types: MPRAGE and FSPGR. <br> \n",
    "<br>\n",
    "In my 4 cohorts you can find 3 different naming conventions. I will provide 3 examples, one from each type: <br>\n",
    "1) 1018_NACC282203_20170908ni <br>\n",
    "2) mri129ni<br>\n",
    "3) NACC497363_128401136192134176253428319601354034337135ni<br> \n",
    "\n",
    "The 1) all have MPRAGE sequencing, the 2) all have FSPGR sequencing and some of 3) have FSPGR, some MPRAGE."
   ]
  },
  {
   "cell_type": "code",
   "execution_count": 6,
   "metadata": {},
   "outputs": [],
   "source": [
    "import pandas as pd\n",
    "import matplotlib.pyplot as plt\n",
    "import numpy as np\n",
    "import os \n",
    "import re\n",
    "import shutil"
   ]
  },
  {
   "cell_type": "code",
   "execution_count": 55,
   "metadata": {},
   "outputs": [],
   "source": [
    "ncPath = '../../NACC_data/sorted_cohorts/NC/'\n",
    "mciPath = '../../NACC_data/sorted_cohorts/MCI/'\n",
    "alzdPath = '../../NACC_data/sorted_cohorts/ALZD/'\n",
    "transPath = '../../NACC_data/sorted_cohorts/TRANS/'"
   ]
  },
  {
   "cell_type": "code",
   "execution_count": 56,
   "metadata": {},
   "outputs": [],
   "source": [
    "# Convert the relative path to an absolute path\n",
    "ncPath = os.path.abspath(ncPath)\n",
    "mciPath = os.path.abspath(mciPath)\n",
    "alzdPath = os.path.abspath(alzdPath)\n",
    "transPath = os.path.abspath(transPath)\n",
    "\n",
    "# Modify the absolute path for long path support on Windows\n",
    "if os.name == 'nt':                     # Check if the operating system is Windows\n",
    "    ncPath = '\\\\\\\\?\\\\' + ncPath\n",
    "    mciPath = '\\\\\\\\?\\\\' + mciPath\n",
    "    alzdPath = '\\\\\\\\?\\\\' + alzdPath\n",
    "    transPath = '\\\\\\\\?\\\\' + transPath"
   ]
  },
  {
   "cell_type": "code",
   "execution_count": 57,
   "metadata": {},
   "outputs": [
    {
     "name": "stdout",
     "output_type": "stream",
     "text": [
      "Modified path for Windows: \\\\?\\c:\\Users\\Crt\\Desktop\\WIMR\\asymmetryAD\\NACC_data\\sorted_cohorts\\NC\n",
      "Modified path for Windows: \\\\?\\c:\\Users\\Crt\\Desktop\\WIMR\\asymmetryAD\\NACC_data\\sorted_cohorts\\MCI\n",
      "Modified path for Windows: \\\\?\\c:\\Users\\Crt\\Desktop\\WIMR\\asymmetryAD\\NACC_data\\sorted_cohorts\\ALZD\n",
      "Modified path for Windows: \\\\?\\c:\\Users\\Crt\\Desktop\\WIMR\\asymmetryAD\\NACC_data\\sorted_cohorts\\TRANS\n"
     ]
    }
   ],
   "source": [
    "print(f\"Modified path for Windows: {ncPath}\")\n",
    "print(f\"Modified path for Windows: {mciPath}\")\n",
    "print(f\"Modified path for Windows: {alzdPath}\")\n",
    "print(f\"Modified path for Windows: {transPath}\")"
   ]
  },
  {
   "cell_type": "markdown",
   "metadata": {},
   "source": [
    "### 1) 1018_NACC282203_20170908ni\n",
    "Directory structure example: <br>\n",
    "<br>\n",
    "1018_NACC282203_20170908ni \n",
    "- 1018_NACC282203_20170908 \n",
    "    - Mag_Images_17_1312211075219452552017090815014550782025439000\n",
    "    - mIP_ImagesSW_19_1312211075219452552017090815014550780625438000\n",
    "    - MPRAGE_GRAPPA2_6_1312211075219452552017090814552268696468275000\n",
    "    - Pha_Images_18_1312211075219452552017090815014550782825440000\n",
    "    - SWI_Images_20_1312211075219452552017090815014550784425442000\n",
    "    - T2FLAIRSPACENEW_7_1312211075219452552017090814555267209169171000\n",
    "\n",
    "I will only keep the MPRAGE folder and delete the others."
   ]
  },
  {
   "cell_type": "markdown",
   "metadata": {},
   "source": [
    "Converting the paths, sice Windows has a limit to 260 characters in paths, which causes errors in this case."
   ]
  },
  {
   "cell_type": "code",
   "execution_count": 58,
   "metadata": {},
   "outputs": [],
   "source": [
    "# Regular expression pattern for folder names starting with 4 digits followed by an underscore\n",
    "pattern = r'^\\d{4}_'"
   ]
  },
  {
   "cell_type": "code",
   "execution_count": 59,
   "metadata": {},
   "outputs": [],
   "source": [
    "# List to store the matching folders\n",
    "matching_folders = []\n",
    "\n",
    "# Iterate over the items in the directory\n",
    "for item in os.listdir(ncPath):\n",
    "    item_path = os.path.join(ncPath, item)\n",
    "    \n",
    "    # Check if the item is a folder and matches the pattern\n",
    "    if os.path.isdir(item_path) and re.match(pattern, item):\n",
    "        matching_folders.append(item_path)"
   ]
  },
  {
   "cell_type": "code",
   "execution_count": 60,
   "metadata": {},
   "outputs": [
    {
     "name": "stdout",
     "output_type": "stream",
     "text": [
      "\\\\?\\c:\\Users\\Crt\\Desktop\\WIMR\\asymmetryAD\\NACC_data\\sorted_cohorts\\TRANS\\1018_NACC356689_20171019ni\n",
      "\\\\?\\c:\\Users\\Crt\\Desktop\\WIMR\\asymmetryAD\\NACC_data\\sorted_cohorts\\TRANS\\1018_NACC356689_20201102ni\n",
      "\\\\?\\c:\\Users\\Crt\\Desktop\\WIMR\\asymmetryAD\\NACC_data\\sorted_cohorts\\TRANS\\1018_NACC450406_20180615ni\n",
      "\\\\?\\c:\\Users\\Crt\\Desktop\\WIMR\\asymmetryAD\\NACC_data\\sorted_cohorts\\TRANS\\1018_NACC450406_20210128ni\n",
      "\\\\?\\c:\\Users\\Crt\\Desktop\\WIMR\\asymmetryAD\\NACC_data\\sorted_cohorts\\TRANS\\1018_NACC838157_20170510ni\n",
      "\\\\?\\c:\\Users\\Crt\\Desktop\\WIMR\\asymmetryAD\\NACC_data\\sorted_cohorts\\TRANS\\1018_NACC838157_20200820ni\n"
     ]
    }
   ],
   "source": [
    "for folder in matching_folders:\n",
    "    print(folder)"
   ]
  },
  {
   "cell_type": "code",
   "execution_count": 61,
   "metadata": {},
   "outputs": [],
   "source": [
    "# Regular expression for MPRAGE subfolder\n",
    "keep_prefix = 'MPRAGE'"
   ]
  },
  {
   "cell_type": "markdown",
   "metadata": {},
   "source": [
    "This is commented, since it ran only once (to delete folders)."
   ]
  },
  {
   "cell_type": "code",
   "execution_count": null,
   "metadata": {},
   "outputs": [],
   "source": [
    "# Loop through each folder in matching_folders\n",
    "for folder in matching_folders:\n",
    "\n",
    "    # Get the path to the subfolder (e.g., 1018_NACC282203_20170908)\n",
    "    subfolder_path = os.path.join(folder, os.listdir(folder)[0])         # only 1 subfolder exists at this level\n",
    "\n",
    "    # List all subfolders in the subfolder_path\n",
    "    subfolders = os.listdir(subfolder_path)\n",
    "\n",
    "    for subfolder in subfolders:\n",
    "        \n",
    "        subfolder_full_path = os.path.join(subfolder_path, subfolder)\n",
    "        \n",
    "        # Check if the subfolder name starts with 'MPRAGE'\n",
    "        if os.path.isdir(subfolder_full_path) and not subfolder.startswith(keep_prefix):\n",
    "\n",
    "            # If the subfolder doesn't start with 'MPRAGE', delete it\n",
    "            #shutil.rmtree(subfolder_full_path)\n",
    "            print(f\"Deleted: {subfolder_full_path}\")\n",
    "        \n",
    "        else:\n",
    "            print(f\"Kept: {subfolder_full_path}\")"
   ]
  },
  {
   "cell_type": "markdown",
   "metadata": {},
   "source": [
    "### 2) mri129ni\n",
    "Directory structure example: <br>\n",
    "<br>\n",
    "mri129ni\n",
    "- s5_dti_DTI\n",
    "- s6_bravo_T1\n",
    "- s8_cubet2_T2\n",
    "- s9_cubet2flair_T2_Flair\n",
    "\n",
    "I will keep only the s6_bravo_T1 subflolder (all the subfolders that have T1 in their names)."
   ]
  },
  {
   "cell_type": "markdown",
   "metadata": {},
   "source": [
    "IMPORTANT: not every mri folder has this substructure. Some look like this: <br>\n",
    "<br>\n",
    "mri1900ni\n",
    "- scans\n",
    "    - many subfolders\n",
    "\n",
    "or like this: <br>\n",
    "<br>\n",
    "mri6615ni\n",
    "- DICOM\n",
    "    - many files\n",
    "\n",
    "or like this <br>\n",
    "<br>\n",
    "mri8192ni\n",
    "- NACC581039\n",
    "    - nacc\n",
    "        - many subfolder\n",
    "\n",
    "Probably there are other structures, just keep this in mind."
   ]
  },
  {
   "cell_type": "code",
   "execution_count": 153,
   "metadata": {},
   "outputs": [],
   "source": [
    "pattern = 'mri'"
   ]
  },
  {
   "cell_type": "code",
   "execution_count": 154,
   "metadata": {},
   "outputs": [],
   "source": [
    "# List to store the matching folders\n",
    "matching_folders = []\n",
    "\n",
    "# Iterate over the items in the directory\n",
    "for item in os.listdir(alzdPath):\n",
    "    item_path = os.path.join(alzdPath, item)\n",
    "    \n",
    "    # Check if the item is a folder and matches the pattern\n",
    "    if os.path.isdir(item_path) and re.match(pattern, item):\n",
    "        matching_folders.append(item_path)"
   ]
  },
  {
   "cell_type": "code",
   "execution_count": 155,
   "metadata": {},
   "outputs": [
    {
     "name": "stdout",
     "output_type": "stream",
     "text": [
      "\\\\?\\c:\\Users\\Crt\\Desktop\\WIMR\\asymmetryAD\\NACC_data\\sorted_cohorts\\ALZD\\mri1901ni\n",
      "\\\\?\\c:\\Users\\Crt\\Desktop\\WIMR\\asymmetryAD\\NACC_data\\sorted_cohorts\\ALZD\\mri1925ni\n",
      "\\\\?\\c:\\Users\\Crt\\Desktop\\WIMR\\asymmetryAD\\NACC_data\\sorted_cohorts\\ALZD\\mri5006ni\n",
      "\\\\?\\c:\\Users\\Crt\\Desktop\\WIMR\\asymmetryAD\\NACC_data\\sorted_cohorts\\ALZD\\mri5008ni\n",
      "\\\\?\\c:\\Users\\Crt\\Desktop\\WIMR\\asymmetryAD\\NACC_data\\sorted_cohorts\\ALZD\\mri5038ni\n",
      "\\\\?\\c:\\Users\\Crt\\Desktop\\WIMR\\asymmetryAD\\NACC_data\\sorted_cohorts\\ALZD\\mri5039ni\n",
      "\\\\?\\c:\\Users\\Crt\\Desktop\\WIMR\\asymmetryAD\\NACC_data\\sorted_cohorts\\ALZD\\mri5040ni\n",
      "\\\\?\\c:\\Users\\Crt\\Desktop\\WIMR\\asymmetryAD\\NACC_data\\sorted_cohorts\\ALZD\\mri5041ni\n",
      "\\\\?\\c:\\Users\\Crt\\Desktop\\WIMR\\asymmetryAD\\NACC_data\\sorted_cohorts\\ALZD\\mri5043ni\n",
      "\\\\?\\c:\\Users\\Crt\\Desktop\\WIMR\\asymmetryAD\\NACC_data\\sorted_cohorts\\ALZD\\mri5044ni\n",
      "\\\\?\\c:\\Users\\Crt\\Desktop\\WIMR\\asymmetryAD\\NACC_data\\sorted_cohorts\\ALZD\\mri5045ni\n",
      "\\\\?\\c:\\Users\\Crt\\Desktop\\WIMR\\asymmetryAD\\NACC_data\\sorted_cohorts\\ALZD\\mri5046ni\n",
      "\\\\?\\c:\\Users\\Crt\\Desktop\\WIMR\\asymmetryAD\\NACC_data\\sorted_cohorts\\ALZD\\mri5052ni\n",
      "\\\\?\\c:\\Users\\Crt\\Desktop\\WIMR\\asymmetryAD\\NACC_data\\sorted_cohorts\\ALZD\\mri5053ni\n",
      "\\\\?\\c:\\Users\\Crt\\Desktop\\WIMR\\asymmetryAD\\NACC_data\\sorted_cohorts\\ALZD\\mri5054ni\n",
      "\\\\?\\c:\\Users\\Crt\\Desktop\\WIMR\\asymmetryAD\\NACC_data\\sorted_cohorts\\ALZD\\mri5055ni\n",
      "\\\\?\\c:\\Users\\Crt\\Desktop\\WIMR\\asymmetryAD\\NACC_data\\sorted_cohorts\\ALZD\\mri5066ni\n",
      "\\\\?\\c:\\Users\\Crt\\Desktop\\WIMR\\asymmetryAD\\NACC_data\\sorted_cohorts\\ALZD\\mri5067ni\n",
      "\\\\?\\c:\\Users\\Crt\\Desktop\\WIMR\\asymmetryAD\\NACC_data\\sorted_cohorts\\ALZD\\mri5082ni\n",
      "\\\\?\\c:\\Users\\Crt\\Desktop\\WIMR\\asymmetryAD\\NACC_data\\sorted_cohorts\\ALZD\\mri5083ni\n",
      "\\\\?\\c:\\Users\\Crt\\Desktop\\WIMR\\asymmetryAD\\NACC_data\\sorted_cohorts\\ALZD\\mri5105ni\n",
      "\\\\?\\c:\\Users\\Crt\\Desktop\\WIMR\\asymmetryAD\\NACC_data\\sorted_cohorts\\ALZD\\mri5106ni\n",
      "\\\\?\\c:\\Users\\Crt\\Desktop\\WIMR\\asymmetryAD\\NACC_data\\sorted_cohorts\\ALZD\\mri5111ni\n",
      "\\\\?\\c:\\Users\\Crt\\Desktop\\WIMR\\asymmetryAD\\NACC_data\\sorted_cohorts\\ALZD\\mri5112ni\n",
      "\\\\?\\c:\\Users\\Crt\\Desktop\\WIMR\\asymmetryAD\\NACC_data\\sorted_cohorts\\ALZD\\mri5113ni\n",
      "\\\\?\\c:\\Users\\Crt\\Desktop\\WIMR\\asymmetryAD\\NACC_data\\sorted_cohorts\\ALZD\\mri5116ni\n",
      "\\\\?\\c:\\Users\\Crt\\Desktop\\WIMR\\asymmetryAD\\NACC_data\\sorted_cohorts\\ALZD\\mri5132ni\n",
      "\\\\?\\c:\\Users\\Crt\\Desktop\\WIMR\\asymmetryAD\\NACC_data\\sorted_cohorts\\ALZD\\mri5133ni\n",
      "\\\\?\\c:\\Users\\Crt\\Desktop\\WIMR\\asymmetryAD\\NACC_data\\sorted_cohorts\\ALZD\\mri5134ni\n",
      "\\\\?\\c:\\Users\\Crt\\Desktop\\WIMR\\asymmetryAD\\NACC_data\\sorted_cohorts\\ALZD\\mri5152ni\n",
      "\\\\?\\c:\\Users\\Crt\\Desktop\\WIMR\\asymmetryAD\\NACC_data\\sorted_cohorts\\ALZD\\mri5153ni\n",
      "\\\\?\\c:\\Users\\Crt\\Desktop\\WIMR\\asymmetryAD\\NACC_data\\sorted_cohorts\\ALZD\\mri5155ni\n",
      "\\\\?\\c:\\Users\\Crt\\Desktop\\WIMR\\asymmetryAD\\NACC_data\\sorted_cohorts\\ALZD\\mri5158ni\n",
      "\\\\?\\c:\\Users\\Crt\\Desktop\\WIMR\\asymmetryAD\\NACC_data\\sorted_cohorts\\ALZD\\mri5170ni\n",
      "\\\\?\\c:\\Users\\Crt\\Desktop\\WIMR\\asymmetryAD\\NACC_data\\sorted_cohorts\\ALZD\\mri5171ni\n",
      "\\\\?\\c:\\Users\\Crt\\Desktop\\WIMR\\asymmetryAD\\NACC_data\\sorted_cohorts\\ALZD\\mri5197ni\n",
      "\\\\?\\c:\\Users\\Crt\\Desktop\\WIMR\\asymmetryAD\\NACC_data\\sorted_cohorts\\ALZD\\mri5198ni\n",
      "\\\\?\\c:\\Users\\Crt\\Desktop\\WIMR\\asymmetryAD\\NACC_data\\sorted_cohorts\\ALZD\\mri5199ni\n",
      "\\\\?\\c:\\Users\\Crt\\Desktop\\WIMR\\asymmetryAD\\NACC_data\\sorted_cohorts\\ALZD\\mri5201ni\n",
      "\\\\?\\c:\\Users\\Crt\\Desktop\\WIMR\\asymmetryAD\\NACC_data\\sorted_cohorts\\ALZD\\mri5213ni\n",
      "\\\\?\\c:\\Users\\Crt\\Desktop\\WIMR\\asymmetryAD\\NACC_data\\sorted_cohorts\\ALZD\\mri5214ni\n",
      "\\\\?\\c:\\Users\\Crt\\Desktop\\WIMR\\asymmetryAD\\NACC_data\\sorted_cohorts\\ALZD\\mri5221ni\n",
      "\\\\?\\c:\\Users\\Crt\\Desktop\\WIMR\\asymmetryAD\\NACC_data\\sorted_cohorts\\ALZD\\mri5222ni\n",
      "\\\\?\\c:\\Users\\Crt\\Desktop\\WIMR\\asymmetryAD\\NACC_data\\sorted_cohorts\\ALZD\\mri5223ni\n",
      "\\\\?\\c:\\Users\\Crt\\Desktop\\WIMR\\asymmetryAD\\NACC_data\\sorted_cohorts\\ALZD\\mri5226ni\n",
      "\\\\?\\c:\\Users\\Crt\\Desktop\\WIMR\\asymmetryAD\\NACC_data\\sorted_cohorts\\ALZD\\mri5227ni\n",
      "\\\\?\\c:\\Users\\Crt\\Desktop\\WIMR\\asymmetryAD\\NACC_data\\sorted_cohorts\\ALZD\\mri5229ni\n",
      "\\\\?\\c:\\Users\\Crt\\Desktop\\WIMR\\asymmetryAD\\NACC_data\\sorted_cohorts\\ALZD\\mri5230ni\n",
      "\\\\?\\c:\\Users\\Crt\\Desktop\\WIMR\\asymmetryAD\\NACC_data\\sorted_cohorts\\ALZD\\mri5231ni\n",
      "\\\\?\\c:\\Users\\Crt\\Desktop\\WIMR\\asymmetryAD\\NACC_data\\sorted_cohorts\\ALZD\\mri5255ni\n",
      "\\\\?\\c:\\Users\\Crt\\Desktop\\WIMR\\asymmetryAD\\NACC_data\\sorted_cohorts\\ALZD\\mri5256ni\n",
      "\\\\?\\c:\\Users\\Crt\\Desktop\\WIMR\\asymmetryAD\\NACC_data\\sorted_cohorts\\ALZD\\mri5270ni\n",
      "\\\\?\\c:\\Users\\Crt\\Desktop\\WIMR\\asymmetryAD\\NACC_data\\sorted_cohorts\\ALZD\\mri5271ni\n",
      "\\\\?\\c:\\Users\\Crt\\Desktop\\WIMR\\asymmetryAD\\NACC_data\\sorted_cohorts\\ALZD\\mri5287ni\n",
      "\\\\?\\c:\\Users\\Crt\\Desktop\\WIMR\\asymmetryAD\\NACC_data\\sorted_cohorts\\ALZD\\mri5288ni\n",
      "\\\\?\\c:\\Users\\Crt\\Desktop\\WIMR\\asymmetryAD\\NACC_data\\sorted_cohorts\\ALZD\\mri5289ni\n",
      "\\\\?\\c:\\Users\\Crt\\Desktop\\WIMR\\asymmetryAD\\NACC_data\\sorted_cohorts\\ALZD\\mri5386ni\n",
      "\\\\?\\c:\\Users\\Crt\\Desktop\\WIMR\\asymmetryAD\\NACC_data\\sorted_cohorts\\ALZD\\mri5516ni\n",
      "\\\\?\\c:\\Users\\Crt\\Desktop\\WIMR\\asymmetryAD\\NACC_data\\sorted_cohorts\\ALZD\\mri8171ni\n",
      "\\\\?\\c:\\Users\\Crt\\Desktop\\WIMR\\asymmetryAD\\NACC_data\\sorted_cohorts\\ALZD\\mri8191ni\n",
      "\\\\?\\c:\\Users\\Crt\\Desktop\\WIMR\\asymmetryAD\\NACC_data\\sorted_cohorts\\ALZD\\mri8192ni\n",
      "\\\\?\\c:\\Users\\Crt\\Desktop\\WIMR\\asymmetryAD\\NACC_data\\sorted_cohorts\\ALZD\\mri8235ni\n"
     ]
    }
   ],
   "source": [
    "for folder in matching_folders:\n",
    "    print(folder)"
   ]
  },
  {
   "cell_type": "code",
   "execution_count": 156,
   "metadata": {},
   "outputs": [],
   "source": [
    "# Regular expression for T1 subfolder\n",
    "T1_prefix = 'T1'\n",
    "nacc_prefix = 'NACC'\n",
    "mprage_prefix = 'MPRAGE'\n",
    "fspgr_prefix = 'FSPGR'"
   ]
  },
  {
   "cell_type": "code",
   "execution_count": 157,
   "metadata": {},
   "outputs": [],
   "source": [
    "# Storing the names of deleted patients\n",
    "deleted_mri_folders = []"
   ]
  },
  {
   "cell_type": "code",
   "execution_count": 159,
   "metadata": {},
   "outputs": [],
   "source": [
    "# Loop through each folder in matching_folders\n",
    "for folder in matching_folders:\n",
    "\n",
    "    # List all subfolders in the folder_path\n",
    "    subfolders = os.listdir(folder)\n",
    "\n",
    "    # Folders that contain only 1 subfolder (those have different substructures)\n",
    "    if len(subfolders) == 1:\n",
    "\n",
    "        for subfolder in subfolders:\n",
    "\n",
    "            subfolder_full_path = os.path.join(folder, subfolder)\n",
    "            subfolder_full_path = os.path.abspath(subfolder_full_path)                      # Absolute path\n",
    "            subfolder_full_path = '\\\\\\\\?\\\\' + subfolder_full_path                           # Handle long paths\n",
    "\n",
    "            # Only keeping those folders whose subfolders that start with NACC, deleting the rest\n",
    "            if os.path.isdir(subfolder_full_path) and not subfolder.startswith(nacc_prefix):\n",
    "\n",
    "                deleted_mri_folders.append(folder)\n",
    "                shutil.rmtree(folder)\n",
    "                print(f\"Deleted: {folder}\")\n",
    "\n",
    "            # If it does start with NACC, check inside the NACC folder for MPRAGE or FSPGR\n",
    "            elif os.path.isdir(subfolder_full_path) and subfolder.startswith(nacc_prefix):\n",
    "\n",
    "                subfolders_in_nacc = os.listdir(subfolder_full_path)                         # List subfolders inside NACC\n",
    "\n",
    "                for subs in subfolders_in_nacc:\n",
    "\n",
    "                    subs_full_path = os.path.join(subfolder_full_path, subs)\n",
    "                    subs_full_path = os.path.abspath(subs_full_path)\n",
    "                    subs_full_path = '\\\\\\\\?\\\\' + subs_full_path                              # Handle long paths\n",
    "\n",
    "                    # Check if subfolder does NOT contain 'MPRAGE' or 'FSPGR'\n",
    "                    if os.path.isdir(subs_full_path) and (mprage_prefix not in subs and fspgr_prefix not in subs):\n",
    "\n",
    "                        shutil.rmtree(subs_full_path)\n",
    "                        print(f\"Deleted: {subs_full_path}\")\n",
    "\n",
    "                    else:\n",
    "\n",
    "                        print(f\"Kept: {subs_full_path}\")\n",
    "\n",
    "    else:\n",
    "        # For folders that contain multiple subfolders, delete subfolders that don't have 'T1'\n",
    "        for subfolder in subfolders:\n",
    "\n",
    "            subfolder_full_path = os.path.join(folder, subfolder)\n",
    "            subfolder_full_path = os.path.abspath(subfolder_full_path)                        # Absolute path\n",
    "            subfolder_full_path = '\\\\\\\\?\\\\' + subfolder_full_path                             # Handle long paths\n",
    "\n",
    "            # Check if the subfolder name contains 'T1' anywhere in its name\n",
    "            if os.path.isdir(subfolder_full_path) and T1_prefix not in subfolder:\n",
    "\n",
    "                # If the subfolder doesn't contain 'T1', delete it\n",
    "                shutil.rmtree(subfolder_full_path)\n",
    "                print(f\"Deleted: {subfolder_full_path}\")\n",
    "\n",
    "            else:\n",
    "                \n",
    "                print(f\"Kept: {subfolder_full_path}\")"
   ]
  },
  {
   "cell_type": "markdown",
   "metadata": {},
   "source": [
    "Saving deleted mri folders, so I can later correct the .csv files containing what patients I have."
   ]
  },
  {
   "cell_type": "code",
   "execution_count": 160,
   "metadata": {},
   "outputs": [],
   "source": [
    "writePath = '../../NACC_data/sorted_cohorts/'"
   ]
  },
  {
   "cell_type": "code",
   "execution_count": 161,
   "metadata": {},
   "outputs": [
    {
     "name": "stdout",
     "output_type": "stream",
     "text": [
      "0\n"
     ]
    }
   ],
   "source": [
    "print(len(deleted_mri_folders))"
   ]
  },
  {
   "cell_type": "code",
   "execution_count": 85,
   "metadata": {},
   "outputs": [
    {
     "name": "stdout",
     "output_type": "stream",
     "text": [
      "Save to .txt complete!\n"
     ]
    }
   ],
   "source": [
    "def save_common_naccids_to_txt(array, filepath):\n",
    "    with open(filepath, 'w') as f:\n",
    "        for filepath in array:\n",
    "            f.write(f\"{filepath}\\n\")\n",
    "\n",
    "#save_common_naccids_to_txt(deleted_mri_folders, writePath + 'alzd_deleted.txt')\n",
    "\n",
    "print(\"Save to .txt complete!\")"
   ]
  }
 ],
 "metadata": {
  "kernelspec": {
   "display_name": "Python 3",
   "language": "python",
   "name": "python3"
  },
  "language_info": {
   "codemirror_mode": {
    "name": "ipython",
    "version": 3
   },
   "file_extension": ".py",
   "mimetype": "text/x-python",
   "name": "python",
   "nbconvert_exporter": "python",
   "pygments_lexer": "ipython3",
   "version": "3.12.6"
  }
 },
 "nbformat": 4,
 "nbformat_minor": 2
}
