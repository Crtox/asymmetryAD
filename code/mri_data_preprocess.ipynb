{
 "cells": [
  {
   "cell_type": "markdown",
   "metadata": {},
   "source": [
    "## Prepare data for preprocess\n",
    "Script to copy .nii files from sorted cohorts to a new cohort that contains only .nii files. I could modify the Matlab code but I do not want to deal with Matlab any more than needed. <br>\n",
    "Also sorts the preprocessed files to cohorts."
   ]
  },
  {
   "cell_type": "markdown",
   "metadata": {},
   "source": [
    "### Before preprocess"
   ]
  },
  {
   "cell_type": "code",
   "execution_count": 1,
   "metadata": {},
   "outputs": [],
   "source": [
    "import os \n",
    "import shutil\n",
    "import re"
   ]
  },
  {
   "cell_type": "code",
   "execution_count": 2,
   "metadata": {},
   "outputs": [],
   "source": [
    "ncPath = '../../NACC_data/sorted_cohorts/NC_simple/'\n",
    "mciPath = '../../NACC_data/sorted_cohorts/MCI_simple/'\n",
    "alzdPath = '../../NACC_data/sorted_cohorts/ALZD_simple/'\n",
    "transPath = '../../NACC_data/sorted_cohorts/TRANS_simple/'\n",
    "\n",
    "ncPath_nii = '../../NACC_data/sorted_cohorts/NC_nii/'\n",
    "mciPath_nii = '../../NACC_data/sorted_cohorts/MCI_nii/'\n",
    "alzdPath_nii = '../../NACC_data/sorted_cohorts/ALZD_nii/'\n",
    "transPath_nii = '../../NACC_data/sorted_cohorts/TRANS_nii/'"
   ]
  },
  {
   "cell_type": "code",
   "execution_count": 3,
   "metadata": {},
   "outputs": [],
   "source": [
    "# Convert the relative path to an absolute path\n",
    "ncPath = os.path.abspath(ncPath)\n",
    "mciPath = os.path.abspath(mciPath)\n",
    "alzdPath = os.path.abspath(alzdPath)\n",
    "transPath = os.path.abspath(transPath)\n",
    "\n",
    "ncPath_nii = os.path.abspath(ncPath_nii)\n",
    "mciPath_nii = os.path.abspath(mciPath_nii)\n",
    "alzdPath_nii = os.path.abspath(alzdPath_nii)\n",
    "transPath_nii = os.path.abspath(transPath_nii)\n",
    "\n",
    "# Modify the absolute path for long path support on Windows\n",
    "if os.name == 'nt':                     # Check if the operating system is Windows\n",
    "    ncPath = '\\\\\\\\?\\\\' + ncPath\n",
    "    mciPath = '\\\\\\\\?\\\\' + mciPath\n",
    "    alzdPath = '\\\\\\\\?\\\\' + alzdPath\n",
    "    transPath = '\\\\\\\\?\\\\' + transPath\n",
    "\n",
    "    ncPath_nii = '\\\\\\\\?\\\\' + ncPath_nii\n",
    "    mciPath_nii = '\\\\\\\\?\\\\' + mciPath_nii\n",
    "    alzdPath_nii = '\\\\\\\\?\\\\' + alzdPath_nii\n",
    "    transPath_nii = '\\\\\\\\?\\\\' + transPath_nii"
   ]
  },
  {
   "cell_type": "code",
   "execution_count": 4,
   "metadata": {},
   "outputs": [],
   "source": [
    "def copy_nii(cohortPath, targetPath):\n",
    "\n",
    "    for folder in os.listdir(cohortPath):\n",
    "\n",
    "        folder_fp = os.path.join(cohortPath, folder)\n",
    "\n",
    "        for file in os.listdir(folder_fp):\n",
    "\n",
    "            file_fp = os.path.join(folder_fp, file)\n",
    "\n",
    "            if file.endswith('.nii'):\n",
    "\n",
    "                shutil.copy2(file_fp, targetPath)"
   ]
  },
  {
   "cell_type": "code",
   "execution_count": 5,
   "metadata": {},
   "outputs": [],
   "source": [
    "#copy_nii(alzdPath, alzdPath_nii)"
   ]
  },
  {
   "cell_type": "code",
   "execution_count": 6,
   "metadata": {},
   "outputs": [],
   "source": [
    "#copy_nii(mciPath, mciPath_nii)"
   ]
  },
  {
   "cell_type": "code",
   "execution_count": 7,
   "metadata": {},
   "outputs": [],
   "source": [
    "#copy_nii(transPath, transPath_nii)"
   ]
  },
  {
   "cell_type": "code",
   "execution_count": 8,
   "metadata": {},
   "outputs": [],
   "source": [
    "#copy_nii(ncPath, ncPath_nii)"
   ]
  },
  {
   "cell_type": "markdown",
   "metadata": {},
   "source": [
    "### After preprocess"
   ]
  },
  {
   "cell_type": "code",
   "execution_count": 9,
   "metadata": {},
   "outputs": [],
   "source": [
    "# original sorted cohorts\n",
    "ncPath = '../../NACC_data/sorted_cohorts/NC_simple/'\n",
    "mciPath = '../../NACC_data/sorted_cohorts/MCI_simple/'\n",
    "alzdPath = '../../NACC_data/sorted_cohorts/ALZD_simple/'\n",
    "transPath = '../../NACC_data/sorted_cohorts/TRANS_simple/'\n",
    "\n",
    "# preprocessed cohorts \n",
    "ncPath_preprocessed = '../../NACC_data/preprocessed_cohorts/NC_preprocessed/'\n",
    "mciPath_preprocessed = '../../NACC_data/preprocessed_cohorts/MCI_preprocessed/'\n",
    "alzdPath_preprocessed = '../../NACC_data/preprocessed_cohorts/ALZD_preprocessed/'\n",
    "transPath_preprocessed = '../../NACC_data/preprocessed_cohorts/TRANS_preprocessed/'\n",
    "\n",
    "# target, sorted preprocessed cohorts with same folder structure as original sorted cohorts\n",
    "ncPath_sorted = '../../NACC_data/sorted_preprocessed_cohorts/NC/'\n",
    "mciPath_sorted = '../../NACC_data/sorted_preprocessed_cohorts/MCI/'\n",
    "alzdPath_sorted = '../../NACC_data/sorted_preprocessed_cohorts/ALZD/'\n",
    "transPath_sorted = '../../NACC_data/sorted_preprocessed_cohorts/TRANS/'"
   ]
  },
  {
   "cell_type": "code",
   "execution_count": 10,
   "metadata": {},
   "outputs": [],
   "source": [
    "# Convert the relative path to an absolute path\n",
    "ncPath = os.path.abspath(ncPath)\n",
    "mciPath = os.path.abspath(mciPath)\n",
    "alzdPath = os.path.abspath(alzdPath)\n",
    "transPath = os.path.abspath(transPath)\n",
    "\n",
    "ncPath_preprocessed = os.path.abspath(ncPath_preprocessed)\n",
    "mciPath_preprocessed = os.path.abspath(mciPath_preprocessed)\n",
    "alzdPath_preprocessed = os.path.abspath(alzdPath_preprocessed)\n",
    "transPath_preprocessed = os.path.abspath(transPath_preprocessed)\n",
    "\n",
    "ncPath_sorted = os.path.abspath(ncPath_sorted)\n",
    "mciPath_sorted = os.path.abspath(mciPath_sorted)\n",
    "alzdPath_sorted = os.path.abspath(alzdPath_sorted)\n",
    "transPath_sorted = os.path.abspath(transPath_sorted)\n",
    "\n",
    "# Modify the absolute path for long path support on Windows\n",
    "if os.name == 'nt':                     # Check if the operating system is Windows\n",
    "    ncPath = '\\\\\\\\?\\\\' + ncPath\n",
    "    mciPath = '\\\\\\\\?\\\\' + mciPath\n",
    "    alzdPath = '\\\\\\\\?\\\\' + alzdPath\n",
    "    transPath = '\\\\\\\\?\\\\' + transPath\n",
    "\n",
    "    ncPath_preprocessed = '\\\\\\\\?\\\\' + ncPath_preprocessed\n",
    "    mciPath_preprocessed = '\\\\\\\\?\\\\' + mciPath_preprocessed\n",
    "    alzdPath_preprocessed = '\\\\\\\\?\\\\' + alzdPath_preprocessed\n",
    "    transPath_preprocessed = '\\\\\\\\?\\\\' + transPath_preprocessed\n",
    "\n",
    "    ncPath_sorted = '\\\\\\\\?\\\\' + ncPath_sorted\n",
    "    mciPath_sorted = '\\\\\\\\?\\\\' + mciPath_sorted\n",
    "    alzdPath_sorted = '\\\\\\\\?\\\\' + alzdPath_sorted\n",
    "    transPath_sorted = '\\\\\\\\?\\\\' + transPath_sorted"
   ]
  },
  {
   "cell_type": "markdown",
   "metadata": {},
   "source": [
    "This function crates a new cohort with same structure as original sorted cohorts, but including the preprocessed files and original .json file instead of raw files."
   ]
  },
  {
   "cell_type": "code",
   "execution_count": 13,
   "metadata": {},
   "outputs": [],
   "source": [
    "def sort_to_cohorts(ogPath, preprocessedPath, targetPath):\n",
    "\n",
    "    # iterate throught all folders in orignal sorted cohorts\n",
    "    for folder in os.listdir(ogPath):\n",
    "        # extract the name of folder\n",
    "        parent_folder_name = os.path.basename(folder.rstrip(os.sep))\n",
    "\n",
    "        # create a new folder in target path based on parent folder name\n",
    "        target_folder = os.path.join(targetPath, parent_folder_name)\n",
    "        os.makedirs(target_folder, exist_ok=True)\n",
    "\n",
    "        # path of the folder \n",
    "        folder_path = os.path.join(ogPath, folder)\n",
    "\n",
    "        # iterate over files in folder\n",
    "        for file in os.listdir(folder_path):\n",
    "            # file path\n",
    "            file_path = os.path.join(folder_path, file)\n",
    "\n",
    "            # copy the .json file into the target folder\n",
    "            if file.endswith('.json'):\n",
    "                shutil.copy2(file_path, target_folder)\n",
    "\n",
    "            if file.endswith('.nii'):\n",
    "                # getting the name of the .nii file\n",
    "                file_name = os.path.basename(file)\n",
    "\n",
    "        # iterating throught preprocessed files\n",
    "        for f in os.listdir(preprocessedPath):\n",
    "\n",
    "            # file path\n",
    "            f_path = os.path.join(preprocessedPath, f)\n",
    "\n",
    "            # checking if the file_name matches with file name f\n",
    "            if file_name in f:\n",
    "                # moving the f to the new target_folder\n",
    "                shutil.move(f_path, target_folder)"
   ]
  },
  {
   "cell_type": "code",
   "execution_count": 33,
   "metadata": {},
   "outputs": [],
   "source": [
    "# sort_to_cohorts(alzdPath, alzdPath_preprocessed, alzdPath_sorted)"
   ]
  },
  {
   "cell_type": "code",
   "execution_count": 14,
   "metadata": {},
   "outputs": [],
   "source": [
    "#sort_to_cohorts(mciPath, mciPath_preprocessed, mciPath_sorted)"
   ]
  }
 ],
 "metadata": {
  "kernelspec": {
   "display_name": "Python 3",
   "language": "python",
   "name": "python3"
  },
  "language_info": {
   "codemirror_mode": {
    "name": "ipython",
    "version": 3
   },
   "file_extension": ".py",
   "mimetype": "text/x-python",
   "name": "python",
   "nbconvert_exporter": "python",
   "pygments_lexer": "ipython3",
   "version": "3.12.6"
  }
 },
 "nbformat": 4,
 "nbformat_minor": 2
}
