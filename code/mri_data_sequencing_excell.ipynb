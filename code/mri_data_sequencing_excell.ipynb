{
 "cells": [
  {
   "cell_type": "markdown",
   "metadata": {},
   "source": [
    "## Adding sequencing type to .csv files\n",
    "In this script I will read all the .json files in my sorted cohorts, find out how many \"different\" types of FPSGR and MPRAGE sequencing I have and write it down in .csv files. "
   ]
  },
  {
   "cell_type": "code",
   "execution_count": 17,
   "metadata": {},
   "outputs": [],
   "source": [
    "import pandas as pd\n",
    "import os\n",
    "import json"
   ]
  },
  {
   "cell_type": "markdown",
   "metadata": {},
   "source": [
    "Loading data from sorted cohorts."
   ]
  },
  {
   "cell_type": "code",
   "execution_count": 9,
   "metadata": {},
   "outputs": [],
   "source": [
    "ncPath = '../../NACC_data/sorted_cohorts/NC_simple/'\n",
    "mciPath = '../../NACC_data/sorted_cohorts/MCI_simple/'\n",
    "alzdPath = '../../NACC_data/sorted_cohorts/ALZD_simple/'\n",
    "transPath = '../../NACC_data/sorted_cohorts/TRANS_simple/'\n",
    "\n",
    "ncPath = os.path.abspath(ncPath)\n",
    "mciPath = os.path.abspath(mciPath)\n",
    "alzdPath = os.path.abspath(alzdPath)\n",
    "transPath = os.path.abspath(transPath)\n",
    "\n",
    "if os.name == 'nt':                   \n",
    "    ncPath = '\\\\\\\\?\\\\' + ncPath\n",
    "    mciPath = '\\\\\\\\?\\\\' + mciPath\n",
    "    alzdPath = '\\\\\\\\?\\\\' + alzdPath\n",
    "    transPath = '\\\\\\\\?\\\\' + transPath"
   ]
  },
  {
   "cell_type": "markdown",
   "metadata": {},
   "source": [
    "Reading the filenames in sorted cohorts, reading the .json file and storing the sequencing info to a dictionary."
   ]
  },
  {
   "cell_type": "code",
   "execution_count": 31,
   "metadata": {},
   "outputs": [],
   "source": [
    "def store_to_dic(path):\n",
    "\n",
    "    dic = {}                      # to store filenames and protocol name\n",
    "\n",
    "    for folder in os.listdir(path):      # all folder in cohort\n",
    "\n",
    "        folder_fp = os.path.join(path, folder)\n",
    "        \n",
    "        for files in os.listdir(folder_fp):     \n",
    "\n",
    "            # extracting only .json files\n",
    "            if files.endswith('.json'):\n",
    "\n",
    "                json_fp = os.path.join(folder_fp, files)\n",
    "\n",
    "                with open(json_fp, 'r') as f:\n",
    "                    json_data = json.load(f)\n",
    "            \n",
    "                # reading protocol name\n",
    "                protocol_name = json_data.get('ProtocolName', \"\")\n",
    "\n",
    "                # saving data to dictionary\n",
    "                dic['{}'.format(folder)] = '{}'.format(protocol_name)\n",
    "\n",
    "    return dic"
   ]
  },
  {
   "cell_type": "code",
   "execution_count": 32,
   "metadata": {},
   "outputs": [],
   "source": [
    "nc_dic = store_to_dic(ncPath)\n",
    "mci_dic = store_to_dic(mciPath)\n",
    "alzd_dic = store_to_dic(alzdPath)\n",
    "trans_dic = store_to_dic(transPath)"
   ]
  },
  {
   "cell_type": "markdown",
   "metadata": {},
   "source": [
    "Sanity check."
   ]
  },
  {
   "cell_type": "code",
   "execution_count": 45,
   "metadata": {},
   "outputs": [
    {
     "name": "stdout",
     "output_type": "stream",
     "text": [
      "{'1018_NACC862393_20161122ni': 'MPRAGE_GRAPPA2', '1018_NACC862393_20191003ni': 'MPRAGE_GRAPPA2', 'mri5006ni': 'IR-FSPGR_TI=500_FA=10', 'mri5008ni': 'IR-FSPGR_TI=500_FA=10', 'mri5038ni': 'IR-FSPGR_TI=500_FA=10', 'mri5039ni': 'IR-FSPGR_TI=500_FA=10', 'mri5040ni': 'IR-FSPGR_TI=500_FA=10', 'mri5041ni': 'IR-FSPGR_TI=500_FA=10', 'mri5043ni': 'MP-RAGE', 'mri5044ni': 'MP-RAGE_REPEAT', 'mri5045ni': 'MP-RAGE', 'mri5046ni': 'MP-RAGE_REPEAT', 'mri5052ni': 'MP-RAGE', 'mri5053ni': 'MP-RAGE_REPEAT', 'mri5054ni': 'MP-RAGE', 'mri5055ni': 'MP-RAGE_REPEAT', 'mri5066ni': 'IR-FSPGR_TI=500_FA=10', 'mri5067ni': 'IR-FSPGR_TI=500_FA=10', 'mri5082ni': 'IR-FSPGR_TI=500_FA=10', 'mri5083ni': 'IR-FSPGR_TI=500_FA=10', 'mri5105ni': 'IR-FSPGR_TI=500_FA=10', 'mri5106ni': 'IR-FSPGR_TI=500_FA=10', 'mri5111ni': 'MP-RAGE', 'mri5116ni': 'IR-FSPGR_TI=500_FA=10', 'mri5170ni': 'IR-FSPGR_TI=500_FA=10', 'mri5171ni': 'IR-FSPGR_TI=500_FA=10', 'mri5197ni': 'IR-FSPGR_TI=500_FA=10', 'mri5198ni': 'IR-FSPGR_TI=500_FA=10', 'mri5199ni': 'IR-FSPGR_TI=500_FA=10', 'mri5213ni': 'IR-FSPGR_TI=500_FA=10', 'mri5214ni': 'IR-FSPGR_TI=500_FA=10', 'mri5221ni': 'IR-FSPGR_TI=500_FA=10', 'mri5222ni': 'IR-FSPGR_TI=500_FA=10', 'mri5223ni': 'IR-FSPGR_TI=500_FA=10', 'mri5226ni': 'IR-FSPGR_TI=500_FA=10', 'mri5227ni': 'IR-FSPGR_TI=500_FA=10', 'mri5229ni': 'IR-FSPGR_TI=500_FA=10', 'mri5230ni': 'IR-FSPGR_TI=500_FA=10', 'mri5231ni': 'IR-FSPGR_TI=500_FA=10', 'mri5255ni': 'IR-FSPGR_TI=500_FA=10', 'mri5256ni': 'IR-FSPGR_TI=500_FA=10', 'mri5270ni': 'FSPGR_3D_SAG', 'mri5271ni': 'FSPGR_SAG_TI450', 'mri5287ni': 'IR-FSPGR_TI=500_FA=10', 'mri5288ni': 'IR-FSPGR_TI=500_FA=10', 'mri5289ni': 'IR-FSPGR_TI=500_FA=10', 'NACC026620_128401136192134176253428326511239028310365ni': 'FSPGR_rhuser1=-376_rhuser2=10', 'NACC026620_128401136192134176253428328301320170862500ni': 'FSPGR_rhuser1=-376_rhuser2=10', 'NACC202639_1284011361921341762534283238513557742765ni': 'FSPGR_rhuser1=-376_rhuser2=10', 'NACC202639_128401136192134176253428342581290618889975ni': 'FSPGR_rhuser1=-376_rhuser2=10', 'NACC208653_128401136192134176253428319381340125836496ni': 'FSPGR_rhuser1=-376_rhuser2=10', 'NACC208653_128401136192134176253428326351278950641243ni': 'FSPGR_rhuser1=-376_rhuser2=10', 'NACC218038_128401136192134176253428320111289928993400ni': 'FSPGR_rhuser1=-376_rhuser2=10', 'NACC218038_128401136192134176253428320941158073951216ni': 'FSPGR_rhuser1=-376_rhuser2=1?', 'NACC221053_13122110752323504330000010040512302807800000037ni': 'MPRAGE-ADNI', 'NACC221053_13122110752323504330000012110513012607800000052ni': 'MPRAGE-ADNI', 'NACC232407_128401136192134176253428319461310164208249ni': 'FSPGR_rhuser1=-376_rhuser2=10', 'NACC232407_128401136192134176253428320961144340560167ni': 'FSPGR_rhuser1=-376_rhuser2=1?', 'NACC238353_128401136192134176253428327101255447694501ni': 'FSPGR_rhuser1=-376_rhuser2=10', 'NACC238353_128401136192134176253428335731224794316524ni': 'FSPGR_rhuser1=-376_rhuser2=10', 'NACC269863_128401136192134176253428319461310164225673ni': 'FSPGR_rhuser1=-376_rhuser2=10', 'NACC269863_128401136192134176253428321521212526881795ni': 'FSPGR_rhuser1=-376_rhuser2=10', 'NACC331862_13122110752436602730000015051312084911200000010ni': 'MPRAGE_GRAPPA_ADNI', 'NACC331862_13122110752436602730000016101812334459500000016ni': 'MPRAGE_GRAPPA_ADNI', 'NACC340499_12840113745101000100200039418526423555173ni': 'MPRAGE', 'NACC340499_12840113745101000100200040510647329177048ni': 'SAG_3D_MPRAGE', 'NACC340499_13122110752122123630000011041215380328100001757ni': 'SAG_3D_MPRAGE', 'NACC348810_128401136192134176253428334271168293385507ni': 'FSPGR_rhuser1=-376_rhuser2=1?', 'NACC348810_128401136192134176253428334481259692395704ni': 'FSPGR_rhuser1=-376_rhuser2=10', 'NACC356611_12840113619213417625342832910127379145561ni': 'FSPGR_rhuser1=-376_rhuser2=10', 'NACC356611_128401136192134176253428353861149170656561ni': 'FSPGR_rhuser1=-376_rhuser2=10', 'NACC360216_128401136192134176253428319391304962979642ni': 'FSPGR_rhuser1=-376_rhuser2=10', 'NACC360216_128401136192134176253428336311234368432549ni': 'FSPGR_rhuser1=-376_rhuser2=10', 'NACC426385_128401136192134176253428319391304963023663ni': 'FSPGR_rhuser1=-376_rhuser2=10', 'NACC426385_12840113619213417625342831941124085073562ni': 'FSPGR_rhuser1=-376_rhuser2=10', 'NACC510442_12840113619213417625342832847125484678047ni': 'FSPGR_rhuser1=-376_rhuser2=10', 'NACC510442_1312211075992309730000012052117321218700017380ni': 'FSPGR_rhuser1=-376_rhuser2=10', 'NACC560745_13122110752323504330000010051712084337500000010ni': 'MPRAGE_GRAPPA2_repeat', 'NACC560745_13122110752323504330000011061312381431200000046ni': 'MPRAGE-ADNI', 'NACC574405_128401136192134176253428324911283958681280ni': 'FSPGR_rhuser1=-376_rhuser2=10', 'NACC574405_128401136192134176253428348401337101984122ni': 'FSPGR_rhuser1=-376_rhuser2=10', 'NACC597068_12840113619213417625342831942134911239623ni': 'FSPGR_rhuser1=-376_rhuser2=10', 'NACC597068_12840113619213417625342831953131257466437ni': 'FSPGR_rhuser1=-376_rhuser2=10', 'NACC637310_128401136192134176253428319421300140323856ni': 'FSPGR_rhuser1=-376_rhuser2=10', 'NACC637310_12840113619225117625342831234460870362ni': 'FSPGR_rhuser1=-376_rhuser2=10', 'NACC661545_128401136192134176253428326351188937051917ni': 'FSPGR_rhuser1=-376_rhuser2=10', 'NACC661545_128401136192134176253428334481259692441310ni': 'FSPGR_rhuser1=-376_rhuser2=10', 'NACC664757_128401136192134176253428328921183046540857ni': 'FSPGR_rhuser1=-376_rhuser2=10', 'NACC664757_128401136192134176253428329121280511623922ni': 'FSPGR_rhuser1=-376_rhuser2=10', 'NACC702272_12840113619213417625342832152121252688239ni': 'FSPGR_rhuser1=-376_rhuser2=1?', 'NACC702272_128401136192134176253428336891313525826619ni': 'FSPGR_rhuser1=-376_rhuser2=10', 'NACC716555_128401136192134176253428331401323807810251ni': 'FSPGR_rhuser1=-376_rhuser2=10', 'NACC716555_128401136192134176253428334481259692304709ni': 'FSPGR_rhuser1=-376_rhuser2=1?', 'NACC727805_13122110752436602730000016040711594371200000007ni': 'MPRAGE_GRAPPA_ADNI', 'NACC727805_13122110752436602730000017052512504735700000007ni': 'MPRAGE_GRAPPA_ADNI', 'NACC787248_12840113619213417625342832977125486922395ni': 'FSPGR_rhuser1=-376_rhuser2=10', 'NACC787248_128401136192134176253428332741326220804905ni': 'FSPGR_rhuser1=-376_rhuser2=10', 'NACC807499_1284011361921341762534283194113295005734ni': 'FSPGR_rhuser1=-376_rhuser2=10', 'NACC807499_128401136192134176253428335121257275209467ni': 'FSPGR_rhuser1=-376_rhuser2=10', 'NACC905292_12840113619213417625342831936127255293051ni': 'FSPGR_rhuser1=-376_rhuser2=10', 'NACC905292_128401136192134176253428319411240850745981ni': 'FSPGR_rhuser1=-376_rhuser2=10'}\n",
      "101\n"
     ]
    }
   ],
   "source": [
    "print(alzd_dic)\n",
    "print(len(alzd_dic))"
   ]
  },
  {
   "cell_type": "markdown",
   "metadata": {},
   "source": [
    "Loading .csv files"
   ]
  },
  {
   "cell_type": "code",
   "execution_count": 57,
   "metadata": {},
   "outputs": [],
   "source": [
    "loadPath = '../../NACC_data/sorted_cohorts/0csv/'\n",
    "savePath = '../../NACC_data/sorted_cohorts/0csv/'"
   ]
  },
  {
   "cell_type": "code",
   "execution_count": 58,
   "metadata": {},
   "outputs": [],
   "source": [
    "nc_df = pd.read_csv(loadPath + 'nc_v3.csv')\n",
    "mci_df = pd.read_csv(loadPath + 'mci_v3.csv')\n",
    "alzd_df = pd.read_csv(loadPath + 'alzd_v3.csv')\n",
    "trans_df = pd.read_csv(loadPath + 'trans_v3.csv')"
   ]
  },
  {
   "cell_type": "markdown",
   "metadata": {},
   "source": [
    "Writing the data to new .csv files. Just change the variables nc to mci for example."
   ]
  },
  {
   "cell_type": "code",
   "execution_count": 71,
   "metadata": {},
   "outputs": [],
   "source": [
    "nc_df['PTCLNAME'] = ''  # Empty column to be filled with the sequencing type\n",
    "nc_df['MPRAGE'] = 0      # Default 0 for MPRAGE\n",
    "nc_df['FSPGR'] = 0       # Default 0 for FSPGR\n",
    "\n",
    "# Iterate over the rows and update the new columns based on the dictionary\n",
    "for index, row in nc_df.iterrows():\n",
    "    # Get the current NACCMRFI\n",
    "    nacmrfi = row['NACCMRFI']\n",
    "    \n",
    "    # Check if NACCMRFI is in the dictionary\n",
    "    if nacmrfi in nc_dic:\n",
    "\n",
    "        ptclname = nc_dic[nacmrfi]\n",
    "        \n",
    "        # Set PTCLNAME\n",
    "        nc_df.at[index, 'PTCLNAME'] = ptclname\n",
    "        \n",
    "        # Set MPRAGE (1 if 'MPRAGE' is in the sequencing type)\n",
    "        if 'MPRAGE' in ptclname:\n",
    "            nc_df.at[index, 'MPRAGE'] = 1\n",
    "        \n",
    "        # Set FSPGR (1 if 'FSPGR' is in the sequencing type)\n",
    "        if 'FSPGR' in ptclname:\n",
    "            nc_df.at[index, 'FSPGR'] = 1"
   ]
  },
  {
   "cell_type": "code",
   "execution_count": 72,
   "metadata": {},
   "outputs": [],
   "source": [
    "# Reorder the columns\n",
    "new_column_order = ['NACCID', 'NACCMNUM', 'MRIMO', 'MRIDY', 'MRIYR', 'NACCMRIA', 'NACCVNUM', \n",
    "                    'VISITMO', 'VISITDAY', 'VISITYR', 'NACCUDSD', 'NACCALZD', 'PTCLNAME', \n",
    "                    'MPRAGE', 'FSPGR', 'NACCMRFI']\n",
    "\n",
    "nc_df = nc_df[new_column_order]"
   ]
  },
  {
   "cell_type": "code",
   "execution_count": 73,
   "metadata": {},
   "outputs": [
    {
     "name": "stdout",
     "output_type": "stream",
     "text": [
      "Updated DataFrame saved to 'nc_v4.csv'\n"
     ]
    }
   ],
   "source": [
    "#nc_df.to_csv(savePath + 'nc_v4.csv', index=False)\n",
    "#print(\"Updated DataFrame saved to 'nc_v4.csv'\")"
   ]
  }
 ],
 "metadata": {
  "kernelspec": {
   "display_name": "Python 3",
   "language": "python",
   "name": "python3"
  },
  "language_info": {
   "codemirror_mode": {
    "name": "ipython",
    "version": 3
   },
   "file_extension": ".py",
   "mimetype": "text/x-python",
   "name": "python",
   "nbconvert_exporter": "python",
   "pygments_lexer": "ipython3",
   "version": "3.12.6"
  }
 },
 "nbformat": 4,
 "nbformat_minor": 2
}
