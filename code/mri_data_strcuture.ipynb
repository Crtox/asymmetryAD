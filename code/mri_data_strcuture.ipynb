{
 "cells": [
  {
   "cell_type": "markdown",
   "metadata": {},
   "source": [
    "## Changing the structure of data\n",
    "Changing the structure and substructure of my sorted data in cohorts. I want to get rid of all substructue and move all .nii and .json files into the first folder."
   ]
  }
 ],
 "metadata": {
  "language_info": {
   "name": "python"
  }
 },
 "nbformat": 4,
 "nbformat_minor": 2
}
