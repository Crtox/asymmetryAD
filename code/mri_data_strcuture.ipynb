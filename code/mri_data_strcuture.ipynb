{
 "cells": [
  {
   "cell_type": "markdown",
   "metadata": {},
   "source": [
    "## Changing the structure of data\n",
    "Changing the structure and substructure of my sorted data in cohorts. I want to get rid of all substructue and move all .nii and .json files into the first folder."
   ]
  },
  {
   "cell_type": "code",
   "execution_count": 53,
   "metadata": {},
   "outputs": [],
   "source": [
    "import pandas as pd\n",
    "import matplotlib.pyplot as plt\n",
    "import numpy as np\n",
    "import os \n",
    "import re\n",
    "import shutil"
   ]
  },
  {
   "cell_type": "code",
   "execution_count": 54,
   "metadata": {},
   "outputs": [],
   "source": [
    "# original cohorts' paths\n",
    "ncPath = '../../NACC_data/sorted_cohorts/NC/'\n",
    "mciPath = '../../NACC_data/sorted_cohorts/MCI/'\n",
    "alzdPath = '../../NACC_data/sorted_cohorts/ALZD/'\n",
    "transPath = '../../NACC_data/sorted_cohorts/TRANS/'\n",
    "\n",
    "# path to new, to be simply structured cohorts (s = simple)\n",
    "s_ncPath = '../../NACC_data/sorted_cohorts/NC_simple/'\n",
    "s_mciPath = '../../NACC_data/sorted_cohorts/MCI_simple/'\n",
    "s_alzdPath = '../../NACC_data/sorted_cohorts/ALZD_simple/'\n",
    "s_transPath = '../../NACC_data/sorted_cohorts/TRANS_simple/'"
   ]
  },
  {
   "cell_type": "code",
   "execution_count": 55,
   "metadata": {},
   "outputs": [],
   "source": [
    "# Convert the relative path to an absolute path\n",
    "ncPath = os.path.abspath(ncPath)\n",
    "mciPath = os.path.abspath(mciPath)\n",
    "alzdPath = os.path.abspath(alzdPath)\n",
    "transPath = os.path.abspath(transPath)\n",
    "\n",
    "s_ncPath = os.path.abspath(s_ncPath)\n",
    "s_mciPath = os.path.abspath(s_mciPath)\n",
    "s_alzdPath = os.path.abspath(s_alzdPath)\n",
    "s_transPath = os.path.abspath(s_transPath)\n",
    "\n",
    "# Modify the absolute path for long path support on Windows\n",
    "if os.name == 'nt':                     # Check if the operating system is Windows\n",
    "    ncPath = '\\\\\\\\?\\\\' + ncPath\n",
    "    mciPath = '\\\\\\\\?\\\\' + mciPath\n",
    "    alzdPath = '\\\\\\\\?\\\\' + alzdPath\n",
    "    transPath = '\\\\\\\\?\\\\' + transPath\n",
    "\n",
    "    s_ncPath = '\\\\\\\\?\\\\' + s_ncPath\n",
    "    s_mciPath = '\\\\\\\\?\\\\' + s_mciPath\n",
    "    s_alzdPath = '\\\\\\\\?\\\\' + s_alzdPath\n",
    "    s_transPath = '\\\\\\\\?\\\\' + s_transPath"
   ]
  },
  {
   "cell_type": "markdown",
   "metadata": {},
   "source": [
    "Different possible patterns/naming conventions of my folders (look at \"mri_data_sequencing.ipynb\" for clarification)."
   ]
  },
  {
   "cell_type": "code",
   "execution_count": 56,
   "metadata": {},
   "outputs": [],
   "source": [
    "pattern1 = r'^\\d{4}_'\n",
    "pattern2 = 'mri'\n",
    "pattern3 = 'NACC'"
   ]
  },
  {
   "cell_type": "code",
   "execution_count": 57,
   "metadata": {},
   "outputs": [],
   "source": [
    "# List to store the matching folders\n",
    "matching_folders1 = []\n",
    "matching_folders2 = []\n",
    "matching_folders3 = []"
   ]
  },
  {
   "cell_type": "code",
   "execution_count": 58,
   "metadata": {},
   "outputs": [],
   "source": [
    "# Iterate over the items in the directory\n",
    "for item in os.listdir(alzdPath):\n",
    "    \n",
    "    item_path = os.path.join(alzdPath, item)\n",
    "    # Check if the item is a folder and matches the pattern\n",
    "    if os.path.isdir(item_path) and re.match(pattern1, item):\n",
    "        matching_folders1.append(item_path)\n",
    "\n",
    "    elif os.path.isdir(item_path) and re.match(pattern2, item):\n",
    "        matching_folders2.append(item_path)\n",
    "\n",
    "    elif os.path.isdir(item_path) and re.match(pattern3, item):\n",
    "        matching_folders3.append(item_path)"
   ]
  },
  {
   "cell_type": "markdown",
   "metadata": {},
   "source": [
    "Now we move the .nii and .json files. We cover all three different naming convention by separately iterating throught all three matching folders array. We take into account the substructure of the each tpye of folders."
   ]
  },
  {
   "cell_type": "code",
   "execution_count": 61,
   "metadata": {},
   "outputs": [],
   "source": [
    "for folder in matching_folders1:\n",
    "\n",
    "    # getting only the name of the folder\n",
    "    folder_name = folder.replace('\\\\?\\\\c:\\\\Users\\\\Crt\\\\Desktop\\\\WIMR\\\\asymmetryAD\\\\NACC_data\\\\sorted_cohorts\\\\ALZD\\\\', '')\n",
    "    folder_name = folder_name.replace('\\\\', '')\n",
    "\n",
    "    # Get the path to the subfolder \n",
    "    subfolder_path = os.path.join(folder, os.listdir(folder)[0])       \n",
    "\n",
    "    # copy and rename to original folder name\n",
    "    #shutil.copytree(subfolder_path, s_alzdPath, dirs_exist_ok=True)\n",
    "    #os.rename(s_alzdPath + '\\\\' + os.listdir(subfolder_path)[0], s_alzdPath + '\\\\' + folder_name)"
   ]
  }
 ],
 "metadata": {
  "kernelspec": {
   "display_name": "Python 3",
   "language": "python",
   "name": "python3"
  },
  "language_info": {
   "codemirror_mode": {
    "name": "ipython",
    "version": 3
   },
   "file_extension": ".py",
   "mimetype": "text/x-python",
   "name": "python",
   "nbconvert_exporter": "python",
   "pygments_lexer": "ipython3",
   "version": "3.12.6"
  }
 },
 "nbformat": 4,
 "nbformat_minor": 2
}
