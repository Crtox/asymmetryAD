{
 "cells": [
  {
   "cell_type": "markdown",
   "metadata": {},
   "source": [
    "## Analyzing patients' data"
   ]
  },
  {
   "cell_type": "code",
   "execution_count": null,
   "metadata": {},
   "outputs": [],
   "source": [
    "import pandas as pd"
   ]
  },
  {
   "cell_type": "code",
   "execution_count": null,
   "metadata": {},
   "outputs": [],
   "source": [
    "loadPath = \"./python/\""
   ]
  },
  {
   "cell_type": "markdown",
   "metadata": {},
   "source": [
    "### Frequency of visits per patient"
   ]
  },
  {
   "cell_type": "code",
   "execution_count": null,
   "metadata": {},
   "outputs": [],
   "source": [
    "df = pd.read_csv(loadPath + 'MRIT1_longitudinal.csv')\n",
    "\n",
    "# Count the occurrences of each patient (NACCID) in the dataset\n",
    "naccid_counts = df['NACCID'].value_counts()\n",
    "\n",
    "# Count how many patients have 2 scans, 3 scans, and so on\n",
    "scan_frequency = naccid_counts.value_counts().sort_index()\n",
    "\n",
    "# Printing the results\n",
    "print(\"Number of patients with 2, 3, or more scans:\")\n",
    "print(scan_frequency)"
   ]
  }
 ],
 "metadata": {
  "kernelspec": {
   "display_name": "Python 3",
   "language": "python",
   "name": "python3"
  },
  "language_info": {
   "name": "python",
   "version": "3.12.6"
  }
 },
 "nbformat": 4,
 "nbformat_minor": 2
}
