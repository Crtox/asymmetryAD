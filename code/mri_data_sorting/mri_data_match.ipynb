{
 "cells": [
  {
   "cell_type": "markdown",
   "metadata": {},
   "source": [
    "## Matching MRIT1 scans with UDS visit diagnosis\n",
    "I got two files: MRIT1_longitudinal_narrow_v2.csv and MRIT1_longitudinal_UDS_narrow_v2.csv. <br>\n",
    "<br>\n",
    "First containts MRIT1 scan info, the second containts UDS visit info. Both are narrowed down to the same patients.<br>\n",
    "<br>\n",
    "I want to join those  two files together. "
   ]
  },
  {
   "cell_type": "code",
   "execution_count": 4,
   "metadata": {},
   "outputs": [],
   "source": [
    "import pandas as pd\n",
    "from dateutil import parser\n",
    "import numpy as np"
   ]
  },
  {
   "cell_type": "code",
   "execution_count": 5,
   "metadata": {},
   "outputs": [],
   "source": [
    "loadPath = '../data/'\n",
    "writePath = '../data/'"
   ]
  },
  {
   "cell_type": "code",
   "execution_count": 6,
   "metadata": {},
   "outputs": [],
   "source": [
    "df_scans = pd.read_csv(loadPath + 'MRIT1_longitudinal_narrow_v2.csv')\n",
    "df_uds = pd.read_csv(loadPath + 'MRIT1_longitudinal_UDS_narrow_v2.csv')"
   ]
  },
  {
   "cell_type": "markdown",
   "metadata": {},
   "source": [
    "I want to match UDSD to a MRIT1 scan. I will match the closest MRIT1 scans and UDSD visits together (if they are within 1 year) and discard the others. "
   ]
  },
  {
   "cell_type": "code",
   "execution_count": 7,
   "metadata": {},
   "outputs": [],
   "source": [
    "matched_data = []"
   ]
  },
  {
   "cell_type": "code",
   "execution_count": 8,
   "metadata": {},
   "outputs": [],
   "source": [
    "# Iterate over each unique NACCID in the scan data\n",
    "for naccid in df_scans['NACCID'].unique():\n",
    "\n",
    "    # Filter data for this patient\n",
    "    patient_scans = df_scans[df_scans['NACCID'] == naccid]\n",
    "    patient_uds = df_uds[df_uds['NACCID'] == naccid]\n",
    "    \n",
    "    # Convert scan dates using dateutil.parser\n",
    "    scan_dates = [parser.parse(f\"{row['MRIYR']}-{row['MRIMO']}-{row['MRIDY']}\") for idx, row in patient_scans.iterrows()]\n",
    "    \n",
    "    # Convert UDS visit dates using dateutil.parser\n",
    "    uds_dates = [parser.parse(f\"{row['VISITYR']}-{row['VISITMO']}-{row['VISITDAY']}\") for idx, row in patient_uds.iterrows()]\n",
    "    \n",
    "    # Iterate through each scan to find the closest UDS visit within 1 year\n",
    "    for scan_idx, scan_date in enumerate(scan_dates):\n",
    "        \n",
    "        closest_visit = None\n",
    "        min_diff = pd.Timedelta(days=365)  # 1 year in days\n",
    "        \n",
    "        for uds_idx, uds_date in enumerate(uds_dates):\n",
    "            \n",
    "            time_diff = abs(scan_date - uds_date)\n",
    "            \n",
    "            # Check if the visit is within 1 year of the scan\n",
    "            if time_diff < min_diff:\n",
    "                min_diff = time_diff\n",
    "                closest_visit = uds_idx\n",
    "        \n",
    "        # If a match is found within 1 year, append the data\n",
    "        if closest_visit is not None:\n",
    "            matched_row = {\n",
    "                'NACCID': naccid,\n",
    "                'NACCMNUM': patient_scans.iloc[scan_idx]['NACCMNUM'],\n",
    "                'MRIMO': patient_scans.iloc[scan_idx]['MRIMO'],\n",
    "                'MRIDY': patient_scans.iloc[scan_idx]['MRIDY'],\n",
    "                'MRIYR': patient_scans.iloc[scan_idx]['MRIYR'],\n",
    "                'NACCMRIA': patient_scans.iloc[scan_idx]['NACCMRIA'],\n",
    "                'NACCVNUM': patient_uds.iloc[closest_visit]['NACCVNUM'],\n",
    "                'VISITMO': patient_uds.iloc[closest_visit]['VISITMO'],\n",
    "                'VISITDAY': patient_uds.iloc[closest_visit]['VISITDAY'],\n",
    "                'VISITYR': patient_uds.iloc[closest_visit]['VISITYR'],\n",
    "                'NACCUDSD': patient_uds.iloc[closest_visit]['NACCUDSD'],\n",
    "                'NACCALZD': patient_uds.iloc[closest_visit]['NACCALZD'],\n",
    "                'NACCMRFI': patient_scans.iloc[scan_idx]['NACCMRFI']\n",
    "            }\n",
    "            matched_data.append(matched_row)"
   ]
  },
  {
   "cell_type": "code",
   "execution_count": 9,
   "metadata": {},
   "outputs": [],
   "source": [
    "# Convert matched data to DataFrame \n",
    "matched_df = pd.DataFrame(matched_data)"
   ]
  },
  {
   "cell_type": "markdown",
   "metadata": {},
   "source": [
    "Sanity checks:\n",
    "<br> Number of unique patients should remain the same. \n",
    "<br> Number of total MRIT1 scans should decrease or stay the same."
   ]
  },
  {
   "cell_type": "code",
   "execution_count": 10,
   "metadata": {},
   "outputs": [
    {
     "name": "stdout",
     "output_type": "stream",
     "text": [
      "1377\n",
      "2785\n"
     ]
    }
   ],
   "source": [
    "a = matched_df['NACCID']\n",
    "\n",
    "print(a.nunique())\n",
    "print(len(a))"
   ]
  },
  {
   "cell_type": "code",
   "execution_count": 12,
   "metadata": {},
   "outputs": [
    {
     "name": "stdout",
     "output_type": "stream",
     "text": [
      "Matching complete!\n"
     ]
    }
   ],
   "source": [
    "matched_df.to_csv(writePath + 'MRIT1_UDS_matched.csv', index=False)\n",
    "print(\"Matching complete!\")"
   ]
  },
  {
   "cell_type": "markdown",
   "metadata": {},
   "source": [
    "It seems to me that some patients do not have multiple scans in this file, so I will filter it out again."
   ]
  },
  {
   "cell_type": "code",
   "execution_count": 13,
   "metadata": {},
   "outputs": [],
   "source": [
    "df = pd.read_csv(loadPath + 'MRIT1_UDS_matched.csv')"
   ]
  },
  {
   "cell_type": "code",
   "execution_count": 14,
   "metadata": {},
   "outputs": [],
   "source": [
    "multiple_scans = df['NACCID'].value_counts()\n",
    "multiple_scans = multiple_scans[multiple_scans > 1].index"
   ]
  },
  {
   "cell_type": "code",
   "execution_count": 15,
   "metadata": {},
   "outputs": [],
   "source": [
    "df = df[df['NACCID'].isin(multiple_scans)]"
   ]
  },
  {
   "cell_type": "code",
   "execution_count": 16,
   "metadata": {},
   "outputs": [],
   "source": [
    "df_final = df[['NACCID', 'NACCMNUM', 'MRIMO', 'MRIDY', 'MRIYR',\t'NACCMRIA', 'NACCVNUM',\t'VISITMO', 'VISITDAY', 'VISITYR', 'NACCUDSD', 'NACCALZD', 'NACCMRFI']]\n",
    "df_final.columns = ['NACCID', 'NACCMNUM', 'MRIMO', 'MRIDY', 'MRIYR', 'NACCMRIA', 'NACCVNUM',\t'VISITMO', 'VISITDAY', 'VISITYR', 'NACCUDSD', 'NACCALZD', 'NACCMRFI']"
   ]
  },
  {
   "cell_type": "code",
   "execution_count": 17,
   "metadata": {},
   "outputs": [
    {
     "name": "stdout",
     "output_type": "stream",
     "text": [
      "Data extraction and writing to CSV complete!\n"
     ]
    }
   ],
   "source": [
    "df_final.to_csv(writePath + 'MRIT1_UDS_matched_final.csv', index=False)\n",
    "\n",
    "print(\"Data extraction and writing to CSV complete!\")"
   ]
  },
  {
   "cell_type": "code",
   "execution_count": 18,
   "metadata": {},
   "outputs": [
    {
     "name": "stdout",
     "output_type": "stream",
     "text": [
      "1022\n",
      "2430\n"
     ]
    }
   ],
   "source": [
    "a = df_final['NACCID']\n",
    "\n",
    "print(a.nunique())\n",
    "print(len(a))"
   ]
  }
 ],
 "metadata": {
  "kernelspec": {
   "display_name": "Python 3",
   "language": "python",
   "name": "python3"
  },
  "language_info": {
   "codemirror_mode": {
    "name": "ipython",
    "version": 3
   },
   "file_extension": ".py",
   "mimetype": "text/x-python",
   "name": "python",
   "nbconvert_exporter": "python",
   "pygments_lexer": "ipython3",
   "version": "3.12.6"
  }
 },
 "nbformat": 4,
 "nbformat_minor": 2
}
