{
 "cells": [
  {
   "cell_type": "markdown",
   "metadata": {},
   "source": [
    "# Longitudinal analysis of asymmetry index\n",
    "Črt Rozman <br>\n",
    "October 2024 <br>\n",
    "In this file I will do longitudinal analysis of asymmetry index (AI). I want to look at trajectories of AI during different timepoints, for NC, MCI, demented and transition patients(those whose cognition status declined over time). I want to look at AI for whole brain region and also individual regions, such as frontal lobe, temporal lobe and hippocampus. "
   ]
  },
  {
   "cell_type": "code",
   "execution_count": 4,
   "metadata": {},
   "outputs": [],
   "source": [
    "# Import necessary libraries\n",
    "import os\n",
    "import numpy as np\n",
    "import nibabel as nib\n",
    "import matplotlib.pyplot as plt"
   ]
  },
  {
   "cell_type": "code",
   "execution_count": 5,
   "metadata": {},
   "outputs": [],
   "source": [
    "# paths to preprocessed and sorted cohorts \n",
    "ncPath = '../../NACC_data/sorted_preprocessed_cohorts/NC/'\n",
    "mciPath = '../../NACC_data/sorted_preprocessed_cohorts/MCI/'\n",
    "alzdPath = '../../NACC_data/sorted_preprocessed_cohorts/ALZD/'\n",
    "transPath = '../../NACC_data/sorted_preprocessed_cohorts/TRANS/'"
   ]
  },
  {
   "cell_type": "code",
   "execution_count": 6,
   "metadata": {},
   "outputs": [],
   "source": [
    "ncPath = os.path.abspath(ncPath)\n",
    "mciPath = os.path.abspath(mciPath)\n",
    "alzdPath = os.path.abspath(alzdPath)\n",
    "transPath = os.path.abspath(transPath)\n",
    "\n",
    "# Modify the absolute path for long path support on Windows\n",
    "if os.name == 'nt':                     # Check if the operating system is Windows\n",
    "    ncPath = '\\\\\\\\?\\\\' + ncPath\n",
    "    mciPath = '\\\\\\\\?\\\\' + mciPath\n",
    "    alzdPath = '\\\\\\\\?\\\\' + alzdPath\n",
    "    transPath = '\\\\\\\\?\\\\' + transPath"
   ]
  },
  {
   "cell_type": "code",
   "execution_count": 7,
   "metadata": {},
   "outputs": [],
   "source": [
    "# paths to .csv files that store information about patients' scans. \n",
    "csvPath = \"../../NACC_data/sorted_preprocessed/cohorts/0csv/\""
   ]
  }
 ],
 "metadata": {
  "kernelspec": {
   "display_name": "Python 3",
   "language": "python",
   "name": "python3"
  },
  "language_info": {
   "codemirror_mode": {
    "name": "ipython",
    "version": 3
   },
   "file_extension": ".py",
   "mimetype": "text/x-python",
   "name": "python",
   "nbconvert_exporter": "python",
   "pygments_lexer": "ipython3",
   "version": "3.12.6"
  }
 },
 "nbformat": 4,
 "nbformat_minor": 2
}
