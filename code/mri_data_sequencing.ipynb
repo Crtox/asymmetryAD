{
 "cells": [
  {
   "cell_type": "markdown",
   "metadata": {},
   "source": [
    "## Narrowing the data based on sequencing type\n",
    "Previously I sorted data to 4 cohort (check \"mri_data_sort_to_cohorts.ipynb\"). <br>\n",
    "Now I want to keep only relevant sequencing types: MPRAGE and FSPGR. <br> \n",
    "<br>\n",
    "In my 4 cohorts you can find 3 different naming conventions. I will provide 3 examples, one from each type: <br>\n",
    "1) 1018_NACC282203_20170908ni <br>\n",
    "2) mri129ni<br>\n",
    "3) NACC497363_128401136192134176253428319601354034337135ni<br> \n",
    "\n",
    "The 1) all have MPRAGE sequencing, the 2) all have FSPGR sequencing and some of 3) have FSPGR, some MPRAGE."
   ]
  },
  {
   "cell_type": "code",
   "execution_count": 6,
   "metadata": {},
   "outputs": [],
   "source": [
    "import pandas as pd\n",
    "import matplotlib.pyplot as plt\n",
    "import numpy as np\n",
    "import os \n",
    "import re\n",
    "import shutil"
   ]
  },
  {
   "cell_type": "markdown",
   "metadata": {},
   "source": [
    "### 1) 1018_NACC282203_20170908ni\n",
    "Directory structure example: <br>\n",
    "<br>\n",
    "1018_NACC282203_20170908ni \n",
    "- 1018_NACC282203_20170908 \n",
    "    - Mag_Images_17_1312211075219452552017090815014550782025439000\n",
    "    - mIP_ImagesSW_19_1312211075219452552017090815014550780625438000\n",
    "    - MPRAGE_GRAPPA2_6_1312211075219452552017090814552268696468275000\n",
    "    - Pha_Images_18_1312211075219452552017090815014550782825440000\n",
    "    - SWI_Images_20_1312211075219452552017090815014550784425442000\n",
    "    - T2FLAIRSPACENEW_7_1312211075219452552017090814555267209169171000\n",
    "\n",
    "I will only keep the MPRAGE folder and delete the others."
   ]
  },
  {
   "cell_type": "code",
   "execution_count": 7,
   "metadata": {},
   "outputs": [],
   "source": [
    "ncPath = '../../NACC_data/sorted_cohorts/NC/'\n",
    "mciPath = '../../NACC_data/sorted_cohorts/MCI/'\n",
    "alzdPath = '../../NACC_data/sorted_cohorts/ALZD/'\n",
    "transPath = '../../NACC_data/sorted_cohorts/TRANS/'"
   ]
  },
  {
   "cell_type": "code",
   "execution_count": 8,
   "metadata": {},
   "outputs": [],
   "source": [
    "# Regular expression pattern for folder names starting with 4 digits followed by an underscore\n",
    "pattern = r'^\\d{4}_'"
   ]
  },
  {
   "cell_type": "code",
   "execution_count": 9,
   "metadata": {},
   "outputs": [],
   "source": [
    "# List to store the matching folders\n",
    "matching_folders = []\n",
    "\n",
    "# Iterate over the items in the directory\n",
    "for item in os.listdir(ncPath):\n",
    "    item_path = os.path.join(ncPath, item)\n",
    "    \n",
    "    # Check if the item is a folder and matches the pattern\n",
    "    if os.path.isdir(item_path) and re.match(pattern, item):\n",
    "        matching_folders.append(item_path)"
   ]
  },
  {
   "cell_type": "code",
   "execution_count": 10,
   "metadata": {},
   "outputs": [
    {
     "name": "stdout",
     "output_type": "stream",
     "text": [
      "../../NACC_data/sorted_cohorts/NC/1018_NACC282203_20170908ni\n",
      "../../NACC_data/sorted_cohorts/NC/1018_NACC282203_20201106ni\n",
      "../../NACC_data/sorted_cohorts/NC/1018_NACC711567_20200114ni\n",
      "../../NACC_data/sorted_cohorts/NC/1018_NACC711567_20201214ni\n",
      "../../NACC_data/sorted_cohorts/NC/1018_NACC822475_20171116ni\n",
      "../../NACC_data/sorted_cohorts/NC/1018_NACC822475_20201119ni\n"
     ]
    }
   ],
   "source": [
    "for folder in matching_folders:\n",
    "    print(folder)"
   ]
  },
  {
   "cell_type": "code",
   "execution_count": 11,
   "metadata": {},
   "outputs": [],
   "source": [
    "# Regular expression for MPRAGE subfolder\n",
    "keep_prefix = 'MPRAGE'"
   ]
  },
  {
   "cell_type": "code",
   "execution_count": 12,
   "metadata": {},
   "outputs": [
    {
     "name": "stdout",
     "output_type": "stream",
     "text": [
      "[['Mag_Images_17_1312211075219452552017090815014550782025439000', 'mIP_ImagesSW_19_1312211075219452552017090815014550780625438000', 'MPRAGE_GRAPPA2_6_1312211075219452552017090814552268696468275000', 'Pha_Images_18_1312211075219452552017090815014550782825440000', 'SWI_Images_20_1312211075219452552017090815014550784425442000', 'T2FLAIRSPACENEW_7_1312211075219452552017090814555267209169171000'], ['Mag_Images_14_1312211075219452552020110611062354047895758000', 'mIP_ImagesSW_16_1312211075219452552020110611062354046095757000', 'MPRAGE_GRAPPA2_6_1312211075219452552020110610432126420639580000', 'Pha_Images_15_1312211075219452552020110611062354048995759000', 'SWI_Images_17_1312211075219452552020110611062354050895761000', 'T2FLAIRSPACENEW_7_1312211075219452552020110610555731873340561000'], ['Mag_Images_14_1312211075219452552020011409280154872195758000', 'mIP_ImagesSW_16_1312211075219452552020011409280154870295757000', 'MPRAGE_GRAPPA2_6_1312211075219452552020011409045885927639580000', 'Pha_Images_15_1312211075219452552020011409280154873295759000', 'SWI_Images_17_1312211075219452552020011409280154875295761000', 'T2FLAIRSPACENEW_7_1312211075219452552020011409173471010140570000'], ['Mag_Images_14_1312211075219452552020121409590042455795758000', 'mIP_ImagesSW_16_1312211075219452552020121409590042453995757000', 'MPRAGE_GRAPPA2_6_131221107521945255202012140935373703439580000', 'Pha_Images_15_1312211075219452552020121409590042456895759000', 'SWI_Images_17_1312211075219452552020121409590042459595761000', 'T2FLAIRSPACENEW_7_1312211075219452552020121409481713360140591000'], ['Mag_Images_17_1312211075219452552017111615513299709361899000', 'mIP_ImagesSW_19_1312211075219452552017111615513299708161898000', 'MPRAGE_GRAPPA2_6_131221107521945255201711161545017450704733000', 'Pha_Images_18_1312211075219452552017111615513299710161900000', 'SWI_Images_20_1312211075219452552017111615513299711661902000', 'T2FLAIRSPACENEW_7_1312211075219452552017111615453078586905650000'], ['Mag_Images_14_1312211075219452552020111911104539776900780000', 'mIP_ImagesSW_16_1312211075219452552020111911104539775000779000', 'MPRAGE_GRAPPA2_6_1312211075219452552020111910475241727044602000', 'Pha_Images_15_1312211075219452552020111911104539778000781000', 'SWI_Images_17_1312211075219452552020111911104539779900783000', 'T2FLAIRSPACENEW_7_1312211075219452552020111911002172288245588000']]\n"
     ]
    }
   ],
   "source": [
    "subfs = []\n",
    "\n",
    "# Loop through each folder in matching_folders\n",
    "for folder in matching_folders:\n",
    "\n",
    "    # Get the path to the subfolder (e.g., 1018_NACC282203_20170908)\n",
    "    subfolder_path = os.path.join(folder, os.listdir(folder)[0])         # only 1 subfolder exists at this level\n",
    "\n",
    "    # List all subfolders in the subfolder_path\n",
    "    subfolders = os.listdir(subfolder_path)\n",
    "\n",
    "    subfs.append(subfolders)\n",
    "\n"
   ]
  },
  {
   "cell_type": "code",
   "execution_count": null,
   "metadata": {},
   "outputs": [],
   "source": [
    "for subfolder in subfs:\n",
    "        \n",
    "        subfolder_full_path = os.path.join(subfolder_path, subfolder)\n",
    "        \n",
    "        # Check if the subfolder name starts with 'MPRAGE'\n",
    "        if os.path.isdir(subfolder_full_path) and not subfolder.startswith(keep_prefix):\n",
    "\n",
    "            # If the subfolder doesn't start with 'MPRAGE', delete it\n",
    "            shutil.rmtree(subfolder_full_path)\n",
    "            print(f\"Deleted: {subfolder_full_path}\")\n",
    "        \n",
    "        else:\n",
    "            print(f\"Kept: {subfolder_full_path}\")"
   ]
  }
 ],
 "metadata": {
  "kernelspec": {
   "display_name": "Python 3",
   "language": "python",
   "name": "python3"
  },
  "language_info": {
   "codemirror_mode": {
    "name": "ipython",
    "version": 3
   },
   "file_extension": ".py",
   "mimetype": "text/x-python",
   "name": "python",
   "nbconvert_exporter": "python",
   "pygments_lexer": "ipython3",
   "version": "3.12.6"
  }
 },
 "nbformat": 4,
 "nbformat_minor": 2
}
